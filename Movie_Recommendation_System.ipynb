{
  "nbformat": 4,
  "nbformat_minor": 0,
  "metadata": {
    "colab": {
      "provenance": [],
      "toc_visible": true
    },
    "kernelspec": {
      "name": "python3",
      "display_name": "Python 3"
    },
    "language_info": {
      "name": "python"
    }
  },
  "cells": [
    {
      "cell_type": "code",
      "source": [
        "# Movie Recommendation System #"
      ],
      "metadata": {
        "id": "ZQG-WsZ4gKds"
      },
      "execution_count": null,
      "outputs": []
    },
    {
      "cell_type": "code",
      "source": [
        "# Importing Libraries\n",
        "\n",
        "import pandas as pd\n",
        "import numpy as np"
      ],
      "metadata": {
        "id": "Vw8un7SXq2QF"
      },
      "execution_count": 4,
      "outputs": []
    },
    {
      "cell_type": "markdown",
      "source": [],
      "metadata": {
        "id": "fnyVKk6Wx31I"
      }
    },
    {
      "cell_type": "code",
      "source": [
        "# Importing Data\n",
        "\n",
        "df = pd.read_csv('https://github.com/YBIFoundation/Dataset/raw/main/Movies%20Recommendation.csv')"
      ],
      "metadata": {
        "id": "VHqa_wJ7Ezq0"
      },
      "execution_count": 6,
      "outputs": []
    },
    {
      "cell_type": "code",
      "source": [
        "# Describing Data\n",
        "\n",
        "df.head()"
      ],
      "metadata": {
        "colab": {
          "base_uri": "https://localhost:8080/",
          "height": 672
        },
        "id": "qK9NcgxxE2fc",
        "outputId": "50c8799c-653c-4531-a34d-c8c60232e56a"
      },
      "execution_count": 7,
      "outputs": [
        {
          "output_type": "execute_result",
          "data": {
            "text/plain": [
              "   Movie_ID      Movie_Title                       Movie_Genre Movie_Language  \\\n",
              "0         1       Four Rooms                      Crime Comedy             en   \n",
              "1         2        Star Wars  Adventure Action Science Fiction             en   \n",
              "2         3     Finding Nemo                  Animation Family             en   \n",
              "3         4     Forrest Gump              Comedy Drama Romance             en   \n",
              "4         5  American Beauty                             Drama             en   \n",
              "\n",
              "   Movie_Budget  Movie_Popularity Movie_Release_Date  Movie_Revenue  \\\n",
              "0       4000000         22.876230         09-12-1995        4300000   \n",
              "1      11000000        126.393695         25-05-1977      775398007   \n",
              "2      94000000         85.688789         30-05-2003      940335536   \n",
              "3      55000000        138.133331         06-07-1994      677945399   \n",
              "4      15000000         80.878605         15-09-1999      356296601   \n",
              "\n",
              "   Movie_Runtime  Movie_Vote  ...  \\\n",
              "0           98.0         6.5  ...   \n",
              "1          121.0         8.1  ...   \n",
              "2          100.0         7.6  ...   \n",
              "3          142.0         8.2  ...   \n",
              "4          122.0         7.9  ...   \n",
              "\n",
              "                                      Movie_Homepage  \\\n",
              "0                                                NaN   \n",
              "1  http://www.starwars.com/films/star-wars-episod...   \n",
              "2              http://movies.disney.com/finding-nemo   \n",
              "3                                                NaN   \n",
              "4                      http://www.dreamworks.com/ab/   \n",
              "\n",
              "                                      Movie_Keywords  \\\n",
              "0          hotel new year's eve witch bet hotel room   \n",
              "1        android galaxy hermit death star lightsaber   \n",
              "2  father son relationship harbor underwater fish...   \n",
              "3  vietnam veteran hippie mentally disabled runni...   \n",
              "4  male nudity female nudity adultery midlife cri...   \n",
              "\n",
              "                                      Movie_Overview  \\\n",
              "0  It's Ted the Bellhop's first night on the job....   \n",
              "1  Princess Leia is captured and held hostage by ...   \n",
              "2  Nemo, an adventurous young clownfish, is unexp...   \n",
              "3  A man with a low IQ has accomplished great thi...   \n",
              "4  Lester Burnham, a depressed suburban father in...   \n",
              "\n",
              "                              Movie_Production_House  \\\n",
              "0  [{\"name\": \"Miramax Films\", \"id\": 14}, {\"name\":...   \n",
              "1  [{\"name\": \"Lucasfilm\", \"id\": 1}, {\"name\": \"Twe...   \n",
              "2     [{\"name\": \"Pixar Animation Studios\", \"id\": 3}]   \n",
              "3          [{\"name\": \"Paramount Pictures\", \"id\": 4}]   \n",
              "4  [{\"name\": \"DreamWorks SKG\", \"id\": 27}, {\"name\"...   \n",
              "\n",
              "                            Movie_Production_Country  \\\n",
              "0  [{\"iso_3166_1\": \"US\", \"name\": \"United States o...   \n",
              "1  [{\"iso_3166_1\": \"US\", \"name\": \"United States o...   \n",
              "2  [{\"iso_3166_1\": \"US\", \"name\": \"United States o...   \n",
              "3  [{\"iso_3166_1\": \"US\", \"name\": \"United States o...   \n",
              "4  [{\"iso_3166_1\": \"US\", \"name\": \"United States o...   \n",
              "\n",
              "                      Movie_Spoken_Language  \\\n",
              "0  [{\"iso_639_1\": \"en\", \"name\": \"English\"}]   \n",
              "1  [{\"iso_639_1\": \"en\", \"name\": \"English\"}]   \n",
              "2  [{\"iso_639_1\": \"en\", \"name\": \"English\"}]   \n",
              "3  [{\"iso_639_1\": \"en\", \"name\": \"English\"}]   \n",
              "4  [{\"iso_639_1\": \"en\", \"name\": \"English\"}]   \n",
              "\n",
              "                                       Movie_Tagline  \\\n",
              "0  Twelve outrageous guests. Four scandalous requ...   \n",
              "1       A long time ago in a galaxy far, far away...   \n",
              "2  There are 3.7 trillion fish in the ocean, they...   \n",
              "3  The world will never be the same, once you've ...   \n",
              "4                                       Look closer.   \n",
              "\n",
              "                                          Movie_Cast  \\\n",
              "0  Tim Roth Antonio Banderas Jennifer Beals Madon...   \n",
              "1  Mark Hamill Harrison Ford Carrie Fisher Peter ...   \n",
              "2  Albert Brooks Ellen DeGeneres Alexander Gould ...   \n",
              "3  Tom Hanks Robin Wright Gary Sinise Mykelti Wil...   \n",
              "4  Kevin Spacey Annette Bening Thora Birch Wes Be...   \n",
              "\n",
              "                                          Movie_Crew   Movie_Director  \n",
              "0  [{'name': 'Allison Anders', 'gender': 1, 'depa...   Allison Anders  \n",
              "1  [{'name': 'George Lucas', 'gender': 2, 'depart...     George Lucas  \n",
              "2  [{'name': 'Andrew Stanton', 'gender': 2, 'depa...   Andrew Stanton  \n",
              "3  [{'name': 'Alan Silvestri', 'gender': 2, 'depa...  Robert Zemeckis  \n",
              "4  [{'name': 'Thomas Newman', 'gender': 2, 'depar...       Sam Mendes  \n",
              "\n",
              "[5 rows x 21 columns]"
            ],
            "text/html": [
              "\n",
              "  <div id=\"df-f01da61c-fb89-497f-ad50-071f082b8a0e\" class=\"colab-df-container\">\n",
              "    <div>\n",
              "<style scoped>\n",
              "    .dataframe tbody tr th:only-of-type {\n",
              "        vertical-align: middle;\n",
              "    }\n",
              "\n",
              "    .dataframe tbody tr th {\n",
              "        vertical-align: top;\n",
              "    }\n",
              "\n",
              "    .dataframe thead th {\n",
              "        text-align: right;\n",
              "    }\n",
              "</style>\n",
              "<table border=\"1\" class=\"dataframe\">\n",
              "  <thead>\n",
              "    <tr style=\"text-align: right;\">\n",
              "      <th></th>\n",
              "      <th>Movie_ID</th>\n",
              "      <th>Movie_Title</th>\n",
              "      <th>Movie_Genre</th>\n",
              "      <th>Movie_Language</th>\n",
              "      <th>Movie_Budget</th>\n",
              "      <th>Movie_Popularity</th>\n",
              "      <th>Movie_Release_Date</th>\n",
              "      <th>Movie_Revenue</th>\n",
              "      <th>Movie_Runtime</th>\n",
              "      <th>Movie_Vote</th>\n",
              "      <th>...</th>\n",
              "      <th>Movie_Homepage</th>\n",
              "      <th>Movie_Keywords</th>\n",
              "      <th>Movie_Overview</th>\n",
              "      <th>Movie_Production_House</th>\n",
              "      <th>Movie_Production_Country</th>\n",
              "      <th>Movie_Spoken_Language</th>\n",
              "      <th>Movie_Tagline</th>\n",
              "      <th>Movie_Cast</th>\n",
              "      <th>Movie_Crew</th>\n",
              "      <th>Movie_Director</th>\n",
              "    </tr>\n",
              "  </thead>\n",
              "  <tbody>\n",
              "    <tr>\n",
              "      <th>0</th>\n",
              "      <td>1</td>\n",
              "      <td>Four Rooms</td>\n",
              "      <td>Crime Comedy</td>\n",
              "      <td>en</td>\n",
              "      <td>4000000</td>\n",
              "      <td>22.876230</td>\n",
              "      <td>09-12-1995</td>\n",
              "      <td>4300000</td>\n",
              "      <td>98.0</td>\n",
              "      <td>6.5</td>\n",
              "      <td>...</td>\n",
              "      <td>NaN</td>\n",
              "      <td>hotel new year's eve witch bet hotel room</td>\n",
              "      <td>It's Ted the Bellhop's first night on the job....</td>\n",
              "      <td>[{\"name\": \"Miramax Films\", \"id\": 14}, {\"name\":...</td>\n",
              "      <td>[{\"iso_3166_1\": \"US\", \"name\": \"United States o...</td>\n",
              "      <td>[{\"iso_639_1\": \"en\", \"name\": \"English\"}]</td>\n",
              "      <td>Twelve outrageous guests. Four scandalous requ...</td>\n",
              "      <td>Tim Roth Antonio Banderas Jennifer Beals Madon...</td>\n",
              "      <td>[{'name': 'Allison Anders', 'gender': 1, 'depa...</td>\n",
              "      <td>Allison Anders</td>\n",
              "    </tr>\n",
              "    <tr>\n",
              "      <th>1</th>\n",
              "      <td>2</td>\n",
              "      <td>Star Wars</td>\n",
              "      <td>Adventure Action Science Fiction</td>\n",
              "      <td>en</td>\n",
              "      <td>11000000</td>\n",
              "      <td>126.393695</td>\n",
              "      <td>25-05-1977</td>\n",
              "      <td>775398007</td>\n",
              "      <td>121.0</td>\n",
              "      <td>8.1</td>\n",
              "      <td>...</td>\n",
              "      <td>http://www.starwars.com/films/star-wars-episod...</td>\n",
              "      <td>android galaxy hermit death star lightsaber</td>\n",
              "      <td>Princess Leia is captured and held hostage by ...</td>\n",
              "      <td>[{\"name\": \"Lucasfilm\", \"id\": 1}, {\"name\": \"Twe...</td>\n",
              "      <td>[{\"iso_3166_1\": \"US\", \"name\": \"United States o...</td>\n",
              "      <td>[{\"iso_639_1\": \"en\", \"name\": \"English\"}]</td>\n",
              "      <td>A long time ago in a galaxy far, far away...</td>\n",
              "      <td>Mark Hamill Harrison Ford Carrie Fisher Peter ...</td>\n",
              "      <td>[{'name': 'George Lucas', 'gender': 2, 'depart...</td>\n",
              "      <td>George Lucas</td>\n",
              "    </tr>\n",
              "    <tr>\n",
              "      <th>2</th>\n",
              "      <td>3</td>\n",
              "      <td>Finding Nemo</td>\n",
              "      <td>Animation Family</td>\n",
              "      <td>en</td>\n",
              "      <td>94000000</td>\n",
              "      <td>85.688789</td>\n",
              "      <td>30-05-2003</td>\n",
              "      <td>940335536</td>\n",
              "      <td>100.0</td>\n",
              "      <td>7.6</td>\n",
              "      <td>...</td>\n",
              "      <td>http://movies.disney.com/finding-nemo</td>\n",
              "      <td>father son relationship harbor underwater fish...</td>\n",
              "      <td>Nemo, an adventurous young clownfish, is unexp...</td>\n",
              "      <td>[{\"name\": \"Pixar Animation Studios\", \"id\": 3}]</td>\n",
              "      <td>[{\"iso_3166_1\": \"US\", \"name\": \"United States o...</td>\n",
              "      <td>[{\"iso_639_1\": \"en\", \"name\": \"English\"}]</td>\n",
              "      <td>There are 3.7 trillion fish in the ocean, they...</td>\n",
              "      <td>Albert Brooks Ellen DeGeneres Alexander Gould ...</td>\n",
              "      <td>[{'name': 'Andrew Stanton', 'gender': 2, 'depa...</td>\n",
              "      <td>Andrew Stanton</td>\n",
              "    </tr>\n",
              "    <tr>\n",
              "      <th>3</th>\n",
              "      <td>4</td>\n",
              "      <td>Forrest Gump</td>\n",
              "      <td>Comedy Drama Romance</td>\n",
              "      <td>en</td>\n",
              "      <td>55000000</td>\n",
              "      <td>138.133331</td>\n",
              "      <td>06-07-1994</td>\n",
              "      <td>677945399</td>\n",
              "      <td>142.0</td>\n",
              "      <td>8.2</td>\n",
              "      <td>...</td>\n",
              "      <td>NaN</td>\n",
              "      <td>vietnam veteran hippie mentally disabled runni...</td>\n",
              "      <td>A man with a low IQ has accomplished great thi...</td>\n",
              "      <td>[{\"name\": \"Paramount Pictures\", \"id\": 4}]</td>\n",
              "      <td>[{\"iso_3166_1\": \"US\", \"name\": \"United States o...</td>\n",
              "      <td>[{\"iso_639_1\": \"en\", \"name\": \"English\"}]</td>\n",
              "      <td>The world will never be the same, once you've ...</td>\n",
              "      <td>Tom Hanks Robin Wright Gary Sinise Mykelti Wil...</td>\n",
              "      <td>[{'name': 'Alan Silvestri', 'gender': 2, 'depa...</td>\n",
              "      <td>Robert Zemeckis</td>\n",
              "    </tr>\n",
              "    <tr>\n",
              "      <th>4</th>\n",
              "      <td>5</td>\n",
              "      <td>American Beauty</td>\n",
              "      <td>Drama</td>\n",
              "      <td>en</td>\n",
              "      <td>15000000</td>\n",
              "      <td>80.878605</td>\n",
              "      <td>15-09-1999</td>\n",
              "      <td>356296601</td>\n",
              "      <td>122.0</td>\n",
              "      <td>7.9</td>\n",
              "      <td>...</td>\n",
              "      <td>http://www.dreamworks.com/ab/</td>\n",
              "      <td>male nudity female nudity adultery midlife cri...</td>\n",
              "      <td>Lester Burnham, a depressed suburban father in...</td>\n",
              "      <td>[{\"name\": \"DreamWorks SKG\", \"id\": 27}, {\"name\"...</td>\n",
              "      <td>[{\"iso_3166_1\": \"US\", \"name\": \"United States o...</td>\n",
              "      <td>[{\"iso_639_1\": \"en\", \"name\": \"English\"}]</td>\n",
              "      <td>Look closer.</td>\n",
              "      <td>Kevin Spacey Annette Bening Thora Birch Wes Be...</td>\n",
              "      <td>[{'name': 'Thomas Newman', 'gender': 2, 'depar...</td>\n",
              "      <td>Sam Mendes</td>\n",
              "    </tr>\n",
              "  </tbody>\n",
              "</table>\n",
              "<p>5 rows × 21 columns</p>\n",
              "</div>\n",
              "    <div class=\"colab-df-buttons\">\n",
              "\n",
              "  <div class=\"colab-df-container\">\n",
              "    <button class=\"colab-df-convert\" onclick=\"convertToInteractive('df-f01da61c-fb89-497f-ad50-071f082b8a0e')\"\n",
              "            title=\"Convert this dataframe to an interactive table.\"\n",
              "            style=\"display:none;\">\n",
              "\n",
              "  <svg xmlns=\"http://www.w3.org/2000/svg\" height=\"24px\" viewBox=\"0 -960 960 960\">\n",
              "    <path d=\"M120-120v-720h720v720H120Zm60-500h600v-160H180v160Zm220 220h160v-160H400v160Zm0 220h160v-160H400v160ZM180-400h160v-160H180v160Zm440 0h160v-160H620v160ZM180-180h160v-160H180v160Zm440 0h160v-160H620v160Z\"/>\n",
              "  </svg>\n",
              "    </button>\n",
              "\n",
              "  <style>\n",
              "    .colab-df-container {\n",
              "      display:flex;\n",
              "      gap: 12px;\n",
              "    }\n",
              "\n",
              "    .colab-df-convert {\n",
              "      background-color: #E8F0FE;\n",
              "      border: none;\n",
              "      border-radius: 50%;\n",
              "      cursor: pointer;\n",
              "      display: none;\n",
              "      fill: #1967D2;\n",
              "      height: 32px;\n",
              "      padding: 0 0 0 0;\n",
              "      width: 32px;\n",
              "    }\n",
              "\n",
              "    .colab-df-convert:hover {\n",
              "      background-color: #E2EBFA;\n",
              "      box-shadow: 0px 1px 2px rgba(60, 64, 67, 0.3), 0px 1px 3px 1px rgba(60, 64, 67, 0.15);\n",
              "      fill: #174EA6;\n",
              "    }\n",
              "\n",
              "    .colab-df-buttons div {\n",
              "      margin-bottom: 4px;\n",
              "    }\n",
              "\n",
              "    [theme=dark] .colab-df-convert {\n",
              "      background-color: #3B4455;\n",
              "      fill: #D2E3FC;\n",
              "    }\n",
              "\n",
              "    [theme=dark] .colab-df-convert:hover {\n",
              "      background-color: #434B5C;\n",
              "      box-shadow: 0px 1px 3px 1px rgba(0, 0, 0, 0.15);\n",
              "      filter: drop-shadow(0px 1px 2px rgba(0, 0, 0, 0.3));\n",
              "      fill: #FFFFFF;\n",
              "    }\n",
              "  </style>\n",
              "\n",
              "    <script>\n",
              "      const buttonEl =\n",
              "        document.querySelector('#df-f01da61c-fb89-497f-ad50-071f082b8a0e button.colab-df-convert');\n",
              "      buttonEl.style.display =\n",
              "        google.colab.kernel.accessAllowed ? 'block' : 'none';\n",
              "\n",
              "      async function convertToInteractive(key) {\n",
              "        const element = document.querySelector('#df-f01da61c-fb89-497f-ad50-071f082b8a0e');\n",
              "        const dataTable =\n",
              "          await google.colab.kernel.invokeFunction('convertToInteractive',\n",
              "                                                    [key], {});\n",
              "        if (!dataTable) return;\n",
              "\n",
              "        const docLinkHtml = 'Like what you see? Visit the ' +\n",
              "          '<a target=\"_blank\" href=https://colab.research.google.com/notebooks/data_table.ipynb>data table notebook</a>'\n",
              "          + ' to learn more about interactive tables.';\n",
              "        element.innerHTML = '';\n",
              "        dataTable['output_type'] = 'display_data';\n",
              "        await google.colab.output.renderOutput(dataTable, element);\n",
              "        const docLink = document.createElement('div');\n",
              "        docLink.innerHTML = docLinkHtml;\n",
              "        element.appendChild(docLink);\n",
              "      }\n",
              "    </script>\n",
              "  </div>\n",
              "\n",
              "\n",
              "<div id=\"df-f9d2cfa3-7ff0-48f6-96f2-a2c03876ecdc\">\n",
              "  <button class=\"colab-df-quickchart\" onclick=\"quickchart('df-f9d2cfa3-7ff0-48f6-96f2-a2c03876ecdc')\"\n",
              "            title=\"Suggest charts\"\n",
              "            style=\"display:none;\">\n",
              "\n",
              "<svg xmlns=\"http://www.w3.org/2000/svg\" height=\"24px\"viewBox=\"0 0 24 24\"\n",
              "     width=\"24px\">\n",
              "    <g>\n",
              "        <path d=\"M19 3H5c-1.1 0-2 .9-2 2v14c0 1.1.9 2 2 2h14c1.1 0 2-.9 2-2V5c0-1.1-.9-2-2-2zM9 17H7v-7h2v7zm4 0h-2V7h2v10zm4 0h-2v-4h2v4z\"/>\n",
              "    </g>\n",
              "</svg>\n",
              "  </button>\n",
              "\n",
              "<style>\n",
              "  .colab-df-quickchart {\n",
              "      --bg-color: #E8F0FE;\n",
              "      --fill-color: #1967D2;\n",
              "      --hover-bg-color: #E2EBFA;\n",
              "      --hover-fill-color: #174EA6;\n",
              "      --disabled-fill-color: #AAA;\n",
              "      --disabled-bg-color: #DDD;\n",
              "  }\n",
              "\n",
              "  [theme=dark] .colab-df-quickchart {\n",
              "      --bg-color: #3B4455;\n",
              "      --fill-color: #D2E3FC;\n",
              "      --hover-bg-color: #434B5C;\n",
              "      --hover-fill-color: #FFFFFF;\n",
              "      --disabled-bg-color: #3B4455;\n",
              "      --disabled-fill-color: #666;\n",
              "  }\n",
              "\n",
              "  .colab-df-quickchart {\n",
              "    background-color: var(--bg-color);\n",
              "    border: none;\n",
              "    border-radius: 50%;\n",
              "    cursor: pointer;\n",
              "    display: none;\n",
              "    fill: var(--fill-color);\n",
              "    height: 32px;\n",
              "    padding: 0;\n",
              "    width: 32px;\n",
              "  }\n",
              "\n",
              "  .colab-df-quickchart:hover {\n",
              "    background-color: var(--hover-bg-color);\n",
              "    box-shadow: 0 1px 2px rgba(60, 64, 67, 0.3), 0 1px 3px 1px rgba(60, 64, 67, 0.15);\n",
              "    fill: var(--button-hover-fill-color);\n",
              "  }\n",
              "\n",
              "  .colab-df-quickchart-complete:disabled,\n",
              "  .colab-df-quickchart-complete:disabled:hover {\n",
              "    background-color: var(--disabled-bg-color);\n",
              "    fill: var(--disabled-fill-color);\n",
              "    box-shadow: none;\n",
              "  }\n",
              "\n",
              "  .colab-df-spinner {\n",
              "    border: 2px solid var(--fill-color);\n",
              "    border-color: transparent;\n",
              "    border-bottom-color: var(--fill-color);\n",
              "    animation:\n",
              "      spin 1s steps(1) infinite;\n",
              "  }\n",
              "\n",
              "  @keyframes spin {\n",
              "    0% {\n",
              "      border-color: transparent;\n",
              "      border-bottom-color: var(--fill-color);\n",
              "      border-left-color: var(--fill-color);\n",
              "    }\n",
              "    20% {\n",
              "      border-color: transparent;\n",
              "      border-left-color: var(--fill-color);\n",
              "      border-top-color: var(--fill-color);\n",
              "    }\n",
              "    30% {\n",
              "      border-color: transparent;\n",
              "      border-left-color: var(--fill-color);\n",
              "      border-top-color: var(--fill-color);\n",
              "      border-right-color: var(--fill-color);\n",
              "    }\n",
              "    40% {\n",
              "      border-color: transparent;\n",
              "      border-right-color: var(--fill-color);\n",
              "      border-top-color: var(--fill-color);\n",
              "    }\n",
              "    60% {\n",
              "      border-color: transparent;\n",
              "      border-right-color: var(--fill-color);\n",
              "    }\n",
              "    80% {\n",
              "      border-color: transparent;\n",
              "      border-right-color: var(--fill-color);\n",
              "      border-bottom-color: var(--fill-color);\n",
              "    }\n",
              "    90% {\n",
              "      border-color: transparent;\n",
              "      border-bottom-color: var(--fill-color);\n",
              "    }\n",
              "  }\n",
              "</style>\n",
              "\n",
              "  <script>\n",
              "    async function quickchart(key) {\n",
              "      const quickchartButtonEl =\n",
              "        document.querySelector('#' + key + ' button');\n",
              "      quickchartButtonEl.disabled = true;  // To prevent multiple clicks.\n",
              "      quickchartButtonEl.classList.add('colab-df-spinner');\n",
              "      try {\n",
              "        const charts = await google.colab.kernel.invokeFunction(\n",
              "            'suggestCharts', [key], {});\n",
              "      } catch (error) {\n",
              "        console.error('Error during call to suggestCharts:', error);\n",
              "      }\n",
              "      quickchartButtonEl.classList.remove('colab-df-spinner');\n",
              "      quickchartButtonEl.classList.add('colab-df-quickchart-complete');\n",
              "    }\n",
              "    (() => {\n",
              "      let quickchartButtonEl =\n",
              "        document.querySelector('#df-f9d2cfa3-7ff0-48f6-96f2-a2c03876ecdc button');\n",
              "      quickchartButtonEl.style.display =\n",
              "        google.colab.kernel.accessAllowed ? 'block' : 'none';\n",
              "    })();\n",
              "  </script>\n",
              "</div>\n",
              "\n",
              "    </div>\n",
              "  </div>\n"
            ],
            "application/vnd.google.colaboratory.intrinsic+json": {
              "type": "dataframe",
              "variable_name": "df"
            }
          },
          "metadata": {},
          "execution_count": 7
        }
      ]
    },
    {
      "cell_type": "code",
      "source": [
        "df.info()"
      ],
      "metadata": {
        "colab": {
          "base_uri": "https://localhost:8080/"
        },
        "id": "y2EDl7yyFJGL",
        "outputId": "8fd3b2a6-2acb-405d-876a-e8ba5ee132fb"
      },
      "execution_count": 8,
      "outputs": [
        {
          "output_type": "stream",
          "name": "stdout",
          "text": [
            "<class 'pandas.core.frame.DataFrame'>\n",
            "RangeIndex: 4760 entries, 0 to 4759\n",
            "Data columns (total 21 columns):\n",
            " #   Column                    Non-Null Count  Dtype  \n",
            "---  ------                    --------------  -----  \n",
            " 0   Movie_ID                  4760 non-null   int64  \n",
            " 1   Movie_Title               4760 non-null   object \n",
            " 2   Movie_Genre               4760 non-null   object \n",
            " 3   Movie_Language            4760 non-null   object \n",
            " 4   Movie_Budget              4760 non-null   int64  \n",
            " 5   Movie_Popularity          4760 non-null   float64\n",
            " 6   Movie_Release_Date        4760 non-null   object \n",
            " 7   Movie_Revenue             4760 non-null   int64  \n",
            " 8   Movie_Runtime             4758 non-null   float64\n",
            " 9   Movie_Vote                4760 non-null   float64\n",
            " 10  Movie_Vote_Count          4760 non-null   int64  \n",
            " 11  Movie_Homepage            1699 non-null   object \n",
            " 12  Movie_Keywords            4373 non-null   object \n",
            " 13  Movie_Overview            4757 non-null   object \n",
            " 14  Movie_Production_House    4760 non-null   object \n",
            " 15  Movie_Production_Country  4760 non-null   object \n",
            " 16  Movie_Spoken_Language     4760 non-null   object \n",
            " 17  Movie_Tagline             3942 non-null   object \n",
            " 18  Movie_Cast                4733 non-null   object \n",
            " 19  Movie_Crew                4760 non-null   object \n",
            " 20  Movie_Director            4738 non-null   object \n",
            "dtypes: float64(3), int64(4), object(14)\n",
            "memory usage: 781.1+ KB\n"
          ]
        }
      ]
    },
    {
      "cell_type": "code",
      "source": [
        "df.shape\n",
        "(4760,21)"
      ],
      "metadata": {
        "colab": {
          "base_uri": "https://localhost:8080/"
        },
        "id": "CRVD1lcwF1Eq",
        "outputId": "498763c6-cd54-4e9b-e09d-52cc00320d27"
      },
      "execution_count": 9,
      "outputs": [
        {
          "output_type": "execute_result",
          "data": {
            "text/plain": [
              "(4760, 21)"
            ]
          },
          "metadata": {},
          "execution_count": 9
        }
      ]
    },
    {
      "cell_type": "code",
      "source": [
        "df.columns"
      ],
      "metadata": {
        "colab": {
          "base_uri": "https://localhost:8080/"
        },
        "id": "l80CeW0rGyK7",
        "outputId": "c93a7847-2aa9-46a0-f9a9-e1613a5859b9"
      },
      "execution_count": 10,
      "outputs": [
        {
          "output_type": "execute_result",
          "data": {
            "text/plain": [
              "Index(['Movie_ID', 'Movie_Title', 'Movie_Genre', 'Movie_Language',\n",
              "       'Movie_Budget', 'Movie_Popularity', 'Movie_Release_Date',\n",
              "       'Movie_Revenue', 'Movie_Runtime', 'Movie_Vote', 'Movie_Vote_Count',\n",
              "       'Movie_Homepage', 'Movie_Keywords', 'Movie_Overview',\n",
              "       'Movie_Production_House', 'Movie_Production_Country',\n",
              "       'Movie_Spoken_Language', 'Movie_Tagline', 'Movie_Cast', 'Movie_Crew',\n",
              "       'Movie_Director'],\n",
              "      dtype='object')"
            ]
          },
          "metadata": {},
          "execution_count": 10
        }
      ]
    },
    {
      "cell_type": "code",
      "source": [
        "# Data Preprocessing\n",
        "\n",
        "df_features = df[['Movie_Genre','Movie_Keywords','Movie_Tagline','Movie_Cast','Movie_Director']].fillna('')"
      ],
      "metadata": {
        "id": "mRRU-UWkHELV"
      },
      "execution_count": 11,
      "outputs": []
    },
    {
      "cell_type": "code",
      "source": [
        "df_features.shape"
      ],
      "metadata": {
        "colab": {
          "base_uri": "https://localhost:8080/"
        },
        "id": "us-r-EVeKZT5",
        "outputId": "0d6e0ea3-489a-40eb-ea37-0f162fd7c715"
      },
      "execution_count": 12,
      "outputs": [
        {
          "output_type": "execute_result",
          "data": {
            "text/plain": [
              "(4760, 5)"
            ]
          },
          "metadata": {},
          "execution_count": 12
        }
      ]
    },
    {
      "cell_type": "code",
      "source": [
        "df_features"
      ],
      "metadata": {
        "colab": {
          "base_uri": "https://localhost:8080/",
          "height": 615
        },
        "id": "KaHMp6AzKhHh",
        "outputId": "a5f675d8-50ac-491b-bb31-e92e49c793dd"
      },
      "execution_count": 13,
      "outputs": [
        {
          "output_type": "execute_result",
          "data": {
            "text/plain": [
              "                           Movie_Genre  \\\n",
              "0                         Crime Comedy   \n",
              "1     Adventure Action Science Fiction   \n",
              "2                     Animation Family   \n",
              "3                 Comedy Drama Romance   \n",
              "4                                Drama   \n",
              "...                                ...   \n",
              "4755                            Horror   \n",
              "4756               Comedy Family Drama   \n",
              "4757                    Thriller Drama   \n",
              "4758                            Family   \n",
              "4759                       Documentary   \n",
              "\n",
              "                                         Movie_Keywords  \\\n",
              "0             hotel new year's eve witch bet hotel room   \n",
              "1           android galaxy hermit death star lightsaber   \n",
              "2     father son relationship harbor underwater fish...   \n",
              "3     vietnam veteran hippie mentally disabled runni...   \n",
              "4     male nudity female nudity adultery midlife cri...   \n",
              "...                                                 ...   \n",
              "4755                                                      \n",
              "4756                                                      \n",
              "4757                     christian film sex trafficking   \n",
              "4758                                                      \n",
              "4759  music actors legendary perfomer classic hollyw...   \n",
              "\n",
              "                                          Movie_Tagline  \\\n",
              "0     Twelve outrageous guests. Four scandalous requ...   \n",
              "1          A long time ago in a galaxy far, far away...   \n",
              "2     There are 3.7 trillion fish in the ocean, they...   \n",
              "3     The world will never be the same, once you've ...   \n",
              "4                                          Look closer.   \n",
              "...                                                 ...   \n",
              "4755                The hot spot where Satan's waitin'.   \n",
              "4756           It’s better to stand out than to fit in.   \n",
              "4757           She never knew it could happen to her...   \n",
              "4758                                                      \n",
              "4759                                                      \n",
              "\n",
              "                                             Movie_Cast     Movie_Director  \n",
              "0     Tim Roth Antonio Banderas Jennifer Beals Madon...     Allison Anders  \n",
              "1     Mark Hamill Harrison Ford Carrie Fisher Peter ...       George Lucas  \n",
              "2     Albert Brooks Ellen DeGeneres Alexander Gould ...     Andrew Stanton  \n",
              "3     Tom Hanks Robin Wright Gary Sinise Mykelti Wil...    Robert Zemeckis  \n",
              "4     Kevin Spacey Annette Bening Thora Birch Wes Be...         Sam Mendes  \n",
              "...                                                 ...                ...  \n",
              "4755  Lisa Hart Carroll Michael Des Barres Paul Drak...         Pece Dingo  \n",
              "4756  Roni Akurati Brighton Sharbino Jason Lee Anjul...       Frank Lotito  \n",
              "4757  Nicole Smolen Kim Baldwin Ariana Stephens Brys...       Jaco Booyens  \n",
              "4758                                                                        \n",
              "4759                                    Tony Oppedisano  Simon Napier-Bell  \n",
              "\n",
              "[4760 rows x 5 columns]"
            ],
            "text/html": [
              "\n",
              "  <div id=\"df-5f0da60a-364d-40c0-92b8-d70ee4b9be68\" class=\"colab-df-container\">\n",
              "    <div>\n",
              "<style scoped>\n",
              "    .dataframe tbody tr th:only-of-type {\n",
              "        vertical-align: middle;\n",
              "    }\n",
              "\n",
              "    .dataframe tbody tr th {\n",
              "        vertical-align: top;\n",
              "    }\n",
              "\n",
              "    .dataframe thead th {\n",
              "        text-align: right;\n",
              "    }\n",
              "</style>\n",
              "<table border=\"1\" class=\"dataframe\">\n",
              "  <thead>\n",
              "    <tr style=\"text-align: right;\">\n",
              "      <th></th>\n",
              "      <th>Movie_Genre</th>\n",
              "      <th>Movie_Keywords</th>\n",
              "      <th>Movie_Tagline</th>\n",
              "      <th>Movie_Cast</th>\n",
              "      <th>Movie_Director</th>\n",
              "    </tr>\n",
              "  </thead>\n",
              "  <tbody>\n",
              "    <tr>\n",
              "      <th>0</th>\n",
              "      <td>Crime Comedy</td>\n",
              "      <td>hotel new year's eve witch bet hotel room</td>\n",
              "      <td>Twelve outrageous guests. Four scandalous requ...</td>\n",
              "      <td>Tim Roth Antonio Banderas Jennifer Beals Madon...</td>\n",
              "      <td>Allison Anders</td>\n",
              "    </tr>\n",
              "    <tr>\n",
              "      <th>1</th>\n",
              "      <td>Adventure Action Science Fiction</td>\n",
              "      <td>android galaxy hermit death star lightsaber</td>\n",
              "      <td>A long time ago in a galaxy far, far away...</td>\n",
              "      <td>Mark Hamill Harrison Ford Carrie Fisher Peter ...</td>\n",
              "      <td>George Lucas</td>\n",
              "    </tr>\n",
              "    <tr>\n",
              "      <th>2</th>\n",
              "      <td>Animation Family</td>\n",
              "      <td>father son relationship harbor underwater fish...</td>\n",
              "      <td>There are 3.7 trillion fish in the ocean, they...</td>\n",
              "      <td>Albert Brooks Ellen DeGeneres Alexander Gould ...</td>\n",
              "      <td>Andrew Stanton</td>\n",
              "    </tr>\n",
              "    <tr>\n",
              "      <th>3</th>\n",
              "      <td>Comedy Drama Romance</td>\n",
              "      <td>vietnam veteran hippie mentally disabled runni...</td>\n",
              "      <td>The world will never be the same, once you've ...</td>\n",
              "      <td>Tom Hanks Robin Wright Gary Sinise Mykelti Wil...</td>\n",
              "      <td>Robert Zemeckis</td>\n",
              "    </tr>\n",
              "    <tr>\n",
              "      <th>4</th>\n",
              "      <td>Drama</td>\n",
              "      <td>male nudity female nudity adultery midlife cri...</td>\n",
              "      <td>Look closer.</td>\n",
              "      <td>Kevin Spacey Annette Bening Thora Birch Wes Be...</td>\n",
              "      <td>Sam Mendes</td>\n",
              "    </tr>\n",
              "    <tr>\n",
              "      <th>...</th>\n",
              "      <td>...</td>\n",
              "      <td>...</td>\n",
              "      <td>...</td>\n",
              "      <td>...</td>\n",
              "      <td>...</td>\n",
              "    </tr>\n",
              "    <tr>\n",
              "      <th>4755</th>\n",
              "      <td>Horror</td>\n",
              "      <td></td>\n",
              "      <td>The hot spot where Satan's waitin'.</td>\n",
              "      <td>Lisa Hart Carroll Michael Des Barres Paul Drak...</td>\n",
              "      <td>Pece Dingo</td>\n",
              "    </tr>\n",
              "    <tr>\n",
              "      <th>4756</th>\n",
              "      <td>Comedy Family Drama</td>\n",
              "      <td></td>\n",
              "      <td>It’s better to stand out than to fit in.</td>\n",
              "      <td>Roni Akurati Brighton Sharbino Jason Lee Anjul...</td>\n",
              "      <td>Frank Lotito</td>\n",
              "    </tr>\n",
              "    <tr>\n",
              "      <th>4757</th>\n",
              "      <td>Thriller Drama</td>\n",
              "      <td>christian film sex trafficking</td>\n",
              "      <td>She never knew it could happen to her...</td>\n",
              "      <td>Nicole Smolen Kim Baldwin Ariana Stephens Brys...</td>\n",
              "      <td>Jaco Booyens</td>\n",
              "    </tr>\n",
              "    <tr>\n",
              "      <th>4758</th>\n",
              "      <td>Family</td>\n",
              "      <td></td>\n",
              "      <td></td>\n",
              "      <td></td>\n",
              "      <td></td>\n",
              "    </tr>\n",
              "    <tr>\n",
              "      <th>4759</th>\n",
              "      <td>Documentary</td>\n",
              "      <td>music actors legendary perfomer classic hollyw...</td>\n",
              "      <td></td>\n",
              "      <td>Tony Oppedisano</td>\n",
              "      <td>Simon Napier-Bell</td>\n",
              "    </tr>\n",
              "  </tbody>\n",
              "</table>\n",
              "<p>4760 rows × 5 columns</p>\n",
              "</div>\n",
              "    <div class=\"colab-df-buttons\">\n",
              "\n",
              "  <div class=\"colab-df-container\">\n",
              "    <button class=\"colab-df-convert\" onclick=\"convertToInteractive('df-5f0da60a-364d-40c0-92b8-d70ee4b9be68')\"\n",
              "            title=\"Convert this dataframe to an interactive table.\"\n",
              "            style=\"display:none;\">\n",
              "\n",
              "  <svg xmlns=\"http://www.w3.org/2000/svg\" height=\"24px\" viewBox=\"0 -960 960 960\">\n",
              "    <path d=\"M120-120v-720h720v720H120Zm60-500h600v-160H180v160Zm220 220h160v-160H400v160Zm0 220h160v-160H400v160ZM180-400h160v-160H180v160Zm440 0h160v-160H620v160ZM180-180h160v-160H180v160Zm440 0h160v-160H620v160Z\"/>\n",
              "  </svg>\n",
              "    </button>\n",
              "\n",
              "  <style>\n",
              "    .colab-df-container {\n",
              "      display:flex;\n",
              "      gap: 12px;\n",
              "    }\n",
              "\n",
              "    .colab-df-convert {\n",
              "      background-color: #E8F0FE;\n",
              "      border: none;\n",
              "      border-radius: 50%;\n",
              "      cursor: pointer;\n",
              "      display: none;\n",
              "      fill: #1967D2;\n",
              "      height: 32px;\n",
              "      padding: 0 0 0 0;\n",
              "      width: 32px;\n",
              "    }\n",
              "\n",
              "    .colab-df-convert:hover {\n",
              "      background-color: #E2EBFA;\n",
              "      box-shadow: 0px 1px 2px rgba(60, 64, 67, 0.3), 0px 1px 3px 1px rgba(60, 64, 67, 0.15);\n",
              "      fill: #174EA6;\n",
              "    }\n",
              "\n",
              "    .colab-df-buttons div {\n",
              "      margin-bottom: 4px;\n",
              "    }\n",
              "\n",
              "    [theme=dark] .colab-df-convert {\n",
              "      background-color: #3B4455;\n",
              "      fill: #D2E3FC;\n",
              "    }\n",
              "\n",
              "    [theme=dark] .colab-df-convert:hover {\n",
              "      background-color: #434B5C;\n",
              "      box-shadow: 0px 1px 3px 1px rgba(0, 0, 0, 0.15);\n",
              "      filter: drop-shadow(0px 1px 2px rgba(0, 0, 0, 0.3));\n",
              "      fill: #FFFFFF;\n",
              "    }\n",
              "  </style>\n",
              "\n",
              "    <script>\n",
              "      const buttonEl =\n",
              "        document.querySelector('#df-5f0da60a-364d-40c0-92b8-d70ee4b9be68 button.colab-df-convert');\n",
              "      buttonEl.style.display =\n",
              "        google.colab.kernel.accessAllowed ? 'block' : 'none';\n",
              "\n",
              "      async function convertToInteractive(key) {\n",
              "        const element = document.querySelector('#df-5f0da60a-364d-40c0-92b8-d70ee4b9be68');\n",
              "        const dataTable =\n",
              "          await google.colab.kernel.invokeFunction('convertToInteractive',\n",
              "                                                    [key], {});\n",
              "        if (!dataTable) return;\n",
              "\n",
              "        const docLinkHtml = 'Like what you see? Visit the ' +\n",
              "          '<a target=\"_blank\" href=https://colab.research.google.com/notebooks/data_table.ipynb>data table notebook</a>'\n",
              "          + ' to learn more about interactive tables.';\n",
              "        element.innerHTML = '';\n",
              "        dataTable['output_type'] = 'display_data';\n",
              "        await google.colab.output.renderOutput(dataTable, element);\n",
              "        const docLink = document.createElement('div');\n",
              "        docLink.innerHTML = docLinkHtml;\n",
              "        element.appendChild(docLink);\n",
              "      }\n",
              "    </script>\n",
              "  </div>\n",
              "\n",
              "\n",
              "<div id=\"df-f52c14cf-9d08-4b31-9375-1be2c539959e\">\n",
              "  <button class=\"colab-df-quickchart\" onclick=\"quickchart('df-f52c14cf-9d08-4b31-9375-1be2c539959e')\"\n",
              "            title=\"Suggest charts\"\n",
              "            style=\"display:none;\">\n",
              "\n",
              "<svg xmlns=\"http://www.w3.org/2000/svg\" height=\"24px\"viewBox=\"0 0 24 24\"\n",
              "     width=\"24px\">\n",
              "    <g>\n",
              "        <path d=\"M19 3H5c-1.1 0-2 .9-2 2v14c0 1.1.9 2 2 2h14c1.1 0 2-.9 2-2V5c0-1.1-.9-2-2-2zM9 17H7v-7h2v7zm4 0h-2V7h2v10zm4 0h-2v-4h2v4z\"/>\n",
              "    </g>\n",
              "</svg>\n",
              "  </button>\n",
              "\n",
              "<style>\n",
              "  .colab-df-quickchart {\n",
              "      --bg-color: #E8F0FE;\n",
              "      --fill-color: #1967D2;\n",
              "      --hover-bg-color: #E2EBFA;\n",
              "      --hover-fill-color: #174EA6;\n",
              "      --disabled-fill-color: #AAA;\n",
              "      --disabled-bg-color: #DDD;\n",
              "  }\n",
              "\n",
              "  [theme=dark] .colab-df-quickchart {\n",
              "      --bg-color: #3B4455;\n",
              "      --fill-color: #D2E3FC;\n",
              "      --hover-bg-color: #434B5C;\n",
              "      --hover-fill-color: #FFFFFF;\n",
              "      --disabled-bg-color: #3B4455;\n",
              "      --disabled-fill-color: #666;\n",
              "  }\n",
              "\n",
              "  .colab-df-quickchart {\n",
              "    background-color: var(--bg-color);\n",
              "    border: none;\n",
              "    border-radius: 50%;\n",
              "    cursor: pointer;\n",
              "    display: none;\n",
              "    fill: var(--fill-color);\n",
              "    height: 32px;\n",
              "    padding: 0;\n",
              "    width: 32px;\n",
              "  }\n",
              "\n",
              "  .colab-df-quickchart:hover {\n",
              "    background-color: var(--hover-bg-color);\n",
              "    box-shadow: 0 1px 2px rgba(60, 64, 67, 0.3), 0 1px 3px 1px rgba(60, 64, 67, 0.15);\n",
              "    fill: var(--button-hover-fill-color);\n",
              "  }\n",
              "\n",
              "  .colab-df-quickchart-complete:disabled,\n",
              "  .colab-df-quickchart-complete:disabled:hover {\n",
              "    background-color: var(--disabled-bg-color);\n",
              "    fill: var(--disabled-fill-color);\n",
              "    box-shadow: none;\n",
              "  }\n",
              "\n",
              "  .colab-df-spinner {\n",
              "    border: 2px solid var(--fill-color);\n",
              "    border-color: transparent;\n",
              "    border-bottom-color: var(--fill-color);\n",
              "    animation:\n",
              "      spin 1s steps(1) infinite;\n",
              "  }\n",
              "\n",
              "  @keyframes spin {\n",
              "    0% {\n",
              "      border-color: transparent;\n",
              "      border-bottom-color: var(--fill-color);\n",
              "      border-left-color: var(--fill-color);\n",
              "    }\n",
              "    20% {\n",
              "      border-color: transparent;\n",
              "      border-left-color: var(--fill-color);\n",
              "      border-top-color: var(--fill-color);\n",
              "    }\n",
              "    30% {\n",
              "      border-color: transparent;\n",
              "      border-left-color: var(--fill-color);\n",
              "      border-top-color: var(--fill-color);\n",
              "      border-right-color: var(--fill-color);\n",
              "    }\n",
              "    40% {\n",
              "      border-color: transparent;\n",
              "      border-right-color: var(--fill-color);\n",
              "      border-top-color: var(--fill-color);\n",
              "    }\n",
              "    60% {\n",
              "      border-color: transparent;\n",
              "      border-right-color: var(--fill-color);\n",
              "    }\n",
              "    80% {\n",
              "      border-color: transparent;\n",
              "      border-right-color: var(--fill-color);\n",
              "      border-bottom-color: var(--fill-color);\n",
              "    }\n",
              "    90% {\n",
              "      border-color: transparent;\n",
              "      border-bottom-color: var(--fill-color);\n",
              "    }\n",
              "  }\n",
              "</style>\n",
              "\n",
              "  <script>\n",
              "    async function quickchart(key) {\n",
              "      const quickchartButtonEl =\n",
              "        document.querySelector('#' + key + ' button');\n",
              "      quickchartButtonEl.disabled = true;  // To prevent multiple clicks.\n",
              "      quickchartButtonEl.classList.add('colab-df-spinner');\n",
              "      try {\n",
              "        const charts = await google.colab.kernel.invokeFunction(\n",
              "            'suggestCharts', [key], {});\n",
              "      } catch (error) {\n",
              "        console.error('Error during call to suggestCharts:', error);\n",
              "      }\n",
              "      quickchartButtonEl.classList.remove('colab-df-spinner');\n",
              "      quickchartButtonEl.classList.add('colab-df-quickchart-complete');\n",
              "    }\n",
              "    (() => {\n",
              "      let quickchartButtonEl =\n",
              "        document.querySelector('#df-f52c14cf-9d08-4b31-9375-1be2c539959e button');\n",
              "      quickchartButtonEl.style.display =\n",
              "        google.colab.kernel.accessAllowed ? 'block' : 'none';\n",
              "    })();\n",
              "  </script>\n",
              "</div>\n",
              "\n",
              "  <div id=\"id_8cf3c34d-47a1-4d9a-a676-9e245a2ac0f2\">\n",
              "    <style>\n",
              "      .colab-df-generate {\n",
              "        background-color: #E8F0FE;\n",
              "        border: none;\n",
              "        border-radius: 50%;\n",
              "        cursor: pointer;\n",
              "        display: none;\n",
              "        fill: #1967D2;\n",
              "        height: 32px;\n",
              "        padding: 0 0 0 0;\n",
              "        width: 32px;\n",
              "      }\n",
              "\n",
              "      .colab-df-generate:hover {\n",
              "        background-color: #E2EBFA;\n",
              "        box-shadow: 0px 1px 2px rgba(60, 64, 67, 0.3), 0px 1px 3px 1px rgba(60, 64, 67, 0.15);\n",
              "        fill: #174EA6;\n",
              "      }\n",
              "\n",
              "      [theme=dark] .colab-df-generate {\n",
              "        background-color: #3B4455;\n",
              "        fill: #D2E3FC;\n",
              "      }\n",
              "\n",
              "      [theme=dark] .colab-df-generate:hover {\n",
              "        background-color: #434B5C;\n",
              "        box-shadow: 0px 1px 3px 1px rgba(0, 0, 0, 0.15);\n",
              "        filter: drop-shadow(0px 1px 2px rgba(0, 0, 0, 0.3));\n",
              "        fill: #FFFFFF;\n",
              "      }\n",
              "    </style>\n",
              "    <button class=\"colab-df-generate\" onclick=\"generateWithVariable('df_features')\"\n",
              "            title=\"Generate code using this dataframe.\"\n",
              "            style=\"display:none;\">\n",
              "\n",
              "  <svg xmlns=\"http://www.w3.org/2000/svg\" height=\"24px\"viewBox=\"0 0 24 24\"\n",
              "       width=\"24px\">\n",
              "    <path d=\"M7,19H8.4L18.45,9,17,7.55,7,17.6ZM5,21V16.75L18.45,3.32a2,2,0,0,1,2.83,0l1.4,1.43a1.91,1.91,0,0,1,.58,1.4,1.91,1.91,0,0,1-.58,1.4L9.25,21ZM18.45,9,17,7.55Zm-12,3A5.31,5.31,0,0,0,4.9,8.1,5.31,5.31,0,0,0,1,6.5,5.31,5.31,0,0,0,4.9,4.9,5.31,5.31,0,0,0,6.5,1,5.31,5.31,0,0,0,8.1,4.9,5.31,5.31,0,0,0,12,6.5,5.46,5.46,0,0,0,6.5,12Z\"/>\n",
              "  </svg>\n",
              "    </button>\n",
              "    <script>\n",
              "      (() => {\n",
              "      const buttonEl =\n",
              "        document.querySelector('#id_8cf3c34d-47a1-4d9a-a676-9e245a2ac0f2 button.colab-df-generate');\n",
              "      buttonEl.style.display =\n",
              "        google.colab.kernel.accessAllowed ? 'block' : 'none';\n",
              "\n",
              "      buttonEl.onclick = () => {\n",
              "        google.colab.notebook.generateWithVariable('df_features');\n",
              "      }\n",
              "      })();\n",
              "    </script>\n",
              "  </div>\n",
              "\n",
              "    </div>\n",
              "  </div>\n"
            ],
            "application/vnd.google.colaboratory.intrinsic+json": {
              "type": "dataframe",
              "variable_name": "df_features",
              "summary": "{\n  \"name\": \"df_features\",\n  \"rows\": 4760,\n  \"fields\": [\n    {\n      \"column\": \"Movie_Genre\",\n      \"properties\": {\n        \"dtype\": \"category\",\n        \"num_unique_values\": 1164,\n        \"samples\": [\n          \"Family Animation Adventure\",\n          \"Adventure Science Fiction Action\",\n          \"Action Crime Drama Romance Thriller\"\n        ],\n        \"semantic_type\": \"\",\n        \"description\": \"\"\n      }\n    },\n    {\n      \"column\": \"Movie_Keywords\",\n      \"properties\": {\n        \"dtype\": \"string\",\n        \"num_unique_values\": 4203,\n        \"samples\": [\n          \"canada nazis sequel spin off ancient evil\",\n          \"sex professor wedding woman director columbia university\",\n          \"prophecy sea beach gold small town\"\n        ],\n        \"semantic_type\": \"\",\n        \"description\": \"\"\n      }\n    },\n    {\n      \"column\": \"Movie_Tagline\",\n      \"properties\": {\n        \"dtype\": \"string\",\n        \"num_unique_values\": 3928,\n        \"samples\": [\n          \"The messenger must be silenced.\",\n          \"It's not the house that's haunted.\",\n          \"The final hunt begins.\"\n        ],\n        \"semantic_type\": \"\",\n        \"description\": \"\"\n      }\n    },\n    {\n      \"column\": \"Movie_Cast\",\n      \"properties\": {\n        \"dtype\": \"string\",\n        \"num_unique_values\": 4715,\n        \"samples\": [\n          \"Robin Tunney Fairuza Balk Neve Campbell Rachel True Skeet Ulrich\",\n          \"Peter Sellers Christopher Plummer Herbert Lom Catherine Schell Peter Arne\",\n          \"John Wayne Laraine Day Cedric Hardwicke Judith Anderson Anthony Quinn\"\n        ],\n        \"semantic_type\": \"\",\n        \"description\": \"\"\n      }\n    },\n    {\n      \"column\": \"Movie_Director\",\n      \"properties\": {\n        \"dtype\": \"category\",\n        \"num_unique_values\": 2332,\n        \"samples\": [\n          \"Rob McKittrick\",\n          \"Terron R. Parsons\",\n          \"Cyrus Nowrasteh\"\n        ],\n        \"semantic_type\": \"\",\n        \"description\": \"\"\n      }\n    }\n  ]\n}"
            }
          },
          "metadata": {},
          "execution_count": 13
        }
      ]
    },
    {
      "cell_type": "code",
      "source": [
        "x = df_features['Movie_Genre'] +'-'+ df_features['Movie_Director'] +'-'+ df_features['Movie_Cast'] +'-'+ df_features['Movie_Tagline'] +'-'+ df_features['Movie_Keywords']"
      ],
      "metadata": {
        "id": "FsXF_lX0LFv3"
      },
      "execution_count": 14,
      "outputs": []
    },
    {
      "cell_type": "code",
      "source": [
        "print(x)"
      ],
      "metadata": {
        "colab": {
          "base_uri": "https://localhost:8080/"
        },
        "id": "u3_Ff3nUMUPJ",
        "outputId": "1ad31a4b-d1fa-4a42-f5ae-ca9e1e18222a"
      },
      "execution_count": 15,
      "outputs": [
        {
          "output_type": "stream",
          "name": "stdout",
          "text": [
            "0       Crime Comedy-Allison Anders-Tim Roth Antonio B...\n",
            "1       Adventure Action Science Fiction-George Lucas-...\n",
            "2       Animation Family-Andrew Stanton-Albert Brooks ...\n",
            "3       Comedy Drama Romance-Robert Zemeckis-Tom Hanks...\n",
            "4       Drama-Sam Mendes-Kevin Spacey Annette Bening T...\n",
            "                              ...                        \n",
            "4755    Horror-Pece Dingo-Lisa Hart Carroll Michael De...\n",
            "4756    Comedy Family Drama-Frank Lotito-Roni Akurati ...\n",
            "4757    Thriller Drama-Jaco Booyens-Nicole Smolen Kim ...\n",
            "4758                                           Family----\n",
            "4759    Documentary-Simon Napier-Bell-Tony Oppedisano-...\n",
            "Length: 4760, dtype: object\n"
          ]
        }
      ]
    },
    {
      "cell_type": "code",
      "source": [
        "x.shape"
      ],
      "metadata": {
        "colab": {
          "base_uri": "https://localhost:8080/"
        },
        "id": "RQ9DsGbhMyfn",
        "outputId": "306dded3-5609-4af7-cade-26fd107d4444"
      },
      "execution_count": 16,
      "outputs": [
        {
          "output_type": "execute_result",
          "data": {
            "text/plain": [
              "(4760,)"
            ]
          },
          "metadata": {},
          "execution_count": 16
        }
      ]
    },
    {
      "cell_type": "code",
      "source": [
        "from sklearn.feature_extraction.text import TfidfVectorizer"
      ],
      "metadata": {
        "id": "VwrSx_fUM2nw"
      },
      "execution_count": 17,
      "outputs": []
    },
    {
      "cell_type": "code",
      "source": [
        "# Modeling\n",
        "tfidf = TfidfVectorizer()"
      ],
      "metadata": {
        "id": "KdwmlhRLNG9P"
      },
      "execution_count": 18,
      "outputs": []
    },
    {
      "cell_type": "code",
      "source": [
        "x = tfidf.fit_transform(x)"
      ],
      "metadata": {
        "id": "1LTfCNZcNc7k"
      },
      "execution_count": 19,
      "outputs": []
    },
    {
      "cell_type": "code",
      "source": [
        "x.shape"
      ],
      "metadata": {
        "colab": {
          "base_uri": "https://localhost:8080/"
        },
        "id": "rH_W1NmKNmyF",
        "outputId": "e3a67bcc-7937-47da-becb-e105b284015b"
      },
      "execution_count": 20,
      "outputs": [
        {
          "output_type": "execute_result",
          "data": {
            "text/plain": [
              "(4760, 17258)"
            ]
          },
          "metadata": {},
          "execution_count": 20
        }
      ]
    },
    {
      "cell_type": "code",
      "source": [
        "print(x)"
      ],
      "metadata": {
        "colab": {
          "base_uri": "https://localhost:8080/"
        },
        "id": "TqXJG2n3Nqyg",
        "outputId": "fd7b48b7-24f4-4d32-9c82-2c43ee52a50f"
      },
      "execution_count": 21,
      "outputs": [
        {
          "output_type": "stream",
          "name": "stdout",
          "text": [
            "  (0, 13052)\t0.1465525095337543\n",
            "  (0, 1595)\t0.15687561633854538\n",
            "  (0, 16862)\t0.12768803549311025\n",
            "  (0, 7213)\t0.25146675849405775\n",
            "  (0, 9048)\t0.0866842116160778\n",
            "  (0, 11161)\t0.06250380151644369\n",
            "  (0, 5059)\t0.29553419178998613\n",
            "  (0, 17052)\t0.26079573581490934\n",
            "  (0, 10898)\t0.17625708810661284\n",
            "  (0, 16773)\t0.17654247479915475\n",
            "  (0, 5612)\t0.08603537588547631\n",
            "  (0, 16735)\t0.10690083751525419\n",
            "  (0, 7904)\t0.13348000542112332\n",
            "  (0, 15219)\t0.09800472886453934\n",
            "  (0, 11242)\t0.07277788238484746\n",
            "  (0, 3878)\t0.11998399582562203\n",
            "  (0, 5499)\t0.11454057510303811\n",
            "  (0, 7071)\t0.19822417598406614\n",
            "  (0, 7454)\t0.14745635785412262\n",
            "  (0, 1495)\t0.19712637387361423\n",
            "  (0, 9206)\t0.15186283580984414\n",
            "  (0, 11244)\t0.08262965296941757\n",
            "  (0, 614)\t0.07642616241686973\n",
            "  (0, 12731)\t0.19712637387361423\n",
            "  (0, 13467)\t0.19712637387361423\n",
            "  :\t:\n",
            "  (4757, 5455)\t0.12491480594769522\n",
            "  (4757, 2967)\t0.16273475835631626\n",
            "  (4757, 8464)\t0.23522565554066333\n",
            "  (4757, 6938)\t0.17088173678136628\n",
            "  (4757, 8379)\t0.17480603856721913\n",
            "  (4757, 15303)\t0.07654356007668191\n",
            "  (4757, 15384)\t0.09754322497537371\n",
            "  (4757, 7649)\t0.11479421494340192\n",
            "  (4757, 10896)\t0.14546473055066447\n",
            "  (4757, 4494)\t0.05675298448720501\n",
            "  (4758, 5238)\t1.0\n",
            "  (4759, 11708)\t0.33947721804318337\n",
            "  (4759, 11264)\t0.33947721804318337\n",
            "  (4759, 205)\t0.3237911628497312\n",
            "  (4759, 8902)\t0.3040290704566037\n",
            "  (4759, 14062)\t0.3237911628497312\n",
            "  (4759, 3058)\t0.2812896191863103\n",
            "  (4759, 7130)\t0.26419662449963793\n",
            "  (4759, 10761)\t0.3126617295732147\n",
            "  (4759, 4358)\t0.18306542312175342\n",
            "  (4759, 14051)\t0.20084315377640435\n",
            "  (4759, 5690)\t0.19534291014627303\n",
            "  (4759, 15431)\t0.19628653185946862\n",
            "  (4759, 1490)\t0.21197258705292082\n",
            "  (4759, 10666)\t0.15888268987343043\n"
          ]
        }
      ]
    },
    {
      "cell_type": "code",
      "source": [
        "from sklearn.metrics.pairwise import cosine_similarity"
      ],
      "metadata": {
        "id": "RvZgNEweNwNJ"
      },
      "execution_count": 22,
      "outputs": []
    },
    {
      "cell_type": "code",
      "source": [
        "Similarity_Score = cosine_similarity(x)"
      ],
      "metadata": {
        "id": "b342_Fz8OSza"
      },
      "execution_count": 23,
      "outputs": []
    },
    {
      "cell_type": "code",
      "source": [
        "Similarity_Score"
      ],
      "metadata": {
        "colab": {
          "base_uri": "https://localhost:8080/"
        },
        "id": "K5FYUQd5OenH",
        "outputId": "e6e725f0-4945-4f03-b0be-fb2f7fb1806b"
      },
      "execution_count": 24,
      "outputs": [
        {
          "output_type": "execute_result",
          "data": {
            "text/plain": [
              "array([[1.        , 0.01351235, 0.03570468, ..., 0.        , 0.        ,\n",
              "        0.        ],\n",
              "       [0.01351235, 1.        , 0.00806674, ..., 0.        , 0.        ,\n",
              "        0.        ],\n",
              "       [0.03570468, 0.00806674, 1.        , ..., 0.        , 0.08014876,\n",
              "        0.        ],\n",
              "       ...,\n",
              "       [0.        , 0.        , 0.        , ..., 1.        , 0.        ,\n",
              "        0.        ],\n",
              "       [0.        , 0.        , 0.08014876, ..., 0.        , 1.        ,\n",
              "        0.        ],\n",
              "       [0.        , 0.        , 0.        , ..., 0.        , 0.        ,\n",
              "        1.        ]])"
            ]
          },
          "metadata": {},
          "execution_count": 24
        }
      ]
    },
    {
      "cell_type": "code",
      "source": [
        "Similarity_Score.shape"
      ],
      "metadata": {
        "colab": {
          "base_uri": "https://localhost:8080/"
        },
        "id": "Trk4Ncg1Oi-M",
        "outputId": "40c21e00-a3e5-4bb1-c072-98bffa5d86db"
      },
      "execution_count": 25,
      "outputs": [
        {
          "output_type": "execute_result",
          "data": {
            "text/plain": [
              "(4760, 4760)"
            ]
          },
          "metadata": {},
          "execution_count": 25
        }
      ]
    },
    {
      "cell_type": "code",
      "source": [
        "# Prediction\n",
        "Fav_Movie = input('Enter Your Favourite Movie : ')"
      ],
      "metadata": {
        "colab": {
          "base_uri": "https://localhost:8080/"
        },
        "id": "gk3eSsYfOoGR",
        "outputId": "f239a710-5e0c-4225-979c-dd7284b9da75"
      },
      "execution_count": 26,
      "outputs": [
        {
          "name": "stdout",
          "output_type": "stream",
          "text": [
            "Enter Your Favourite Movie : titanic\n"
          ]
        }
      ]
    },
    {
      "cell_type": "code",
      "source": [
        "All_Movies_Title_List = df['Movie_Title'].tolist()"
      ],
      "metadata": {
        "id": "MJKYwWRhO9FO"
      },
      "execution_count": 27,
      "outputs": []
    },
    {
      "cell_type": "code",
      "source": [
        "import difflib"
      ],
      "metadata": {
        "id": "anN8VQItPKKx"
      },
      "execution_count": 28,
      "outputs": []
    },
    {
      "cell_type": "code",
      "source": [
        "Movie_Recommendation = difflib.get_close_matches(Fav_Movie, All_Movies_Title_List)\n",
        "print(Movie_Recommendation)"
      ],
      "metadata": {
        "colab": {
          "base_uri": "https://localhost:8080/"
        },
        "id": "PLfgUekhPNQv",
        "outputId": "091fb90e-8725-4923-ea82-271b6443a587"
      },
      "execution_count": 29,
      "outputs": [
        {
          "output_type": "stream",
          "name": "stdout",
          "text": [
            "['Titanic', 'Maniac', 'Hitman']\n"
          ]
        }
      ]
    },
    {
      "cell_type": "code",
      "source": [
        "Close_Match = Movie_Recommendation[0]\n",
        "print(Close_Match)"
      ],
      "metadata": {
        "colab": {
          "base_uri": "https://localhost:8080/"
        },
        "id": "yrCXHRCoQpVf",
        "outputId": "1b1f6efd-2480-46e9-a9e0-53cd188a097f"
      },
      "execution_count": 30,
      "outputs": [
        {
          "output_type": "stream",
          "name": "stdout",
          "text": [
            "Titanic\n"
          ]
        }
      ]
    },
    {
      "cell_type": "code",
      "source": [
        "Index_Of_Close_Match_Movie = df[df.Movie_Title == Close_Match] ['Movie_ID'].values[0]\n",
        "print(Index_Of_Close_Match_Movie)"
      ],
      "metadata": {
        "colab": {
          "base_uri": "https://localhost:8080/"
        },
        "id": "whJgjAsJQ2Hr",
        "outputId": "563d7bae-f4c1-4b59-f752-f73c697733e8"
      },
      "execution_count": 31,
      "outputs": [
        {
          "output_type": "stream",
          "name": "stdout",
          "text": [
            "256\n"
          ]
        }
      ]
    },
    {
      "cell_type": "code",
      "source": [
        "Recommendation_Score = list(enumerate(Similarity_Score[Index_Of_Close_Match_Movie]))\n",
        "print(Recommendation_Score)"
      ],
      "metadata": {
        "colab": {
          "base_uri": "https://localhost:8080/"
        },
        "id": "baBeQ22DRcV1",
        "outputId": "d9a6d4ed-e661-4208-ce45-e788d1ecf7c6"
      },
      "execution_count": 32,
      "outputs": [
        {
          "output_type": "stream",
          "name": "stdout",
          "text": [
            "[(0, 0.004374333531035219), (1, 0.0), (2, 0.029627105963890975), (3, 0.029431364469359043), (4, 0.06114423272641845), (5, 0.03968330416088574), (6, 0.0), (7, 0.0015674440938736275), (8, 0.0023696532347936756), (9, 0.0), (10, 0.006486699078583746), (11, 0.0022595159578336086), (12, 0.00233008362041284), (13, 0.0), (14, 0.0), (15, 0.030879578299686183), (16, 0.0018186439343890258), (17, 0.0), (18, 0.007928946144468162), (19, 0.023250788764979876), (20, 0.05162660237533076), (21, 0.008842640644176428), (22, 0.016603765519491834), (23, 0.0022737977197068208), (24, 0.0014251026316195806), (25, 0.0018049224889555488), (26, 0.0021349417832379094), (27, 0.03586735222811741), (28, 0.0), (29, 0.002077860357359088), (30, 0.0), (31, 0.00205207873068051), (32, 0.001913456031723538), (33, 0.06129604264732634), (34, 0.03483684662317486), (35, 0.0), (36, 0.04807054670939903), (37, 0.0), (38, 0.006956187745381803), (39, 0.0), (40, 0.006828028267454018), (41, 0.0024279218398710113), (42, 0.006226103746286324), (43, 0.029413780818799612), (44, 0.056611102670555156), (45, 0.0), (46, 0.03334926271263273), (47, 0.00540280646327488), (48, 0.009111086676461908), (49, 0.0), (50, 0.006011163686360468), (51, 0.026293521438765073), (52, 0.037830422636755956), (53, 0.0), (54, 0.0), (55, 0.0), (56, 0.0), (57, 0.0), (58, 0.0), (59, 0.0), (60, 0.0018665155696952378), (61, 0.03305286044774592), (62, 0.0024090139669009085), (63, 0.001736556348219351), (64, 0.03951170108697503), (65, 0.0), (66, 0.0021777127049979928), (67, 0.0), (68, 0.015225091209410837), (69, 0.0), (70, 0.0408885320013551), (71, 0.03144307992477606), (72, 0.005903290685234334), (73, 0.029893200690170534), (74, 0.0356057670527094), (75, 0.0), (76, 0.0), (77, 0.0), (78, 0.0), (79, 0.02402331172451647), (80, 0.0), (81, 0.006030909144364157), (82, 0.001655794393351425), (83, 0.006168212135977909), (84, 0.030643241537529033), (85, 0.042472505542808896), (86, 0.00523480602103935), (87, 0.007982360491561948), (88, 0.030833708704343578), (89, 0.006863126910999208), (90, 0.016352104174793956), (91, 0.0), (92, 0.0019202175374560568), (93, 0.032032609606916604), (94, 0.030712704940231463), (95, 0.017201409449247883), (96, 0.06558477591803506), (97, 0.0019148265300192987), (98, 0.0021365673308461836), (99, 0.047386401483155385), (100, 0.0), (101, 0.0), (102, 0.0), (103, 0.0018898981858567231), (104, 0.0021957438363701086), (105, 0.008200810927177733), (106, 0.060692990411505894), (107, 0.002474710342919952), (108, 0.005883076466826228), (109, 0.04551419202942347), (110, 0.0), (111, 0.007681347415118708), (112, 0.007960751185829973), (113, 0.0017942956784200365), (114, 0.002184044174983474), (115, 0.03423264610455312), (116, 0.002059350858032851), (117, 0.0), (118, 0.0), (119, 0.002140709294565251), (120, 0.05718172266621863), (121, 0.002005413691454779), (122, 0.03443704792365558), (123, 0.015706376640146597), (124, 0.022819652831294057), (125, 0.0), (126, 0.06685903282990628), (127, 0.03259788706998717), (128, 0.0), (129, 0.0015236681998072063), (130, 0.0), (131, 0.028884798766601848), (132, 0.0019344693432360304), (133, 0.0), (134, 0.0), (135, 0.01670777328296252), (136, 0.002014953870016526), (137, 0.0062668232618054015), (138, 0.022559224771183474), (139, 0.006829395802189701), (140, 0.002043913408876828), (141, 0.05181728604472949), (142, 0.050908828034154086), (143, 0.006385306794237737), (144, 0.04957735056337628), (145, 0.012410383018406761), (146, 0.0), (147, 0.007153936059064019), (148, 0.005523670028620002), (149, 0.032672712847621015), (150, 0.0), (151, 0.0), (152, 0.0), (153, 0.0), (154, 0.0020481252913717336), (155, 0.0), (156, 0.0017725376162875245), (157, 0.03861208957481921), (158, 0.0019572373655960804), (159, 0.001707718257990467), (160, 0.028686390213300307), (161, 0.0019612688750986393), (162, 0.006685501347064364), (163, 0.029124513057993337), (164, 0.002076231201031179), (165, 0.0018862279208302537), (166, 0.040318247191175424), (167, 0.0021079102676259654), (168, 0.01839017210791034), (169, 0.0021437721045291687), (170, 0.0055151147172509745), (171, 0.0), (172, 0.008295117290488919), (173, 0.008666231332180602), (174, 0.002155239050452211), (175, 0.0018424640903804378), (176, 0.002242063445544069), (177, 0.0), (178, 0.002295347277996211), (179, 0.0), (180, 0.0065045075625957014), (181, 0.012092821701321178), (182, 0.03374561157007502), (183, 0.002001116793195988), (184, 0.016646661096756242), (185, 0.0), (186, 0.0), (187, 0.0), (188, 0.0), (189, 0.03240900606395247), (190, 0.0070563587974498305), (191, 0.0), (192, 0.07005901857926851), (193, 0.0023069755512819846), (194, 0.001750646573088137), (195, 0.042195400236525835), (196, 0.0018327244174053921), (197, 0.002060237191350153), (198, 0.06572225114594524), (199, 0.007539707684377056), (200, 0.001928001339642623), (201, 0.00635068305950327), (202, 0.0014317479609334185), (203, 0.0020645690762923306), (204, 0.03497603590001751), (205, 0.040619391509900626), (206, 0.008771504585078364), (207, 0.006875283186042717), (208, 0.0023165156022121355), (209, 0.025909507540495064), (210, 0.008911795027451585), (211, 0.060572472945053725), (212, 0.02429323038903414), (213, 0.06455435464042222), (214, 0.0), (215, 0.002143623051966986), (216, 0.03453803634122963), (217, 0.03958729966003955), (218, 0.0019920367471821603), (219, 0.0), (220, 0.0), (221, 0.0020745819118045583), (222, 0.00192048241616919), (223, 0.0), (224, 0.006326524732860605), (225, 0.0), (226, 0.0021816697860929), (227, 0.0023319021832630743), (228, 0.0016525222643583915), (229, 0.002034235066315183), (230, 0.0), (231, 0.0), (232, 0.0), (233, 0.0), (234, 0.03966081640421784), (235, 0.0024628020379740307), (236, 0.00776710560374894), (237, 0.08410563378075099), (238, 0.024578721779399817), (239, 0.0), (240, 0.028968272443195792), (241, 0.0), (242, 0.0018891570728415707), (243, 0.0015361726429603307), (244, 0.03657120562028371), (245, 0.0), (246, 0.002320467820853536), (247, 0.002157421826453311), (248, 0.028952920809113113), (249, 0.0019135757020494958), (250, 0.0), (251, 0.007087288157212568), (252, 0.02411747371062153), (253, 0.0023855938550008796), (254, 0.009114021373826907), (255, 0.0022848834664411506), (256, 1.0000000000000002), (257, 0.0), (258, 0.0), (259, 0.0), (260, 0.0), (261, 0.0), (262, 0.0022922250365797012), (263, 0.0), (264, 0.0), (265, 0.03460980250278607), (266, 0.02094953981881253), (267, 0.0018490930145368453), (268, 0.0019461018426274012), (269, 0.0018722768880971446), (270, 0.07749050615572219), (271, 0.0016722160250236206), (272, 0.047161792003036926), (273, 0.0), (274, 0.009494363349839581), (275, 0.0), (276, 0.0077966509792701), (277, 0.030351199422271328), (278, 0.0018792500913840087), (279, 0.0020426692852153457), (280, 0.008247277772907582), (281, 0.009334744215567304), (282, 0.008146158715441568), (283, 0.0015967697412907168), (284, 0.0), (285, 0.07174900026306327), (286, 0.001872388823647664), (287, 0.007758860197166156), (288, 0.0), (289, 0.0), (290, 0.0), (291, 0.03407546376677702), (292, 0.0021169799467284692), (293, 0.03213861099018185), (294, 0.02491910869431929), (295, 0.0), (296, 0.0016353391241968962), (297, 0.0), (298, 0.0), (299, 0.0), (300, 0.0), (301, 0.0), (302, 0.0), (303, 0.0), (304, 0.06331955869386356), (305, 0.0), (306, 0.0), (307, 0.03570265592220216), (308, 0.0024399477738003476), (309, 0.028814722012587918), (310, 0.0), (311, 0.005713252808949595), (312, 0.0), (313, 0.0), (314, 0.0), (315, 0.0), (316, 0.0), (317, 0.03386472192795396), (318, 0.0023845266022502675), (319, 0.0), (320, 0.0), (321, 0.0), (322, 0.0), (323, 0.0), (324, 0.0020110847549937648), (325, 0.036546586905490654), (326, 0.002672151988470965), (327, 0.01500073215636582), (328, 0.0), (329, 0.002116679318511402), (330, 0.0015076522189410363), (331, 0.0), (332, 0.0), (333, 0.005414205029543298), (334, 0.005477161204267251), (335, 0.02893324450558005), (336, 0.0), (337, 0.0), (338, 0.0), (339, 0.0), (340, 0.0), (341, 0.0), (342, 0.03629116852548752), (343, 0.0021985157917901853), (344, 0.0), (345, 0.005899390649521431), (346, 0.018784367416278085), (347, 0.0), (348, 0.0021599646500477894), (349, 0.002116233900920805), (350, 0.0023754231692989253), (351, 0.0016647076322734678), (352, 0.0), (353, 0.0022160647939171094), (354, 0.0), (355, 0.0020119829546280357), (356, 0.002081284313034047), (357, 0.0018829029463707586), (358, 0.002122118635420533), (359, 0.002002405402633421), (360, 0.005775725451277263), (361, 0.0), (362, 0.0), (363, 0.0), (364, 0.02073202596757284), (365, 0.018569777938612288), (366, 0.0), (367, 0.040204085659239365), (368, 0.007306380521987338), (369, 0.004658477890877434), (370, 0.008255503566394335), (371, 0.0024010162978248544), (372, 0.002033037239900979), (373, 0.0020678990698509195), (374, 0.00215278781640146), (375, 0.030929860669102253), (376, 0.0), (377, 0.0344944636587228), (378, 0.0021913138538703996), (379, 0.0), (380, 0.0), (381, 0.0), (382, 0.04238510075709611), (383, 0.0), (384, 0.0), (385, 0.0067382700910651695), (386, 0.0), (387, 0.002057853867637829), (388, 0.03160449878274767), (389, 0.0), (390, 0.0), (391, 0.0), (392, 0.0), (393, 0.0), (394, 0.0), (395, 0.035919197640393044), (396, 0.02467463562614108), (397, 0.05723057472403548), (398, 0.0), (399, 0.0020218226597218895), (400, 0.002161935279352757), (401, 0.036365683970497664), (402, 0.002659951939412283), (403, 0.0018494163537428451), (404, 0.0), (405, 0.0), (406, 0.002226189370146207), (407, 0.0017507387952530378), (408, 0.03740741449591358), (409, 0.0), (410, 0.0020299762171410414), (411, 0.0), (412, 0.07848834210133943), (413, 0.0), (414, 0.0), (415, 0.0309223145319508), (416, 0.0019994976388235143), (417, 0.03284762139916556), (418, 0.07264681557098072), (419, 0.002457471314604703), (420, 0.03743775784777107), (421, 0.0), (422, 0.06489162993182492), (423, 0.0), (424, 0.0), (425, 0.0332121684915852), (426, 0.01564088262362854), (427, 0.030019234609617165), (428, 0.0019699569635973787), (429, 0.02691009115634037), (430, 0.0023485130854765048), (431, 0.0025732495492337254), (432, 0.0018562387494987882), (433, 0.0017848372884670693), (434, 0.007822793791890662), (435, 0.03452689817915837), (436, 0.002441248737675218), (437, 0.0020703887260130624), (438, 0.02558528395530564), (439, 0.0), (440, 0.038219921546274904), (441, 0.0018031021856338698), (442, 0.0018092296117011067), (443, 0.03872257908920673), (444, 0.0024311889871689463), (445, 0.059376494582605285), (446, 0.002128527382340559), (447, 0.041083742665662185), (448, 0.002518530626674347), (449, 0.0019733974608662826), (450, 0.009073365262752148), (451, 0.0), (452, 0.0016433901394031626), (453, 0.001668480140718695), (454, 0.0), (455, 0.001548329525015804), (456, 0.0409756229484473), (457, 0.0020026331218343414), (458, 0.009226483706360554), (459, 0.0), (460, 0.03571399309907643), (461, 0.007208236103459259), (462, 0.0), (463, 0.02969883806772706), (464, 0.0021567694434998534), (465, 0.001992035550425789), (466, 0.0021571944186727443), (467, 0.0), (468, 0.0), (469, 0.0), (470, 0.0353094002889586), (471, 0.002037643966112769), (472, 0.0022463435238944964), (473, 0.001974045071748563), (474, 0.006395838000823163), (475, 0.008087476952766392), (476, 0.0023951616981242956), (477, 0.0), (478, 0.0024694311782303105), (479, 0.008259133839471591), (480, 0.0019146731717494007), (481, 0.043027865850380397), (482, 0.03781369219772), (483, 0.02711054892284876), (484, 0.0), (485, 0.008861370033252514), (486, 0.04425396842219426), (487, 0.03410426803629752), (488, 0.002110512547918583), (489, 0.0026101809943513718), (490, 0.026961277343460113), (491, 0.0), (492, 0.0), (493, 0.0023166856451938066), (494, 0.006114870421927042), (495, 0.0019298689092623665), (496, 0.0018628553961354969), (497, 0.005416693184405436), (498, 0.0), (499, 0.029630543995358596), (500, 0.06696735863482084), (501, 0.005465905685634079), (502, 0.008656615652600105), (503, 0.005921154236583665), (504, 0.002195155403854505), (505, 0.0020728282991091893), (506, 0.038230362647046004), (507, 0.0020488077586621827), (508, 0.0025088916487728554), (509, 0.0022376522732576506), (510, 0.0017441318646429955), (511, 0.0), (512, 0.0), (513, 0.0), (514, 0.0), (515, 0.06800639114182717), (516, 0.0), (517, 0.06840584740878766), (518, 0.002557986619715003), (519, 0.0019265630357518397), (520, 0.0), (521, 0.0), (522, 0.0021180372515933314), (523, 0.0), (524, 0.059423253302952346), (525, 0.0), (526, 0.0027437897747098145), (527, 0.0017273880923691616), (528, 0.0), (529, 0.0), (530, 0.005991838576568722), (531, 0.0), (532, 0.005652217818795581), (533, 0.009300431265358363), (534, 0.008166887021243886), (535, 0.0), (536, 0.0), (537, 0.0), (538, 0.0), (539, 0.0059563669463037145), (540, 0.0), (541, 0.12319762487733692), (542, 0.005798533110000569), (543, 0.04120807947165838), (544, 0.008391202589300092), (545, 0.0), (546, 0.0), (547, 0.006971585083727751), (548, 0.0), (549, 0.0), (550, 0.0), (551, 0.02827669823838521), (552, 0.0), (553, 0.0), (554, 0.0), (555, 0.0), (556, 0.0), (557, 0.0), (558, 0.007624898982331962), (559, 0.0), (560, 0.006105337338027846), (561, 0.0), (562, 0.05006069741594733), (563, 0.001967527235459978), (564, 0.002285937607384478), (565, 0.029231320664952837), (566, 0.046516016826038724), (567, 0.033670859980845624), (568, 0.0), (569, 0.0), (570, 0.0), (571, 0.0016823319697146994), (572, 0.0), (573, 0.0), (574, 0.0), (575, 0.026255068401174784), (576, 0.002459700829064566), (577, 0.0), (578, 0.017841619515907747), (579, 0.031112635281965444), (580, 0.020470738016602943), (581, 0.001966303374625878), (582, 0.02581940252122079), (583, 0.0), (584, 0.00855601070722855), (585, 0.0), (586, 0.0), (587, 0.002399689873984417), (588, 0.0022673422807556287), (589, 0.0020221858115611517), (590, 0.002011041376153565), (591, 0.0), (592, 0.0), (593, 0.0022255388411363043), (594, 0.001950281156396374), (595, 0.0), (596, 0.0024447898107218743), (597, 0.0019614196662410834), (598, 0.00203298940661629), (599, 0.0), (600, 0.0), (601, 0.0), (602, 0.0), (603, 0.0), (604, 0.02776122559797142), (605, 0.029458469162386956), (606, 0.034570842851108355), (607, 0.0016813468036448137), (608, 0.001977893598150089), (609, 0.0017312502517541966), (610, 0.0), (611, 0.003505647935123707), (612, 0.0023166539123244067), (613, 0.036848097052918166), (614, 0.002503490919797758), (615, 0.0), (616, 0.0018183306317334016), (617, 0.001842215151428325), (618, 0.0), (619, 0.0), (620, 0.0020957044815440675), (621, 0.019878760885264222), (622, 0.008786406843556433), (623, 0.0023174240727544893), (624, 0.0019957898351921945), (625, 0.0), (626, 0.0018491198709890586), (627, 0.002954567033619116), (628, 0.0021999100352506538), (629, 0.005256149926090653), (630, 0.0), (631, 0.01943700953763185), (632, 0.005501299857384825), (633, 0.03758012011286104), (634, 0.0), (635, 0.0), (636, 0.087214415086999), (637, 0.002259524509492123), (638, 0.05970093175947834), (639, 0.0), (640, 0.0), (641, 0.0015625038783344653), (642, 0.0018847057986092544), (643, 0.008012783501631432), (644, 0.002072777088987871), (645, 0.0017821050303396815), (646, 0.026183171003752257), (647, 0.029374204520475716), (648, 0.0), (649, 0.0), (650, 0.0), (651, 0.002106584746616735), (652, 0.00845781311732337), (653, 0.007194382869340664), (654, 0.006415426970482348), (655, 0.06048904192018802), (656, 0.0), (657, 0.0019376333126591683), (658, 0.028950841659324555), (659, 0.031185083117429496), (660, 0.0022792409769369255), (661, 0.0), (662, 0.0), (663, 0.0), (664, 0.020445852119667957), (665, 0.0), (666, 0.0), (667, 0.024701525840094756), (668, 0.004815603310596413), (669, 0.0076083168726185585), (670, 0.0026890290455801914), (671, 0.0), (672, 0.0019456639748053465), (673, 0.009023531093528844), (674, 0.0), (675, 0.009017531046441889), (676, 0.008016503476062194), (677, 0.03429864362691206), (678, 0.006635772794530378), (679, 0.0), (680, 0.0023204866195591614), (681, 0.0), (682, 0.006845796858362038), (683, 0.009334978190190132), (684, 0.00606760255113475), (685, 0.0), (686, 0.0), (687, 0.0), (688, 0.05561096027777178), (689, 0.002170001342886021), (690, 0.0), (691, 0.001763513189969692), (692, 0.023369808923726837), (693, 0.0021236942283045547), (694, 0.06091292198450466), (695, 0.05697260493308626), (696, 0.002196273555523936), (697, 0.03361860370346848), (698, 0.0020644155512068263), (699, 0.0), (700, 0.0), (701, 0.00923037744150668), (702, 0.0), (703, 0.06040919873591193), (704, 0.051010270316117774), (705, 0.11925186240845363), (706, 0.0017330630517522873), (707, 0.0018352574093848633), (708, 0.06457958633708724), (709, 0.08673960564135581), (710, 0.0), (711, 0.0), (712, 0.0019277551117144122), (713, 0.0), (714, 0.0), (715, 0.002407784993926341), (716, 0.0022880930331129596), (717, 0.0022754292586325163), (718, 0.0), (719, 0.026896035156661738), (720, 0.0), (721, 0.002500073193137507), (722, 0.0019605879271887513), (723, 0.0), (724, 0.0), (725, 0.0), (726, 0.026168875513665184), (727, 0.002143742924680689), (728, 0.0023533966517596955), (729, 0.002433141295835938), (730, 0.0), (731, 0.0020872119893726015), (732, 0.0019478433458948413), (733, 0.06131195432360988), (734, 0.025499132489630073), (735, 0.0029794820743514034), (736, 0.0), (737, 0.0024610287818222195), (738, 0.0), (739, 0.03820217086332078), (740, 0.024626905997950664), (741, 0.0), (742, 0.05207129409155326), (743, 0.03722754684327308), (744, 0.002017853635060145), (745, 0.005627845321695113), (746, 0.03056206824851325), (747, 0.0), (748, 0.0), (749, 0.03702023103426831), (750, 0.0022229362196426543), (751, 0.037766082201513784), (752, 0.0), (753, 0.027235394862788385), (754, 0.0), (755, 0.0021204982773485926), (756, 0.02748206278218042), (757, 0.006605072425092512), (758, 0.0), (759, 0.0019866180417516103), (760, 0.006982804384721503), (761, 0.0021822929690190475), (762, 0.0), (763, 0.0), (764, 0.0), (765, 0.0), (766, 0.002018920829300841), (767, 0.0020698237367068957), (768, 0.0), (769, 0.06392736120019152), (770, 0.04256348403936264), (771, 0.0), (772, 0.0), (773, 0.06055145194634373), (774, 0.0022608395541902832), (775, 0.0), (776, 0.0), (777, 0.002622482847163566), (778, 0.0), (779, 0.0), (780, 0.0), (781, 0.0), (782, 0.0020937775343540157), (783, 0.0022985242580722365), (784, 0.0), (785, 0.0), (786, 0.0534397797887238), (787, 0.020477917602548405), (788, 0.0040068094602509945), (789, 0.0), (790, 0.043079627426049316), (791, 0.0359651861837499), (792, 0.03368633265969359), (793, 0.0), (794, 0.0023580501585335405), (795, 0.014388750381206373), (796, 0.0018115174906588112), (797, 0.0), (798, 0.0020822541027870935), (799, 0.008060914434876446), (800, 0.0019612249704776866), (801, 0.005575755745461924), (802, 0.0), (803, 0.0), (804, 0.017002784528546207), (805, 0.06288801966555949), (806, 0.026497956358325254), (807, 0.02484868697676295), (808, 0.0019235848355547462), (809, 0.0), (810, 0.0950229008054642), (811, 0.0), (812, 0.0), (813, 0.0024506614671073144), (814, 0.0), (815, 0.0019493588543457294), (816, 0.05767554637409045), (817, 0.0021115292449833947), (818, 0.002061320199244019), (819, 0.0), (820, 0.0), (821, 0.0), (822, 0.0), (823, 0.002515049523729022), (824, 0.04829963518927088), (825, 0.02715957660723505), (826, 0.002327050756929965), (827, 0.005774500117204221), (828, 0.03147017109619595), (829, 0.00759604718511181), (830, 0.035192550548499534), (831, 0.0015403772569511644), (832, 0.0022185900538257116), (833, 0.005696608038106177), (834, 0.0), (835, 0.0), (836, 0.0), (837, 0.0), (838, 0.0020289251865356164), (839, 0.0), (840, 0.0), (841, 0.0), (842, 0.0074427920534530885), (843, 0.0017943838926104945), (844, 0.04403783097081094), (845, 0.03504905359127372), (846, 0.0), (847, 0.0025021347202666866), (848, 0.002200520472562893), (849, 0.0), (850, 0.002221322818595806), (851, 0.007243854229256758), (852, 0.002087218237581258), (853, 0.0063933217147677315), (854, 0.04606131233370612), (855, 0.039425284482693626), (856, 0.08984720578900782), (857, 0.002409507826701809), (858, 0.001473260352966246), (859, 0.0), (860, 0.00958066880482368), (861, 0.001878948395489638), (862, 0.00530280937131877), (863, 0.0019945010545959034), (864, 0.00835544967184872), (865, 0.0022404425520910864), (866, 0.007687118954123199), (867, 0.0021504289645900014), (868, 0.002025873235842398), (869, 0.006240894330514451), (870, 0.028572961502451127), (871, 0.03439869294746946), (872, 0.0023359232382636425), (873, 0.0719364015489196), (874, 0.04150038134141262), (875, 0.04103027047396452), (876, 0.009438231858285445), (877, 0.0), (878, 0.030267384106000328), (879, 0.008626809570730722), (880, 0.0021506363326330405), (881, 0.0), (882, 0.0), (883, 0.03635946326320248), (884, 0.0022701346430102996), (885, 0.0019571241042410366), (886, 0.03138644614706668), (887, 0.002372527941498753), (888, 0.00916443332831963), (889, 0.0028081224392637123), (890, 0.0022756506844732174), (891, 0.0), (892, 0.0853101448302066), (893, 0.07268898884375449), (894, 0.008191220500298026), (895, 0.002032850976785178), (896, 0.009033166818201563), (897, 0.002198563168570639), (898, 0.0), (899, 0.01742610300714451), (900, 0.06485000576322528), (901, 0.07957411004959102), (902, 0.0), (903, 0.0020453079102601356), (904, 0.007165233297159389), (905, 0.007041267331231246), (906, 0.0), (907, 0.0020065629565716504), (908, 0.006218345749509167), (909, 0.0), (910, 0.0019973686853882754), (911, 0.002067161646448219), (912, 0.0), (913, 0.0), (914, 0.0), (915, 0.005857180796400368), (916, 0.005640130845080005), (917, 0.0019530641344342463), (918, 0.006299193376693308), (919, 0.0), (920, 0.0), (921, 0.002030722953635102), (922, 0.0024480284651543544), (923, 0.002101284698788714), (924, 0.029161473293230652), (925, 0.0025088985336257697), (926, 0.0), (927, 0.030698735176868133), (928, 0.029223022977270183), (929, 0.02415031781339598), (930, 0.06875333070329206), (931, 0.006082726514558534), (932, 0.0), (933, 0.0022283936417704427), (934, 0.001988601117824545), (935, 0.03770937948411044), (936, 0.001963267631128629), (937, 0.009660765476895096), (938, 0.0), (939, 0.007799333791365687), (940, 0.14257083334273746), (941, 0.002043630748081374), (942, 0.006722337038070185), (943, 0.0), (944, 0.0020328968498783723), (945, 0.0), (946, 0.034360282409978515), (947, 0.011154168388344527), (948, 0.007664185961936841), (949, 0.0025953661313321695), (950, 0.0), (951, 0.0546825618088638), (952, 0.0023586829369681398), (953, 0.001756824892177883), (954, 0.0), (955, 0.0), (956, 0.0), (957, 0.0019923964951648666), (958, 0.06016545347149373), (959, 0.06291653974276094), (960, 0.0), (961, 0.0), (962, 0.0020689781535362935), (963, 0.00203960902693563), (964, 0.0), (965, 0.0), (966, 0.0020601644276903993), (967, 0.03696230392071568), (968, 0.035033809603508596), (969, 0.0341710747008878), (970, 0.0), (971, 0.0), (972, 0.0), (973, 0.002149707758038814), (974, 0.02929768394103995), (975, 0.031341151148825644), (976, 0.03940230446151288), (977, 0.0), (978, 0.0), (979, 0.027674359151888456), (980, 0.002255121400381191), (981, 0.0019643763992751207), (982, 0.03442764523986451), (983, 0.0), (984, 0.002075501612262322), (985, 0.002496010740388008), (986, 0.033288767090781705), (987, 0.0022631691119791944), (988, 0.00821314445181549), (989, 0.008133082911488631), (990, 0.0), (991, 0.0023421833808235683), (992, 0.0), (993, 0.0261494825579058), (994, 0.025396942204355705), (995, 0.0), (996, 0.0), (997, 0.0), (998, 0.0024735500864355832), (999, 0.0024715256580867587), (1000, 0.007437374271605138), (1001, 0.002079584070640129), (1002, 0.002078970502695759), (1003, 0.0747967865156225), (1004, 0.0019557386785979836), (1005, 0.039201237141731717), (1006, 0.0022796004338978973), (1007, 0.0022970705156085238), (1008, 0.0), (1009, 0.0019356819115053628), (1010, 0.029203911599295352), (1011, 0.0), (1012, 0.0), (1013, 0.0), (1014, 0.0), (1015, 0.008938448203255301), (1016, 0.0), (1017, 0.008037204960240206), (1018, 0.07678208328370541), (1019, 0.038770599421298166), (1020, 0.002093356841213477), (1021, 0.02712062777610572), (1022, 0.0), (1023, 0.0024526829131941695), (1024, 0.006339731940395273), (1025, 0.0), (1026, 0.06356237058097926), (1027, 0.0020864692132420365), (1028, 0.02813803104223694), (1029, 0.0), (1030, 0.03240703381253906), (1031, 0.0), (1032, 0.0020608842039315334), (1033, 0.0020914732568575118), (1034, 0.03703733097978219), (1035, 0.0080330293261969), (1036, 0.0020579204872301134), (1037, 0.0017749521562489131), (1038, 0.026038278638353254), (1039, 0.0), (1040, 0.0017042114007037965), (1041, 0.0020481592255553616), (1042, 0.04719065998587904), (1043, 0.029753779970710593), (1044, 0.002113719607849676), (1045, 0.0), (1046, 0.0), (1047, 0.006341879717864916), (1048, 0.0022674243706196262), (1049, 0.0025873140758938696), (1050, 0.007044479082131331), (1051, 0.0), (1052, 0.05996759855769511), (1053, 0.009725831226925906), (1054, 0.005747677777247759), (1055, 0.0), (1056, 0.0), (1057, 0.0), (1058, 0.007460704650803726), (1059, 0.03313967729159595), (1060, 0.002105230184241161), (1061, 0.005479866041304066), (1062, 0.0), (1063, 0.00588119427909681), (1064, 0.010018050958147584), (1065, 0.001994309681169007), (1066, 0.0), (1067, 0.02984960336386713), (1068, 0.06351551169086196), (1069, 0.0), (1070, 0.0), (1071, 0.02770178899990031), (1072, 0.0021611383056951605), (1073, 0.0), (1074, 0.08372244346919865), (1075, 0.02734552571174838), (1076, 0.005867445439470886), (1077, 0.002229128168021012), (1078, 0.006886195833293147), (1079, 0.0020065245542844026), (1080, 0.16294958089491907), (1081, 0.0), (1082, 0.0), (1083, 0.08985160331053256), (1084, 0.03789645317025403), (1085, 0.031905561163684065), (1086, 0.0), (1087, 0.0022183032509018844), (1088, 0.0262368653258997), (1089, 0.0), (1090, 0.0), (1091, 0.0), (1092, 0.005073475115493975), (1093, 0.0), (1094, 0.0), (1095, 0.0), (1096, 0.04089563832552186), (1097, 0.017072179212006575), (1098, 0.0017792675146773016), (1099, 0.0), (1100, 0.03803492343022116), (1101, 0.0954333190284544), (1102, 0.00216556058844687), (1103, 0.06744939855534508), (1104, 0.006406777095081747), (1105, 0.0), (1106, 0.016445424890231417), (1107, 0.03681212304718691), (1108, 0.0), (1109, 0.002419483995496781), (1110, 0.002144735514055842), (1111, 0.022396130663584816), (1112, 0.0021732444445758626), (1113, 0.0), (1114, 0.017411888173748124), (1115, 0.009781936943263007), (1116, 0.006448455469434367), (1117, 0.0020961190398928378), (1118, 0.0), (1119, 0.00882842481885079), (1120, 0.0), (1121, 0.0027336645533175166), (1122, 0.0022214406808584615), (1123, 0.002073722591521458), (1124, 0.0022621502961605055), (1125, 0.005849224161644877), (1126, 0.0), (1127, 0.0), (1128, 0.005964371602690635), (1129, 0.0), (1130, 0.06133479321313646), (1131, 0.0021892507450611137), (1132, 0.013643273058149486), (1133, 0.03122938396897492), (1134, 0.0), (1135, 0.0), (1136, 0.01657295778698845), (1137, 0.004997561989264171), (1138, 0.038503122977667545), (1139, 0.0), (1140, 0.03584641240415736), (1141, 0.00883674052425332), (1142, 0.0), (1143, 0.036054241330740075), (1144, 0.0017396114657171552), (1145, 0.003017246445314566), (1146, 0.0), (1147, 0.0), (1148, 0.009336132630521063), (1149, 0.0), (1150, 0.0), (1151, 0.0), (1152, 0.0), (1153, 0.06582998747945368), (1154, 0.0), (1155, 0.0), (1156, 0.07707593397440575), (1157, 0.0), (1158, 0.0), (1159, 0.0), (1160, 0.007848552397960971), (1161, 0.001969645274049576), (1162, 0.006640762919790123), (1163, 0.04817935658450528), (1164, 0.0), (1165, 0.0), (1166, 0.0), (1167, 0.05260753851551102), (1168, 0.0026201716616094544), (1169, 0.0025536920204749544), (1170, 0.0021844204560492303), (1171, 0.0), (1172, 0.0), (1173, 0.06630163162746802), (1174, 0.002230627719173318), (1175, 0.0653712579316527), (1176, 0.00222728480091416), (1177, 0.03153698757320202), (1178, 0.0), (1179, 0.0021816663196463043), (1180, 0.0), (1181, 0.0), (1182, 0.002226199731452142), (1183, 0.007675184888635242), (1184, 0.03443638208296613), (1185, 0.006412869600592362), (1186, 0.001915901327262131), (1187, 0.002563605002090643), (1188, 0.002290198737637655), (1189, 0.0), (1190, 0.0), (1191, 0.0021905742870986463), (1192, 0.0022861059704580005), (1193, 0.0), (1194, 0.005318162092644244), (1195, 0.0), (1196, 0.0), (1197, 0.015375043256738342), (1198, 0.0), (1199, 0.0019248127688468396), (1200, 0.0), (1201, 0.0), (1202, 0.05768523701283368), (1203, 0.002048684739919216), (1204, 0.0022138231270588185), (1205, 0.0), (1206, 0.002039735290006804), (1207, 0.0), (1208, 0.0027818136989728654), (1209, 0.0018182895517057519), (1210, 0.025107735049031504), (1211, 0.0), (1212, 0.0), (1213, 0.005346992345547894), (1214, 0.0051040034509248705), (1215, 0.0018676855047205052), (1216, 0.021852455611423918), (1217, 0.0018943041272438778), (1218, 0.0), (1219, 0.00195745368002786), (1220, 0.001969370659958587), (1221, 0.03434244590712009), (1222, 0.014018259602387268), (1223, 0.002190408442188227), (1224, 0.00863164420476763), (1225, 0.0023018523443610697), (1226, 0.13635062764869207), (1227, 0.0), (1228, 0.0), (1229, 0.0022779643131939226), (1230, 0.0058424552432468115), (1231, 0.0058328122450103876), (1232, 0.008332684276744313), (1233, 0.0), (1234, 0.008756202084682422), (1235, 0.0), (1236, 0.0055356334294197175), (1237, 0.0075061633533837786), (1238, 0.017289342285628964), (1239, 0.031012381802176702), (1240, 0.0), (1241, 0.0017937475607359824), (1242, 0.015297580629449048), (1243, 0.07565198385814084), (1244, 0.0), (1245, 0.0021150600485843117), (1246, 0.0), (1247, 0.0021074838577943233), (1248, 0.06808360789081513), (1249, 0.027133048863213386), (1250, 0.0), (1251, 0.0019308139295420843), (1252, 0.008192518572844091), (1253, 0.030859922798233873), (1254, 0.0022362664518113247), (1255, 0.09563869087323364), (1256, 0.0), (1257, 0.002150131202861483), (1258, 0.0), (1259, 0.005563463055667995), (1260, 0.006789925091741905), (1261, 0.06715375557482355), (1262, 0.0), (1263, 0.0), (1264, 0.00996050723282653), (1265, 0.0), (1266, 0.0), (1267, 0.016828315592821844), (1268, 0.0), (1269, 0.0), (1270, 0.0), (1271, 0.0), (1272, 0.06167315169104448), (1273, 0.0020766193212690184), (1274, 0.0), (1275, 0.009541092690455676), (1276, 0.004540117564132574), (1277, 0.0016316873920430804), (1278, 0.0), (1279, 0.014656463177164793), (1280, 0.0), (1281, 0.11844510935932336), (1282, 0.043421153681258394), (1283, 0.0), (1284, 0.002124040708800465), (1285, 0.016009606786796773), (1286, 0.0021390924582324615), (1287, 0.0), (1288, 0.0), (1289, 0.017213747103116846), (1290, 0.012718261766899105), (1291, 0.0), (1292, 0.005985725941464862), (1293, 0.0), (1294, 0.0022399442498444045), (1295, 0.13169891222180655), (1296, 0.03787523198738658), (1297, 0.020969778804304284), (1298, 0.0021698805872954205), (1299, 0.0), (1300, 0.005146946320846588), (1301, 0.0316505308893571), (1302, 0.0), (1303, 0.006666866461738337), (1304, 0.0021826939339712657), (1305, 0.00180385940170419), (1306, 0.04315762058102715), (1307, 0.0), (1308, 0.0020018704999746817), (1309, 0.0), (1310, 0.0), (1311, 0.0), (1312, 0.0018413585388172438), (1313, 0.002150126906801694), (1314, 0.09508973944401528), (1315, 0.0), (1316, 0.0), (1317, 0.006699676430423988), (1318, 0.0344919381395384), (1319, 0.002140728530224396), (1320, 0.004778249232223841), (1321, 0.0), (1322, 0.0), (1323, 0.0), (1324, 0.03571185897454227), (1325, 0.008962504289275083), (1326, 0.0), (1327, 0.0), (1328, 0.0), (1329, 0.0543470942255568), (1330, 0.005975239867311793), (1331, 0.0), (1332, 0.0), (1333, 0.0), (1334, 0.008488466922723963), (1335, 0.008351232385671321), (1336, 0.0), (1337, 0.008438460319090063), (1338, 0.008132839756680946), (1339, 0.04205499504045141), (1340, 0.02843152359266349), (1341, 0.029448954343965408), (1342, 0.026134316823362147), (1343, 0.0072359241426760154), (1344, 0.03022917402696692), (1345, 0.0), (1346, 0.0), (1347, 0.03022944993784919), (1348, 0.005302010661797245), (1349, 0.002458521300962116), (1350, 0.002125428165771238), (1351, 0.019143718118962066), (1352, 0.0018534471725950566), (1353, 0.09030388033440219), (1354, 0.0), (1355, 0.0022344475800795665), (1356, 0.0018467926751637481), (1357, 0.002010787279165211), (1358, 0.0), (1359, 0.029257092794047406), (1360, 0.007525686749708549), (1361, 0.06823853658314999), (1362, 0.06977184920492549), (1363, 0.0), (1364, 0.0022656634402018015), (1365, 0.0018425474783319237), (1366, 0.001968231728961571), (1367, 0.05409332200727302), (1368, 0.0), (1369, 0.006767847082808984), (1370, 0.0018813951433110448), (1371, 0.006761528591937427), (1372, 0.002046819541855718), (1373, 0.0), (1374, 0.0), (1375, 0.029899122107313013), (1376, 0.0), (1377, 0.006670266744517471), (1378, 0.0021801157697732398), (1379, 0.031099826424079217), (1380, 0.0), (1381, 0.0), (1382, 0.0022521942767134632), (1383, 0.0024630687109080244), (1384, 0.0), (1385, 0.0082792972377703), (1386, 0.0), (1387, 0.00746468496420599), (1388, 0.006113433042473512), (1389, 0.017608939113825602), (1390, 0.0), (1391, 0.0), (1392, 0.029765848684731075), (1393, 0.006391335359777361), (1394, 0.08917915131633371), (1395, 0.0), (1396, 0.0), (1397, 0.0018868898774653934), (1398, 0.0025258844078925266), (1399, 0.0), (1400, 0.002300036920390469), (1401, 0.0), (1402, 0.058087932627948875), (1403, 0.0016764378827763423), (1404, 0.0020625414987426737), (1405, 0.0), (1406, 0.005948988629021539), (1407, 0.05102981160158164), (1408, 0.0021250837467010866), (1409, 0.0023343197490565924), (1410, 0.002205287540028049), (1411, 0.0021561515699604623), (1412, 0.00579363983382502), (1413, 0.0022144353242067667), (1414, 0.0019465852563177032), (1415, 0.0017877054736864734), (1416, 0.002085118218080877), (1417, 0.006454659062417045), (1418, 0.0), (1419, 0.023522935237425595), (1420, 0.04589487416250288), (1421, 0.0021034925565447805), (1422, 0.002124482999831688), (1423, 0.0019364781941015859), (1424, 0.0), (1425, 0.0), (1426, 0.0), (1427, 0.0017886445619738121), (1428, 0.029667321728761187), (1429, 0.03273196853247454), (1430, 0.029100921475623837), (1431, 0.0), (1432, 0.006340455582563418), (1433, 0.0020299741905784644), (1434, 0.0019921323334690464), (1435, 0.0), (1436, 0.04440473808253276), (1437, 0.0), (1438, 0.008189026222170555), (1439, 0.0022846079572551156), (1440, 0.008396550339494897), (1441, 0.0), (1442, 0.004320357852252255), (1443, 0.0), (1444, 0.0), (1445, 0.0), (1446, 0.0020909782265085396), (1447, 0.0), (1448, 0.030934513114851334), (1449, 0.0), (1450, 0.001880332830695636), (1451, 0.03880110989523728), (1452, 0.0), (1453, 0.0), (1454, 0.11410737861746875), (1455, 0.053198101345184434), (1456, 0.017546589558270893), (1457, 0.0), (1458, 0.0), (1459, 0.0), (1460, 0.0), (1461, 0.006155036507873698), (1462, 0.0020013472133040455), (1463, 0.03227872706158279), (1464, 0.001787343270036637), (1465, 0.0018917229546730355), (1466, 0.0), (1467, 0.0), (1468, 0.06121135768289863), (1469, 0.0647993052278766), (1470, 0.0), (1471, 0.006131890962131194), (1472, 0.0022073368806291445), (1473, 0.0), (1474, 0.0024333572893656687), (1475, 0.002274663198757778), (1476, 0.0022106278781365224), (1477, 0.0020125588170911432), (1478, 0.007918266912760048), (1479, 0.07104477736542843), (1480, 0.09027284052543222), (1481, 0.00800315967581254), (1482, 0.0), (1483, 0.00820476143120672), (1484, 0.10647399056129338), (1485, 0.028236214725877687), (1486, 0.0), (1487, 0.0), (1488, 0.0021874549410474554), (1489, 0.0024518009086870467), (1490, 0.0), (1491, 0.0), (1492, 0.056964518734896774), (1493, 0.07460048597786889), (1494, 0.028049281818655736), (1495, 0.0), (1496, 0.0), (1497, 0.0024902140743923084), (1498, 0.002425804034720658), (1499, 0.002442551470771402), (1500, 0.0021558971010270885), (1501, 0.0), (1502, 0.0), (1503, 0.001978320543462718), (1504, 0.06802251014992244), (1505, 0.09740303840044207), (1506, 0.00983105717419831), (1507, 0.006970454872407567), (1508, 0.0), (1509, 0.03713006835788131), (1510, 0.0022027770739720437), (1511, 0.018903066225637907), (1512, 0.0), (1513, 0.008613733592999561), (1514, 0.0020193419100246962), (1515, 0.021088754593575974), (1516, 0.002247127028782027), (1517, 0.0), (1518, 0.002349983544542007), (1519, 0.0020177324545958566), (1520, 0.0), (1521, 0.0), (1522, 0.0), (1523, 0.0), (1524, 0.0), (1525, 0.0), (1526, 0.0), (1527, 0.028597902898664294), (1528, 0.001981843288123695), (1529, 0.0), (1530, 0.0), (1531, 0.0), (1532, 0.059415274978607), (1533, 0.065706958587428), (1534, 0.02474488619710062), (1535, 0.0), (1536, 0.06432188230515784), (1537, 0.002336083351075347), (1538, 0.00198055158341459), (1539, 0.0019456356182932268), (1540, 0.007110571032365782), (1541, 0.0), (1542, 0.024325481503653625), (1543, 0.018048533151981357), (1544, 0.07213400700883033), (1545, 0.03001149417988859), (1546, 0.0), (1547, 0.002541320291062194), (1548, 0.0), (1549, 0.028878400465771507), (1550, 0.03301217440060289), (1551, 0.03075961991239796), (1552, 0.0), (1553, 0.11645618158131678), (1554, 0.0), (1555, 0.022433898043491208), (1556, 0.0), (1557, 0.0), (1558, 0.002028312133664149), (1559, 0.054172041481592104), (1560, 0.0), (1561, 0.030082022549081468), (1562, 0.15031127357002314), (1563, 0.0), (1564, 0.0), (1565, 0.0018650649813073618), (1566, 0.0), (1567, 0.02128289340575339), (1568, 0.031509327877897154), (1569, 0.030568796437177217), (1570, 0.00229471655815823), (1571, 0.0018039715465114911), (1572, 0.01527523739093489), (1573, 0.0), (1574, 0.0022018962274878225), (1575, 0.03350981879340098), (1576, 0.0), (1577, 0.0), (1578, 0.0176121829568519), (1579, 0.0), (1580, 0.0024077197343169636), (1581, 0.0), (1582, 0.10558047761394922), (1583, 0.0), (1584, 0.0), (1585, 0.03825480139941729), (1586, 0.0), (1587, 0.0), (1588, 0.0), (1589, 0.030657066722863287), (1590, 0.0), (1591, 0.007049567083491245), (1592, 0.03035313343316748), (1593, 0.002644274874110653), (1594, 0.03748348505759662), (1595, 0.06661628023511748), (1596, 0.026604171693090577), (1597, 0.029565429920635974), (1598, 0.0021539191377743364), (1599, 0.0), (1600, 0.0), (1601, 0.0), (1602, 0.0), (1603, 0.0), (1604, 0.0), (1605, 0.0019712467048247865), (1606, 0.0), (1607, 0.0), (1608, 0.0019259872666458444), (1609, 0.0), (1610, 0.0), (1611, 0.0), (1612, 0.023997029473989392), (1613, 0.03255343590658911), (1614, 0.08558396772677183), (1615, 0.0), (1616, 0.033449182440241775), (1617, 0.00213017185587035), (1618, 0.0), (1619, 0.0023252943871414264), (1620, 0.007731891901555949), (1621, 0.00815166182694917), (1622, 0.0), (1623, 0.038251232748733974), (1624, 0.0017755719989220615), (1625, 0.0019620535470390465), (1626, 0.050531789065587744), (1627, 0.0018651642202976116), (1628, 0.001996491056498968), (1629, 0.0085355456080001), (1630, 0.0057755802326613795), (1631, 0.0), (1632, 0.0), (1633, 0.06992124806769529), (1634, 0.047835881163473024), (1635, 0.0), (1636, 0.017229324312002872), (1637, 0.002340513737801212), (1638, 0.0), (1639, 0.0), (1640, 0.0), (1641, 0.002023384741131094), (1642, 0.0020194425724045575), (1643, 0.050670733473750555), (1644, 0.0), (1645, 0.032342365215224676), (1646, 0.0), (1647, 0.1692855094838092), (1648, 0.0016294688401720175), (1649, 0.0), (1650, 0.0020232992611692586), (1651, 0.0), (1652, 0.0), (1653, 0.0021277889508307894), (1654, 0.029873800350294313), (1655, 0.0026541890076688685), (1656, 0.00250160684923068), (1657, 0.0), (1658, 0.0024157338626764257), (1659, 0.0), (1660, 0.01975162512191712), (1661, 0.0), (1662, 0.0), (1663, 0.0020555735434475086), (1664, 0.0), (1665, 0.007742241367583161), (1666, 0.002151728789645102), (1667, 0.007620677434931789), (1668, 0.0), (1669, 0.0), (1670, 0.002296544088174416), (1671, 0.013898879779321704), (1672, 0.0019974621417934496), (1673, 0.0), (1674, 0.006639976931936443), (1675, 0.0019877671689783817), (1676, 0.0), (1677, 0.0017166393463696238), (1678, 0.008221654922247648), (1679, 0.0), (1680, 0.039129570385589396), (1681, 0.006682678502025351), (1682, 0.0020475934637622646), (1683, 0.002334904955727384), (1684, 0.0), (1685, 0.002308556752074233), (1686, 0.0), (1687, 0.008767243241616736), (1688, 0.0022249772891679725), (1689, 0.0490997774364937), (1690, 0.0019658782358249454), (1691, 0.0018617833282735979), (1692, 0.0), (1693, 0.0020486830114069964), (1694, 0.036060967828089346), (1695, 0.0), (1696, 0.0), (1697, 0.0), (1698, 0.0), (1699, 0.027077684104558453), (1700, 0.0), (1701, 0.0), (1702, 0.0), (1703, 0.0022575919272505877), (1704, 0.0), (1705, 0.006518095130081303), (1706, 0.002201841809142712), (1707, 0.04010808307921237), (1708, 0.0023435430113066093), (1709, 0.0), (1710, 0.018556782652344592), (1711, 0.002736238394856018), (1712, 0.0023323042606238267), (1713, 0.0), (1714, 0.0), (1715, 0.0), (1716, 0.00927350251803353), (1717, 0.0022471873591045043), (1718, 0.0), (1719, 0.001969215616032446), (1720, 0.0311716318740617), (1721, 0.011391655761992116), (1722, 0.0022034031474347723), (1723, 0.0), (1724, 0.0), (1725, 0.024229279569914768), (1726, 0.0), (1727, 0.008597391627937705), (1728, 0.0), (1729, 0.0), (1730, 0.0019892751884478758), (1731, 0.0), (1732, 0.0), (1733, 0.002392440217971498), (1734, 0.0), (1735, 0.006277244496324398), (1736, 0.008656373020467184), (1737, 0.0), (1738, 0.005778482266166704), (1739, 0.007434973627440833), (1740, 0.008435114547010156), (1741, 0.0), (1742, 0.0020631180986504308), (1743, 0.0018572694979374846), (1744, 0.00208155507334293), (1745, 0.0), (1746, 0.0), (1747, 0.026053966874361543), (1748, 0.002554636823766981), (1749, 0.0), (1750, 0.027969589314413866), (1751, 0.0), (1752, 0.02587561214719286), (1753, 0.034257597177256044), (1754, 0.059444007457993706), (1755, 0.0), (1756, 0.05449274595217303), (1757, 0.0), (1758, 0.0), (1759, 0.0020616539057170054), (1760, 0.0020173711317172387), (1761, 0.0), (1762, 0.001946539603204626), (1763, 0.0018685201129147056), (1764, 0.0018913564236976933), (1765, 0.0022567311434625883), (1766, 0.0), (1767, 0.0), (1768, 0.0022433706664978068), (1769, 0.0), (1770, 0.025160477237422124), (1771, 0.0), (1772, 0.0), (1773, 0.016383709557156134), (1774, 0.006313656263184445), (1775, 0.03265653991656422), (1776, 0.007282266712800501), (1777, 0.017179591514303153), (1778, 0.0), (1779, 0.053447061861529886), (1780, 0.0014233790376078407), (1781, 0.0051791500220681325), (1782, 0.030619949749521497), (1783, 0.0), (1784, 0.061000284825325664), (1785, 0.03395200693326056), (1786, 0.0), (1787, 0.0), (1788, 0.0), (1789, 0.005620752610490769), (1790, 0.0), (1791, 0.0), (1792, 0.0025641930979064175), (1793, 0.002045083943080776), (1794, 0.0), (1795, 0.04341899967742316), (1796, 0.007544601437097731), (1797, 0.0053363821233393454), (1798, 0.0023424223729738626), (1799, 0.0), (1800, 0.0), (1801, 0.016451874796139444), (1802, 0.10724988146950976), (1803, 0.0), (1804, 0.029364904150691602), (1805, 0.02134364312876345), (1806, 0.006645290337364421), (1807, 0.002140244656987047), (1808, 0.001956859327982045), (1809, 0.0), (1810, 0.0), (1811, 0.002164422084891431), (1812, 0.0), (1813, 0.002118357535456254), (1814, 0.0020090537264467532), (1815, 0.00704615761931255), (1816, 0.04006603151166526), (1817, 0.03055366641089001), (1818, 0.0), (1819, 0.002032808546907439), (1820, 0.0), (1821, 0.008677111188451676), (1822, 0.0023033327808394187), (1823, 0.0), (1824, 0.06518275010368885), (1825, 0.0), (1826, 0.001973071843623581), (1827, 0.058575156527995706), (1828, 0.0018827388731733918), (1829, 0.08422748225692915), (1830, 0.0019333635175652715), (1831, 0.03310202130171703), (1832, 0.045394367530652825), (1833, 0.001868393556154693), (1834, 0.0), (1835, 0.0), (1836, 0.0), (1837, 0.0), (1838, 0.02697100751626874), (1839, 0.0), (1840, 0.015838749804374094), (1841, 0.0), (1842, 0.0), (1843, 0.0024748125677192907), (1844, 0.018359060602726143), (1845, 0.0203787634552803), (1846, 0.0), (1847, 0.006284551584151185), (1848, 0.025941758243571953), (1849, 0.0), (1850, 0.0), (1851, 0.002271614308487934), (1852, 0.04544331798660274), (1853, 0.008752516586577582), (1854, 0.007894865929889344), (1855, 0.0), (1856, 0.0), (1857, 0.0), (1858, 0.044271988418645616), (1859, 0.0), (1860, 0.0022439684847875563), (1861, 0.006267750458392127), (1862, 0.002443716136226979), (1863, 0.027029155246522857), (1864, 0.0020986595844068455), (1865, 0.023549425334161544), (1866, 0.002382541986468243), (1867, 0.0), (1868, 0.0), (1869, 0.001975554313732211), (1870, 0.0), (1871, 0.00173666336664296), (1872, 0.0022068878759564474), (1873, 0.03132765930000561), (1874, 0.008936296533536357), (1875, 0.00200369937358721), (1876, 0.002194503634980664), (1877, 0.0020821262151706297), (1878, 0.0020717605218126176), (1879, 0.0), (1880, 0.0), (1881, 0.0), (1882, 0.01852200381514563), (1883, 0.0), (1884, 0.002039418299491713), (1885, 0.002556611191364672), (1886, 0.0017342761448030462), (1887, 0.03085496544860032), (1888, 0.030743705917997508), (1889, 0.0), (1890, 0.002421135396518491), (1891, 0.0021630366588579223), (1892, 0.0019813276370485686), (1893, 0.0023013827455921607), (1894, 0.0), (1895, 0.022042580823895177), (1896, 0.0023147527166365728), (1897, 0.0023657866593515074), (1898, 0.0), (1899, 0.0), (1900, 0.0), (1901, 0.0), (1902, 0.0022934756873485536), (1903, 0.03356465717909198), (1904, 0.0), (1905, 0.002378849534529656), (1906, 0.0), (1907, 0.0023486712246889607), (1908, 0.0), (1909, 0.0024766137815590596), (1910, 0.0), (1911, 0.0), (1912, 0.0), (1913, 0.030884924290947816), (1914, 0.0), (1915, 0.029763444525998356), (1916, 0.0022993479389914824), (1917, 0.0), (1918, 0.002304768931156771), (1919, 0.09081471755039464), (1920, 0.03519332310243699), (1921, 0.0019500269653825845), (1922, 0.008347246282568846), (1923, 0.009183392014959858), (1924, 0.002492774031976998), (1925, 0.0), (1926, 0.0), (1927, 0.016473760259162806), (1928, 0.0), (1929, 0.0020801201041085265), (1930, 0.0), (1931, 0.0022293553840819816), (1932, 0.0), (1933, 0.03365702759254826), (1934, 0.0019482800856599396), (1935, 0.0), (1936, 0.034216620095428016), (1937, 0.011957868937670264), (1938, 0.0), (1939, 0.0), (1940, 0.0), (1941, 0.0), (1942, 0.008412732327178077), (1943, 0.03313001641207138), (1944, 0.08066459629505676), (1945, 0.006133134846895202), (1946, 0.002242169573136524), (1947, 0.002532975010281036), (1948, 0.0), (1949, 0.006310443872598335), (1950, 0.0017822683072234522), (1951, 0.0023150174589741607), (1952, 0.0), (1953, 0.0), (1954, 0.00193284680862019), (1955, 0.0), (1956, 0.05640878030993176), (1957, 0.0), (1958, 0.006213057292242308), (1959, 0.002360277691007037), (1960, 0.02093048469924557), (1961, 0.0), (1962, 0.0), (1963, 0.0), (1964, 0.12220110779486906), (1965, 0.0), (1966, 0.0), (1967, 0.008032996166762053), (1968, 0.0025624339140113556), (1969, 0.0021057114482568224), (1970, 0.10544894418678681), (1971, 0.024767775671268068), (1972, 0.0), (1973, 0.005726063551038545), (1974, 0.08875762661572105), (1975, 0.0), (1976, 0.0), (1977, 0.0019427196642392431), (1978, 0.02789417148214479), (1979, 0.0), (1980, 0.0019570712890819523), (1981, 0.02953199567061032), (1982, 0.0), (1983, 0.07380182522135471), (1984, 0.0), (1985, 0.043536078334242896), (1986, 0.006019815041596355), (1987, 0.005587384984598242), (1988, 0.0), (1989, 0.006641469455403782), (1990, 0.0), (1991, 0.0), (1992, 0.005686616284269022), (1993, 0.029881319688634247), (1994, 0.0), (1995, 0.0023462323870154286), (1996, 0.021058534912996148), (1997, 0.015597114025005904), (1998, 0.0), (1999, 0.0), (2000, 0.026678746342934195), (2001, 0.031423959425797635), (2002, 0.0), (2003, 0.03023559819596083), (2004, 0.01776744756245885), (2005, 0.0), (2006, 0.0), (2007, 0.0), (2008, 0.0021219524343647667), (2009, 0.0), (2010, 0.0017231323817339821), (2011, 0.0019840689975144693), (2012, 0.0), (2013, 0.0), (2014, 0.031127586264517), (2015, 0.0), (2016, 0.008584153825231262), (2017, 0.047029454893297254), (2018, 0.0), (2019, 0.0), (2020, 0.0), (2021, 0.0), (2022, 0.03654659599268859), (2023, 0.013518809186728032), (2024, 0.007918256986364848), (2025, 0.0), (2026, 0.006082090120565534), (2027, 0.0021047455213968097), (2028, 0.0), (2029, 0.06646199223284123), (2030, 0.0), (2031, 0.043552932217288544), (2032, 0.0), (2033, 0.0), (2034, 0.0017976654606310823), (2035, 0.0018484638583651123), (2036, 0.0), (2037, 0.04620635554126003), (2038, 0.0), (2039, 0.0018353997017421253), (2040, 0.03498588859977604), (2041, 0.0), (2042, 0.0), (2043, 0.0), (2044, 0.0), (2045, 0.0022174891317951907), (2046, 0.0), (2047, 0.0019281291250287781), (2048, 0.002245802668804536), (2049, 0.0024055010076590665), (2050, 0.0), (2051, 0.002479067681543719), (2052, 0.0), (2053, 0.008536975210372728), (2054, 0.0), (2055, 0.0074943171486686715), (2056, 0.05535644039819511), (2057, 0.03625426128061014), (2058, 0.0), (2059, 0.0), (2060, 0.002159812767068846), (2061, 0.002210007477502567), (2062, 0.0), (2063, 0.0), (2064, 0.0), (2065, 0.007428947356815889), (2066, 0.00684749673980362), (2067, 0.0021950875225662902), (2068, 0.0020733809813433227), (2069, 0.03289333903454678), (2070, 0.007072769444290364), (2071, 0.0), (2072, 0.002260977253416421), (2073, 0.0022237895698258878), (2074, 0.0), (2075, 0.002859033882012464), (2076, 0.006973981258989301), (2077, 0.03596021676270367), (2078, 0.0), (2079, 0.0), (2080, 0.007989241037341986), (2081, 0.0), (2082, 0.006603438919731264), (2083, 0.0022834628521780642), (2084, 0.023652557228554517), (2085, 0.032607246781071166), (2086, 0.0), (2087, 0.0021341191722537415), (2088, 0.002286063159165035), (2089, 0.0025639100964529584), (2090, 0.0), (2091, 0.002212338787894796), (2092, 0.0), (2093, 0.011259037976059892), (2094, 0.0), (2095, 0.0), (2096, 0.03550860692191753), (2097, 0.00899820634449637), (2098, 0.029535255283005452), (2099, 0.002039440075212191), (2100, 0.06329646642715059), (2101, 0.0), (2102, 0.002133114822468707), (2103, 0.002124641817794665), (2104, 0.10605341917403852), (2105, 0.002323474402730148), (2106, 0.0), (2107, 0.0), (2108, 0.0024218193983711034), (2109, 0.0021994852651080828), (2110, 0.02155690947944386), (2111, 0.002137328576252532), (2112, 0.009126555377434627), (2113, 0.0), (2114, 0.018451062718532724), (2115, 0.0), (2116, 0.0023549613413775417), (2117, 0.0020929736968098335), (2118, 0.03504098270302353), (2119, 0.005646627788269873), (2120, 0.0), (2121, 0.022942100631243523), (2122, 0.0022027526079625354), (2123, 0.02027688470333994), (2124, 0.0), (2125, 0.0), (2126, 0.00852760793156979), (2127, 0.0018317494759076181), (2128, 0.0), (2129, 0.031021527876141493), (2130, 0.0), (2131, 0.0666294240263708), (2132, 0.0018228869276232214), (2133, 0.0020638259641875332), (2134, 0.0024406218079158055), (2135, 0.0), (2136, 0.0), (2137, 0.003092558597911106), (2138, 0.0), (2139, 0.0), (2140, 0.0), (2141, 0.00208555987090715), (2142, 0.05619105971922079), (2143, 0.002086166616851116), (2144, 0.0022009313065043433), (2145, 0.0), (2146, 0.0018646979503907138), (2147, 0.0), (2148, 0.002261597721351963), (2149, 0.00203871606030638), (2150, 0.0), (2151, 0.0023263875967275333), (2152, 0.02661383694654059), (2153, 0.0), (2154, 0.010591594985563786), (2155, 0.002220111526529327), (2156, 0.015500945016266554), (2157, 0.0018347347187621724), (2158, 0.043587523885195094), (2159, 0.0024060531813327644), (2160, 0.0), (2161, 0.0), (2162, 0.042488629710845986), (2163, 0.0019469381745640258), (2164, 0.0), (2165, 0.0), (2166, 0.00205494050347016), (2167, 0.0), (2168, 0.0), (2169, 0.002196073268786368), (2170, 0.0430948408509781), (2171, 0.0), (2172, 0.0), (2173, 0.0021486149192228177), (2174, 0.008196261571349547), (2175, 0.0), (2176, 0.0024087168968819467), (2177, 0.0), (2178, 0.005920625128640622), (2179, 0.0), (2180, 0.035775092195534076), (2181, 0.03236115576863712), (2182, 0.0), (2183, 0.0), (2184, 0.005717855309665346), (2185, 0.0), (2186, 0.0), (2187, 0.002504225065685819), (2188, 0.0026629169442851683), (2189, 0.0030629069508542567), (2190, 0.0023519595911604863), (2191, 0.001956837304925388), (2192, 0.002197360525728215), (2193, 0.0022018175062991827), (2194, 0.0), (2195, 0.0021762156137820937), (2196, 0.04184046346807277), (2197, 0.048994326206806486), (2198, 0.0), (2199, 0.0028403110561294256), (2200, 0.0), (2201, 0.0020297681535856797), (2202, 0.0), (2203, 0.0), (2204, 0.030416361141204305), (2205, 0.0), (2206, 0.005818137802206589), (2207, 0.0), (2208, 0.0), (2209, 0.0024291717132025703), (2210, 0.014595983235063654), (2211, 0.0018283033895053126), (2212, 0.031599541983058005), (2213, 0.05072154793641495), (2214, 0.008990585451049162), (2215, 0.0), (2216, 0.008103963728582603), (2217, 0.024891218712764247), (2218, 0.038386409906440405), (2219, 0.012847005411387315), (2220, 0.0), (2221, 0.001813957043072868), (2222, 0.030239397393774875), (2223, 0.0024809155368934674), (2224, 0.00784641796138395), (2225, 0.0), (2226, 0.018484903650659343), (2227, 0.0546973703768243), (2228, 0.06893595740536322), (2229, 0.00903652223904439), (2230, 0.002240850056145719), (2231, 0.0), (2232, 0.0), (2233, 0.0), (2234, 0.02151929800184164), (2235, 0.006254709481102126), (2236, 0.0019799828358255164), (2237, 0.0019146432033685962), (2238, 0.0), (2239, 0.0), (2240, 0.020301416016196512), (2241, 0.0), (2242, 0.002073954917973591), (2243, 0.0), (2244, 0.0), (2245, 0.0), (2246, 0.04123033112824657), (2247, 0.0), (2248, 0.001961636400678748), (2249, 0.018204967565695927), (2250, 0.10516331075249888), (2251, 0.003035925205943155), (2252, 0.006558330859795504), (2253, 0.0), (2254, 0.008873318661151302), (2255, 0.002815106707607333), (2256, 0.02812016481334654), (2257, 0.002809246727495298), (2258, 0.03393700882141998), (2259, 0.0), (2260, 0.0023341459722240956), (2261, 0.0), (2262, 0.0), (2263, 0.0), (2264, 0.03802169083497799), (2265, 0.0019808358310395534), (2266, 0.002686700682487312), (2267, 0.0), (2268, 0.0021073005320696846), (2269, 0.136230871816428), (2270, 0.001885260111382778), (2271, 0.0), (2272, 0.0), (2273, 0.0), (2274, 0.0), (2275, 0.008243006342707875), (2276, 0.060575721844493766), (2277, 0.002211834726407238), (2278, 0.0), (2279, 0.008056771163131915), (2280, 0.03703222219880967), (2281, 0.0), (2282, 0.0), (2283, 0.0), (2284, 0.008313512343508144), (2285, 0.0019633818586422725), (2286, 0.002788465725700991), (2287, 0.0018203942563094137), (2288, 0.0023079527610002032), (2289, 0.0021668592481668206), (2290, 0.0), (2291, 0.0), (2292, 0.002222319742427013), (2293, 0.0023783921980268475), (2294, 0.0), (2295, 0.008400364671147586), (2296, 0.0), (2297, 0.06452135551666602), (2298, 0.0), (2299, 0.0034892039272705175), (2300, 0.025149561784256307), (2301, 0.0019959474226297702), (2302, 0.002478333105302187), (2303, 0.00205788975596924), (2304, 0.006800997529464742), (2305, 0.0), (2306, 0.023917371793191127), (2307, 0.0), (2308, 0.0), (2309, 0.002084335588144738), (2310, 0.0029173495370654035), (2311, 0.01573025017077519), (2312, 0.0), (2313, 0.0022152898890910352), (2314, 0.0), (2315, 0.0), (2316, 0.006519833970657948), (2317, 0.002018908810466528), (2318, 0.029683266900039577), (2319, 0.002266724743598551), (2320, 0.002536588398802964), (2321, 0.047907029258161815), (2322, 0.06726855505011352), (2323, 0.09083445600056439), (2324, 0.005630489792808889), (2325, 0.0), (2326, 0.013669287716422101), (2327, 0.0), (2328, 0.0), (2329, 0.0), (2330, 0.0), (2331, 0.0), (2332, 0.0), (2333, 0.0), (2334, 0.00851094874181185), (2335, 0.0), (2336, 0.006052763726994154), (2337, 0.0), (2338, 0.0019713700547166176), (2339, 0.0), (2340, 0.09631001703777142), (2341, 0.0), (2342, 0.0), (2343, 0.0), (2344, 0.0021865043047343126), (2345, 0.0), (2346, 0.009401662075572439), (2347, 0.06375995543448779), (2348, 0.0020552363137271456), (2349, 0.0030211310476973823), (2350, 0.0028038193206934474), (2351, 0.0), (2352, 0.026746995070421168), (2353, 0.06777259977194224), (2354, 0.0021841443163177847), (2355, 0.031732736287414985), (2356, 0.07387009350354057), (2357, 0.0), (2358, 0.0), (2359, 0.0018211916916482083), (2360, 0.03051546642639412), (2361, 0.002314415075064832), (2362, 0.0020001352257198062), (2363, 0.007522188267469817), (2364, 0.0), (2365, 0.0), (2366, 0.03182026122249667), (2367, 0.0020886400207682466), (2368, 0.03730158365443575), (2369, 0.0), (2370, 0.0022732372237287673), (2371, 0.0), (2372, 0.0), (2373, 0.0), (2374, 0.019158627747382015), (2375, 0.0023971057730642112), (2376, 0.0), (2377, 0.0), (2378, 0.0025678479873287316), (2379, 0.003148991527691896), (2380, 0.0), (2381, 0.0), (2382, 0.001869123960422867), (2383, 0.0067680177518572035), (2384, 0.0), (2385, 0.002298161573050745), (2386, 0.002230806945572663), (2387, 0.002177223999362923), (2388, 0.005357652559207908), (2389, 0.014916130247906917), (2390, 0.002391987166608167), (2391, 0.002330459726262333), (2392, 0.0028489540661901154), (2393, 0.0023285465927375985), (2394, 0.0022991475991795147), (2395, 0.0), (2396, 0.0022018000548229034), (2397, 0.002219129798014228), (2398, 0.0), (2399, 0.0020141276664572124), (2400, 0.002467922532830436), (2401, 0.002120582242565319), (2402, 0.001976039502083306), (2403, 0.0266634584428071), (2404, 0.002967786150501377), (2405, 0.0022693831462942673), (2406, 0.009712825821855977), (2407, 0.00301615501966907), (2408, 0.03099063942306313), (2409, 0.029807656206240308), (2410, 0.036727085027893645), (2411, 0.0024707249462806355), (2412, 0.007179916319145772), (2413, 0.0), (2414, 0.0), (2415, 0.0026476663316161273), (2416, 0.0021504957344185313), (2417, 0.02213392562026252), (2418, 0.00231287262606918), (2419, 0.0022923814197074828), (2420, 0.0), (2421, 0.017037889644088863), (2422, 0.0021180411205708413), (2423, 0.002749820884296626), (2424, 0.005517209228680785), (2425, 0.002827910991728342), (2426, 0.0), (2427, 0.0025345093519146926), (2428, 0.0024079895073223835), (2429, 0.08943530662829052), (2430, 0.002213776270232978), (2431, 0.0), (2432, 0.0), (2433, 0.0), (2434, 0.002608503535825121), (2435, 0.0), (2436, 0.002438714127912325), (2437, 0.0024766405828715566), (2438, 0.023415548593630157), (2439, 0.0), (2440, 0.03621572345031562), (2441, 0.027110181725384437), (2442, 0.022112753688673208), (2443, 0.04466329281529158), (2444, 0.006208895017796242), (2445, 0.03177989746963429), (2446, 0.0020266030490446417), (2447, 0.036952816170768094), (2448, 0.0028495893494512124), (2449, 0.0), (2450, 0.0), (2451, 0.0), (2452, 0.0), (2453, 0.00200542078921425), (2454, 0.002634791284213274), (2455, 0.0), (2456, 0.0), (2457, 0.0019627714206032856), (2458, 0.0), (2459, 0.002655812507842058), (2460, 0.0), (2461, 0.0021156043475866674), (2462, 0.0), (2463, 0.04131998627263377), (2464, 0.00906877380751464), (2465, 0.06032639841835322), (2466, 0.0022408500859277137), (2467, 0.0021051673394932844), (2468, 0.00711201136693203), (2469, 0.0017083487458251392), (2470, 0.0), (2471, 0.0), (2472, 0.0), (2473, 0.0020780389145978366), (2474, 0.025685390897708608), (2475, 0.002346514598018392), (2476, 0.0), (2477, 0.0361711205301293), (2478, 0.0025048358446294215), (2479, 0.0), (2480, 0.06205538782006399), (2481, 0.0018170692723047434), (2482, 0.002011234632388442), (2483, 0.0), (2484, 0.002917441549859911), (2485, 0.0), (2486, 0.006949662377724469), (2487, 0.018506463959430758), (2488, 0.002666605973441686), (2489, 0.008426815513863605), (2490, 0.003144902561261477), (2491, 0.0), (2492, 0.0021956251725054774), (2493, 0.0), (2494, 0.0023524675439574594), (2495, 0.0021817760228164665), (2496, 0.03559532182857265), (2497, 0.028904765369932015), (2498, 0.0), (2499, 0.0), (2500, 0.0), (2501, 0.0), (2502, 0.0019251307744206894), (2503, 0.0), (2504, 0.0), (2505, 0.0024232271551784717), (2506, 0.0), (2507, 0.002370270362859933), (2508, 0.0), (2509, 0.027511979225965738), (2510, 0.0), (2511, 0.0), (2512, 0.03307514549008681), (2513, 0.0), (2514, 0.0), (2515, 0.0), (2516, 0.03316079617771968), (2517, 0.0), (2518, 0.0), (2519, 0.006278639088300119), (2520, 0.0018915093772757235), (2521, 0.0), (2522, 0.008812764020116617), (2523, 0.0), (2524, 0.004904818968549079), (2525, 0.0020546373803435264), (2526, 0.0017852694798563785), (2527, 0.0018766595594647058), (2528, 0.002026292476251951), (2529, 0.0031673685512489413), (2530, 0.0027732646594667747), (2531, 0.0022740039159232974), (2532, 0.0), (2533, 0.002194567017268561), (2534, 0.0009733543378606079), (2535, 0.0024183807527772753), (2536, 0.0), (2537, 0.0029932355570196985), (2538, 0.0013055389087046313), (2539, 0.0), (2540, 0.002079585117034795), (2541, 0.0), (2542, 0.01575630117811214), (2543, 0.0), (2544, 0.0), (2545, 0.002273273380371812), (2546, 0.008608054959421293), (2547, 0.0), (2548, 0.060822864268083504), (2549, 0.0), (2550, 0.028920371388913), (2551, 0.0), (2552, 0.018315385962257902), (2553, 0.032638632023918285), (2554, 0.0022011873281423517), (2555, 0.0049625095273063795), (2556, 0.0020232508160301092), (2557, 0.002706139000651244), (2558, 0.033483061081186614), (2559, 0.0028683455558892097), (2560, 0.0025042795324377054), (2561, 0.0022763982870976683), (2562, 0.0), (2563, 0.03036131276290964), (2564, 0.0), (2565, 0.0023146480130559017), (2566, 0.0), (2567, 0.0), (2568, 0.0026686210142576696), (2569, 0.0021560460234422625), (2570, 0.0025681095815078755), (2571, 0.03234526486675615), (2572, 0.002066919503676913), (2573, 0.0), (2574, 0.03050772845123218), (2575, 0.0), (2576, 0.0), (2577, 0.0), (2578, 0.07334991344664585), (2579, 0.0024457676956756214), (2580, 0.016882032199386502), (2581, 0.007606350028179426), (2582, 0.0), (2583, 0.0), (2584, 0.0), (2585, 0.11564979892037486), (2586, 0.0), (2587, 0.0019363397279501156), (2588, 0.0), (2589, 0.0), (2590, 0.0), (2591, 0.05811343531863658), (2592, 0.0024155800562144936), (2593, 0.0020131274900872663), (2594, 0.0), (2595, 0.0023666281922825765), (2596, 0.0), (2597, 0.0), (2598, 0.061284538076428766), (2599, 0.0), (2600, 0.007679452854613756), (2601, 0.0022755702618465173), (2602, 0.006861114006911867), (2603, 0.0018325885807563957), (2604, 0.0), (2605, 0.0), (2606, 0.002197038375758874), (2607, 0.007411788340150217), (2608, 0.015247047872189268), (2609, 0.002327335415767008), (2610, 0.0023059469601786507), (2611, 0.0018719334653472229), (2612, 0.002107320301999377), (2613, 0.0025705418286266673), (2614, 0.04436319955185501), (2615, 0.0), (2616, 0.0), (2617, 0.09411071991129297), (2618, 0.02980688373136755), (2619, 0.022765281954430595), (2620, 0.0), (2621, 0.007194067211928782), (2622, 0.05310502863608431), (2623, 0.0024701505638376805), (2624, 0.11013953054928374), (2625, 0.009500209762630444), (2626, 0.05697082571950769), (2627, 0.050975278420821946), (2628, 0.002856381184723407), (2629, 0.041124697331249606), (2630, 0.0), (2631, 0.0), (2632, 0.002130680571179789), (2633, 0.002290710966496468), (2634, 0.00203879502876307), (2635, 0.0071322032649806435), (2636, 0.0016381422627798306), (2637, 0.0), (2638, 0.009395146761119697), (2639, 0.0), (2640, 0.0022830172883911036), (2641, 0.0), (2642, 0.0021022330520066206), (2643, 0.0028219487040425286), (2644, 0.0), (2645, 0.04733292177025811), (2646, 0.0), (2647, 0.002209960012365447), (2648, 0.0), (2649, 0.020278178195796973), (2650, 0.03478340365921723), (2651, 0.0020644003480324237), (2652, 0.002205893524150604), (2653, 0.0021055706500761875), (2654, 0.015239815597441147), (2655, 0.0028915968949192322), (2656, 0.0), (2657, 0.0), (2658, 0.0), (2659, 0.024087352961364248), (2660, 0.030090832966115894), (2661, 0.05181197525602093), (2662, 0.0), (2663, 0.0), (2664, 0.002326200567949103), (2665, 0.0), (2666, 0.0), (2667, 0.0), (2668, 0.008508083118242294), (2669, 0.0), (2670, 0.0), (2671, 0.0), (2672, 0.0), (2673, 0.0029026119965697866), (2674, 0.002008557247870461), (2675, 0.037613561514886255), (2676, 0.0), (2677, 0.0), (2678, 0.0035535721854386085), (2679, 0.0020647271650589844), (2680, 0.0), (2681, 0.0), (2682, 0.016241488303404588), (2683, 0.0), (2684, 0.0), (2685, 0.046767452198128834), (2686, 0.0), (2687, 0.002146712486098201), (2688, 0.030783219594786325), (2689, 0.08407879779412451), (2690, 0.0), (2691, 0.0), (2692, 0.007180422705514562), (2693, 0.037082462269430363), (2694, 0.0029065034543553003), (2695, 0.008279098082414248), (2696, 0.002536453882103749), (2697, 0.006769412586820754), (2698, 0.002125899661047469), (2699, 0.05202819487408787), (2700, 0.0), (2701, 0.0), (2702, 0.0024938356381132534), (2703, 0.0), (2704, 0.0), (2705, 0.0023625937223934815), (2706, 0.0020743907461544366), (2707, 0.0025608852983989845), (2708, 0.0), (2709, 0.0), (2710, 0.03882296878046999), (2711, 0.0), (2712, 0.0023313245426966034), (2713, 0.0), (2714, 0.0023092554803258534), (2715, 0.0), (2716, 0.0021017167953022017), (2717, 0.0), (2718, 0.025548372400516054), (2719, 0.0), (2720, 0.04302557419559406), (2721, 0.0018959449890437658), (2722, 0.0030631108182918618), (2723, 0.0023401129161257223), (2724, 0.03436650882620124), (2725, 0.0023335410541912957), (2726, 0.0), (2727, 0.007321158378181979), (2728, 0.001986086705581334), (2729, 0.0), (2730, 0.0), (2731, 0.002928876599042512), (2732, 0.0), (2733, 0.0), (2734, 0.0), (2735, 0.0020146103135246806), (2736, 0.029800133444610452), (2737, 0.02795907026799623), (2738, 0.0025749532053475086), (2739, 0.04341973641946311), (2740, 0.002456756209330327), (2741, 0.00196462008040621), (2742, 0.027376612038602966), (2743, 0.0018707397461818376), (2744, 0.0022613783226106375), (2745, 0.002202393574145119), (2746, 0.06914751422749313), (2747, 0.06172797218008001), (2748, 0.0023727081781282438), (2749, 0.0), (2750, 0.0), (2751, 0.005772214729960664), (2752, 0.00790879640526975), (2753, 0.0019222330190835745), (2754, 0.0), (2755, 0.002307241473614445), (2756, 0.0), (2757, 0.00333966646059138), (2758, 0.016055110949120148), (2759, 0.06414110724367961), (2760, 0.056754605376884), (2761, 0.0018776736250149246), (2762, 0.07309110054501813), (2763, 0.0), (2764, 0.0031086308667097433), (2765, 0.002074048142313661), (2766, 0.06466654658350901), (2767, 0.0017023124072423918), (2768, 0.011754171450185587), (2769, 0.002575438437318793), (2770, 0.024209371343432366), (2771, 0.007016402679186705), (2772, 0.0025847072680716017), (2773, 0.0), (2774, 0.0), (2775, 0.0029621574253571835), (2776, 0.02491606786823952), (2777, 0.03493458374498716), (2778, 0.0026383811276572008), (2779, 0.0020829435613826013), (2780, 0.006302531955281812), (2781, 0.0), (2782, 0.0024288901393827453), (2783, 0.0021958709275522303), (2784, 0.008451762231349934), (2785, 0.0), (2786, 0.002336644830434875), (2787, 0.0), (2788, 0.00619687251977345), (2789, 0.0), (2790, 0.032905909462845724), (2791, 0.005582351295256538), (2792, 0.0023116782918520796), (2793, 0.0), (2794, 0.0), (2795, 0.010442541615921364), (2796, 0.002497059091150464), (2797, 0.002670706279307552), (2798, 0.0022157218527436864), (2799, 0.0), (2800, 0.002061483659143466), (2801, 0.057626510949931764), (2802, 0.002133578954279227), (2803, 0.0019856814181973418), (2804, 0.01741333486176916), (2805, 0.027367545602316114), (2806, 0.0), (2807, 0.0), (2808, 0.008012409166373132), (2809, 0.004593412688741648), (2810, 0.0), (2811, 0.0), (2812, 0.0020563335239352576), (2813, 0.0), (2814, 0.0), (2815, 0.012245695878183272), (2816, 0.017302397902253703), (2817, 0.0), (2818, 0.0), (2819, 0.03315385329048337), (2820, 0.0), (2821, 0.035541198790793), (2822, 0.06193208230907102), (2823, 0.0), (2824, 0.05499134714523267), (2825, 0.006013156620615654), (2826, 0.002193619962275385), (2827, 0.029113289187450916), (2828, 0.0), (2829, 0.0), (2830, 0.0024283981819306103), (2831, 0.0021844757975339408), (2832, 0.002863507649560914), (2833, 0.005425647905096004), (2834, 0.002707017716627609), (2835, 0.07838972441327985), (2836, 0.0), (2837, 0.0), (2838, 0.002788506503855988), (2839, 0.017269812436774525), (2840, 0.002433586844723869), (2841, 0.0012187535207589383), (2842, 0.02705868767205969), (2843, 0.0), (2844, 0.019903152097504696), (2845, 0.12145088644361528), (2846, 0.002553129506237037), (2847, 0.0), (2848, 0.02391205554601613), (2849, 0.008741808249188316), (2850, 0.0), (2851, 0.0), (2852, 0.03855912221379635), (2853, 0.03331091483185261), (2854, 0.002423286459018728), (2855, 0.0), (2856, 0.0), (2857, 0.0026933941984052306), (2858, 0.0030927312405146256), (2859, 0.0020686624093300505), (2860, 0.0), (2861, 0.0028921535922644534), (2862, 0.022458488996120695), (2863, 0.0022497776112424795), (2864, 0.0), (2865, 0.0), (2866, 0.0), (2867, 0.0), (2868, 0.0020187252489457384), (2869, 0.0), (2870, 0.0029579234560433575), (2871, 0.005412295067346497), (2872, 0.0025116531500855156), (2873, 0.0), (2874, 0.005649347112120241), (2875, 0.0), (2876, 0.0018223458894247706), (2877, 0.0), (2878, 0.0023000853397711295), (2879, 0.00265729923254013), (2880, 0.0), (2881, 0.002471220989106547), (2882, 0.002371062860236374), (2883, 0.002952728473786399), (2884, 0.002518827253970383), (2885, 0.0), (2886, 0.007888990338752802), (2887, 0.0022109043185222312), (2888, 0.002363585387768453), (2889, 0.003003705626382801), (2890, 0.0024077034252879548), (2891, 0.0), (2892, 0.0020712167425760448), (2893, 0.0024743985685696337), (2894, 0.034355772404460486), (2895, 0.0026117526119029733), (2896, 0.0), (2897, 0.005814045269077207), (2898, 0.0), (2899, 0.0608914338782642), (2900, 0.0021750302611629304), (2901, 0.002801450851268476), (2902, 0.0016047790850453045), (2903, 0.009273006589610748), (2904, 0.019662351087373006), (2905, 0.0), (2906, 0.0), (2907, 0.0020236368458543008), (2908, 0.03668659084337713), (2909, 0.0021280366821763465), (2910, 0.008090438742435127), (2911, 0.0022708803434286487), (2912, 0.01830472090149106), (2913, 0.00998529253000742), (2914, 0.002467661722144317), (2915, 0.0023728289541222777), (2916, 0.002444047624437772), (2917, 0.001718643800251085), (2918, 0.0219747783505184), (2919, 0.06615373685287716), (2920, 0.001996419636684113), (2921, 0.0), (2922, 0.0), (2923, 0.0029399128943862866), (2924, 0.03882657270052225), (2925, 0.0066390654706592455), (2926, 0.002281935602055499), (2927, 0.0), (2928, 0.0), (2929, 0.015525804753310089), (2930, 0.0), (2931, 0.035790296457864), (2932, 0.010932813688890108), (2933, 0.0018530014006188538), (2934, 0.049122959261458925), (2935, 0.0), (2936, 0.026188099216081284), (2937, 0.0031332170183885856), (2938, 0.0), (2939, 0.007581110799041674), (2940, 0.0023321759483966283), (2941, 0.0), (2942, 0.001888106337404773), (2943, 0.00217412686910703), (2944, 0.006300375675732147), (2945, 0.002135870530383245), (2946, 0.002147338075804061), (2947, 0.0), (2948, 0.007926744359262843), (2949, 0.07410897377178753), (2950, 0.037873832313917354), (2951, 0.0), (2952, 0.0), (2953, 0.0023095650586681163), (2954, 0.001992322852637246), (2955, 0.022380597835933224), (2956, 0.0), (2957, 0.002669415184647811), (2958, 0.0), (2959, 0.0), (2960, 0.0), (2961, 0.008139231252791871), (2962, 0.005792342838512712), (2963, 0.006499165655505319), (2964, 0.002331645653155065), (2965, 0.05866351195715226), (2966, 0.002652511741971108), (2967, 0.0), (2968, 0.08446101818273755), (2969, 0.0018097001032943679), (2970, 0.002325742876178654), (2971, 0.0052962958218643755), (2972, 0.0020567194545617873), (2973, 0.0), (2974, 0.0024497636934404264), (2975, 0.0019169444594585483), (2976, 0.0019546191748207845), (2977, 0.002234131072669009), (2978, 0.0746793227387888), (2979, 0.0), (2980, 0.002139955672080048), (2981, 0.11272006071826503), (2982, 0.051571026011092896), (2983, 0.0), (2984, 0.0), (2985, 0.035063039695410254), (2986, 0.0025809295115387355), (2987, 0.002518998106644325), (2988, 0.03452939770190027), (2989, 0.0030403840513143626), (2990, 0.0), (2991, 0.0), (2992, 0.01623136246217056), (2993, 0.0026318000808396463), (2994, 0.006126391527167951), (2995, 0.0020679620457653815), (2996, 0.009099885390875072), (2997, 0.002062363945346858), (2998, 0.03617806074157659), (2999, 0.00216959613896439), (3000, 0.034277736094670413), (3001, 0.0), (3002, 0.0), (3003, 0.0024238892218829923), (3004, 0.0026875165831734223), (3005, 0.14425171534446568), (3006, 0.0), (3007, 0.002331019167811064), (3008, 0.0), (3009, 0.0), (3010, 0.03228347093034755), (3011, 0.030221464112653328), (3012, 0.009270683081814305), (3013, 0.002461436518694107), (3014, 0.002059839620352585), (3015, 0.00276497374317588), (3016, 0.020110912568221697), (3017, 0.0), (3018, 0.006356742425925029), (3019, 0.009626032724315427), (3020, 0.0026488888696579787), (3021, 0.0), (3022, 0.0), (3023, 0.0), (3024, 0.0018049912077292975), (3025, 0.0), (3026, 0.002410718710705456), (3027, 0.0170110625863007), (3028, 0.002108540068806992), (3029, 0.0), (3030, 0.0029559115070799972), (3031, 0.002665391092363755), (3032, 0.0024423335546075588), (3033, 0.0), (3034, 0.0), (3035, 0.0020772172339598043), (3036, 0.002074489678777031), (3037, 0.002303190029611415), (3038, 0.0), (3039, 0.0), (3040, 0.003047159867441389), (3041, 0.0), (3042, 0.0029564306231685), (3043, 0.009360729894638889), (3044, 0.002378444337784114), (3045, 0.00502663325082164), (3046, 0.0021400685115415285), (3047, 0.031354775248642594), (3048, 0.0), (3049, 0.0), (3050, 0.0019990930266925466), (3051, 0.03437491622459066), (3052, 0.002980342676440696), (3053, 0.0), (3054, 0.0), (3055, 0.0029691038882497306), (3056, 0.0018075971767063353), (3057, 0.0020469105912482937), (3058, 0.0), (3059, 0.0), (3060, 0.0), (3061, 0.0), (3062, 0.0024190641717193174), (3063, 0.0), (3064, 0.0023742443601377735), (3065, 0.001853353608622438), (3066, 0.0), (3067, 0.002155548717849582), (3068, 0.0), (3069, 0.002130801912288755), (3070, 0.026339337329107912), (3071, 0.051886088977578196), (3072, 0.002536031275263712), (3073, 0.07219820722168126), (3074, 0.0026770396687913153), (3075, 0.002119138405810941), (3076, 0.039504241570076086), (3077, 0.029555471458507163), (3078, 0.0), (3079, 0.0), (3080, 0.024428810533953852), (3081, 0.002567879501136984), (3082, 0.0), (3083, 0.08728023461197622), (3084, 0.0288775228224495), (3085, 0.09988855839501073), (3086, 0.008932619239103642), (3087, 0.0), (3088, 0.0), (3089, 0.0), (3090, 0.0), (3091, 0.0018263394424699881), (3092, 0.12089627069158185), (3093, 0.0021473632600540306), (3094, 0.0025530834524445257), (3095, 0.027566639919927364), (3096, 0.0018967200368460392), (3097, 0.015829825975808773), (3098, 0.019033922032085277), (3099, 0.046403374585747136), (3100, 0.0), (3101, 0.07513440335395058), (3102, 0.03189724868190775), (3103, 0.0), (3104, 0.0), (3105, 0.0), (3106, 0.0), (3107, 0.0), (3108, 0.001958366822637249), (3109, 0.03677358854404714), (3110, 0.006847438287175216), (3111, 0.02996402201932237), (3112, 0.002346294834151249), (3113, 0.0022254962951307844), (3114, 0.0), (3115, 0.0), (3116, 0.002397721400463326), (3117, 0.03587824441130392), (3118, 0.005648611637312913), (3119, 0.011336193909419616), (3120, 0.0076555477372694716), (3121, 0.015616800636929327), (3122, 0.002081532383946345), (3123, 0.002661466381392608), (3124, 0.0), (3125, 0.0021927465202342634), (3126, 0.0), (3127, 0.040651707148040214), (3128, 0.002750502110455683), (3129, 0.02688873630570789), (3130, 0.0), (3131, 0.0), (3132, 0.0), (3133, 0.0), (3134, 0.0), (3135, 0.0), (3136, 0.0), (3137, 0.024391801030596627), (3138, 0.0), (3139, 0.0030892571449625795), (3140, 0.0027460001033165495), (3141, 0.030152214846519757), (3142, 0.05168637005165254), (3143, 0.0), (3144, 0.0), (3145, 0.0), (3146, 0.0024406394364131583), (3147, 0.06456992797939358), (3148, 0.002470457767459001), (3149, 0.10085603153650119), (3150, 0.0022829284605671678), (3151, 0.0020784801223569364), (3152, 0.0017027006890052191), (3153, 0.0022468575918842947), (3154, 0.017570738261459825), (3155, 0.008325462106468968), (3156, 0.0), (3157, 0.0024286471284698245), (3158, 0.028070913780178303), (3159, 0.0027005143751214124), (3160, 0.0), (3161, 0.0), (3162, 0.0), (3163, 0.0), (3164, 0.0), (3165, 0.002506158214731198), (3166, 0.0030266494623791265), (3167, 0.029981891521365933), (3168, 0.0), (3169, 0.0), (3170, 0.0020757932440238205), (3171, 0.007865726376027345), (3172, 0.0), (3173, 0.0021488349999678065), (3174, 0.0021761436338513535), (3175, 0.033536551878527554), (3176, 0.0), (3177, 0.0), (3178, 0.0034498092413925976), (3179, 0.1011165978837571), (3180, 0.0), (3181, 0.0), (3182, 0.041299553837435096), (3183, 0.0023893586606047023), (3184, 0.002343588869119523), (3185, 0.0), (3186, 0.002474057674742044), (3187, 0.0022961495480492), (3188, 0.03126101268285079), (3189, 0.0), (3190, 0.0), (3191, 0.0), (3192, 0.006724421670366273), (3193, 0.0), (3194, 0.0020594955337585818), (3195, 0.0021472646609369166), (3196, 0.002446753072273997), (3197, 0.0), (3198, 0.002254059290130254), (3199, 0.0016897011057050554), (3200, 0.0550375496254468), (3201, 0.0), (3202, 0.018181302494320747), (3203, 0.0), (3204, 0.0), (3205, 0.0), (3206, 0.002639960414161754), (3207, 0.0), (3208, 0.03629671289703867), (3209, 0.0), (3210, 0.008340744441257887), (3211, 0.050174411339723515), (3212, 0.0), (3213, 0.0), (3214, 0.0020831053090295715), (3215, 0.0), (3216, 0.002171325590675575), (3217, 0.0), (3218, 0.002326201100055113), (3219, 0.002851502410390511), (3220, 0.0021325148836931125), (3221, 0.0), (3222, 0.0), (3223, 0.0), (3224, 0.0022716986685447087), (3225, 0.07107589615310585), (3226, 0.0040136499719505584), (3227, 0.0022000511663034026), (3228, 0.022941546627959955), (3229, 0.0), (3230, 0.0025190578296863265), (3231, 0.0), (3232, 0.005321920791804963), (3233, 0.0022447205873600317), (3234, 0.036594044125707256), (3235, 0.040576321725620604), (3236, 0.0), (3237, 0.0021551472985662586), (3238, 0.0018777647416111565), (3239, 0.0027509570353714033), (3240, 0.00421704483257656), (3241, 0.002276357636438717), (3242, 0.0022908382332706935), (3243, 0.06066830669179138), (3244, 0.0), (3245, 0.0061500426083403855), (3246, 0.002091775400000573), (3247, 0.0), (3248, 0.002433457217297645), (3249, 0.002729016107613552), (3250, 0.0), (3251, 0.0), (3252, 0.0018181371170157884), (3253, 0.0), (3254, 0.0017840752806353684), (3255, 0.0), (3256, 0.0), (3257, 0.00262916407955976), (3258, 0.0023726586342276246), (3259, 0.006419386051520081), (3260, 0.018547501103448147), (3261, 0.0), (3262, 0.00280755672773811), (3263, 0.0), (3264, 0.0023039527954625484), (3265, 0.0), (3266, 0.0), (3267, 0.007502988048367447), (3268, 0.022080041682688456), (3269, 0.002360258035717425), (3270, 0.0), (3271, 0.0023576154525293672), (3272, 0.0), (3273, 0.002429188275893102), (3274, 0.002458475871359228), (3275, 0.009664661856866357), (3276, 0.0032937695702385055), (3277, 0.0), (3278, 0.00198402942224507), (3279, 0.05363546054137725), (3280, 0.005667021707515922), (3281, 0.0), (3282, 0.002829699037871186), (3283, 0.07256224023198679), (3284, 0.0019983908178919626), (3285, 0.0722245234384752), (3286, 0.0), (3287, 0.0), (3288, 0.0), (3289, 0.06638349884647142), (3290, 0.0022454804256473197), (3291, 0.002932188542011684), (3292, 0.0028483818465599078), (3293, 0.00782647324440372), (3294, 0.0), (3295, 0.0), (3296, 0.0024816992936054247), (3297, 0.11198538394153806), (3298, 0.0021077286505297725), (3299, 0.0021681802226424583), (3300, 0.002050499351512108), (3301, 0.001708664100424339), (3302, 0.002658527861241103), (3303, 0.0022204539798577707), (3304, 0.001975744812339589), (3305, 0.0), (3306, 0.01316115637236725), (3307, 0.0025345727442246738), (3308, 0.03963485114076243), (3309, 0.0), (3310, 0.03264907020528481), (3311, 0.001973772901474273), (3312, 0.007069840838873211), (3313, 0.001781413499449072), (3314, 0.002314141115531021), (3315, 0.0553587989530095), (3316, 0.0016784369730862268), (3317, 0.006772671488843874), (3318, 0.0962039366606653), (3319, 0.0), (3320, 0.038797271307696266), (3321, 0.0), (3322, 0.002808221417398973), (3323, 0.0), (3324, 0.0), (3325, 0.0038984222902347094), (3326, 0.002310994082124757), (3327, 0.02161547814922133), (3328, 0.08796620081562107), (3329, 0.03060638832371837), (3330, 0.002174538083747438), (3331, 0.08980445581247587), (3332, 0.0), (3333, 0.0695857068603318), (3334, 0.006404294961456095), (3335, 0.033826055382582584), (3336, 0.058302888968068116), (3337, 0.0025176545789031683), (3338, 0.0), (3339, 0.0), (3340, 0.0), (3341, 0.0021880791848196196), (3342, 0.0020261392675297793), (3343, 0.016705241458024878), (3344, 0.05501126377476049), (3345, 0.0), (3346, 0.0021761686207950816), (3347, 0.0018313568025086777), (3348, 0.0021116212690695494), (3349, 0.00226375129275122), (3350, 0.016497188293217894), (3351, 0.002277281717200416), (3352, 0.032194970536353514), (3353, 0.0022684512052774143), (3354, 0.0027471263539055515), (3355, 0.002510282661950834), (3356, 0.012612389142606564), (3357, 0.002712208810617053), (3358, 0.0026489929059426774), (3359, 0.0025393104185457995), (3360, 0.029738184563123188), (3361, 0.0), (3362, 0.05129264264882043), (3363, 0.0027212630298426273), (3364, 0.0025188870306928593), (3365, 0.0015387326829460403), (3366, 0.0), (3367, 0.0), (3368, 0.016326154110870482), (3369, 0.018069845389683883), (3370, 0.008026359135627), (3371, 0.0), (3372, 0.0022915839869261396), (3373, 0.009306816611672908), (3374, 0.008206230144536645), (3375, 0.01687572405435261), (3376, 0.0018632443048698707), (3377, 0.08036772481676806), (3378, 0.0), (3379, 0.0021392204883023936), (3380, 0.05750089215048221), (3381, 0.0021559145538603995), (3382, 0.031497383948978316), (3383, 0.026495273961856594), (3384, 0.007136126525380429), (3385, 0.0), (3386, 0.03392205198516534), (3387, 0.034560446972106626), (3388, 0.0022989445642669012), (3389, 0.06379040476420803), (3390, 0.002078954985306896), (3391, 0.045543879624380716), (3392, 0.02224489712747136), (3393, 0.0018766115337189647), (3394, 0.05458764001629884), (3395, 0.0), (3396, 0.0025167885140869994), (3397, 0.0), (3398, 0.0), (3399, 0.002038534544161768), (3400, 0.0), (3401, 0.0), (3402, 0.0021262832816709718), (3403, 0.012577314028752496), (3404, 0.0), (3405, 0.0), (3406, 0.03533184288641267), (3407, 0.043131334260154995), (3408, 0.03871553384554565), (3409, 0.0018615709132958457), (3410, 0.025314530127026787), (3411, 0.0), (3412, 0.0021280419917268233), (3413, 0.002620805536007499), (3414, 0.002442482621102788), (3415, 0.07227291100921357), (3416, 0.006081232410338888), (3417, 0.0024031849419678428), (3418, 0.007504133121288007), (3419, 0.0025180614167812795), (3420, 0.0), (3421, 0.03765712322056319), (3422, 0.0), (3423, 0.002496661894835359), (3424, 0.0), (3425, 0.0025282361080761068), (3426, 0.0), (3427, 0.0), (3428, 0.0), (3429, 0.0), (3430, 0.01925617134365277), (3431, 0.001752185676881859), (3432, 0.0), (3433, 0.060991986318359), (3434, 0.0023213238860576506), (3435, 0.03315325436321113), (3436, 0.002195997773054857), (3437, 0.008656447053016773), (3438, 0.0), (3439, 0.0), (3440, 0.0), (3441, 0.002164047514973136), (3442, 0.0), (3443, 0.01717030420051673), (3444, 0.0), (3445, 0.002234616027600267), (3446, 0.0), (3447, 0.0021321315562658687), (3448, 0.0), (3449, 0.0023578260341743018), (3450, 0.016672828891034143), (3451, 0.0), (3452, 0.0020346414596411904), (3453, 0.006695058026404349), (3454, 0.0), (3455, 0.0020034729696670793), (3456, 0.031472895847867215), (3457, 0.0), (3458, 0.02293638751089603), (3459, 0.0), (3460, 0.030785367530780393), (3461, 0.0), (3462, 0.0), (3463, 0.03228443946798433), (3464, 0.006451066736038734), (3465, 0.00578160804788181), (3466, 0.040923510265245065), (3467, 0.0), (3468, 0.0), (3469, 0.0), (3470, 0.0), (3471, 0.02661900034310291), (3472, 0.0), (3473, 0.0), (3474, 0.030420956987088226), (3475, 0.02718233268246762), (3476, 0.0), (3477, 0.03834999185625059), (3478, 0.002181973997269144), (3479, 0.002913965404907898), (3480, 0.0), (3481, 0.0), (3482, 0.0), (3483, 0.008755007386889124), (3484, 0.0), (3485, 0.0), (3486, 0.0), (3487, 0.0020978913100462584), (3488, 0.0), (3489, 0.0), (3490, 0.0), (3491, 0.0021905350684497445), (3492, 0.0021792840303472573), (3493, 0.002283775266325096), (3494, 0.0), (3495, 0.0), (3496, 0.0023421349969818504), (3497, 0.0023840304689036135), (3498, 0.06189015643405373), (3499, 0.02550137409145726), (3500, 0.01817479300685151), (3501, 0.002217954187495813), (3502, 0.0), (3503, 0.0020922933635896105), (3504, 0.007920135729500902), (3505, 0.0), (3506, 0.0025165618812670824), (3507, 0.006309988043489592), (3508, 0.05134100388583107), (3509, 0.0), (3510, 0.0337397301001839), (3511, 0.02435190795545375), (3512, 0.003345859346366169), (3513, 0.0), (3514, 0.002277901550785907), (3515, 0.0), (3516, 0.044092484112154245), (3517, 0.0022592273723778334), (3518, 0.0), (3519, 0.0), (3520, 0.0), (3521, 0.002688082400111614), (3522, 0.0), (3523, 0.003127903448753011), (3524, 0.03938948043867126), (3525, 0.0), (3526, 0.002233005949917954), (3527, 0.0022554863468902875), (3528, 0.07127978743308702), (3529, 0.0), (3530, 0.0), (3531, 0.00590388167870907), (3532, 0.0), (3533, 0.06381581260783306), (3534, 0.033736694529947146), (3535, 0.007207726375892554), (3536, 0.0022639934129160097), (3537, 0.002706399922056713), (3538, 0.0017398295898071012), (3539, 0.0), (3540, 0.0025449223015052745), (3541, 0.002194874410993984), (3542, 0.0022324797263218615), (3543, 0.0), (3544, 0.0026560152678232222), (3545, 0.0), (3546, 0.0016279160941943833), (3547, 0.0), (3548, 0.0017943381333682877), (3549, 0.0), (3550, 0.0), (3551, 0.0022022249147402714), (3552, 0.003548748763540625), (3553, 0.00819523274190891), (3554, 0.0), (3555, 0.0), (3556, 0.001950966008354603), (3557, 0.002139696654868732), (3558, 0.002014422117524617), (3559, 0.05788238428874569), (3560, 0.0024516440644523595), (3561, 0.002957881383098047), (3562, 0.0), (3563, 0.001988667118993534), (3564, 0.0021904344464229106), (3565, 0.0021594344474968915), (3566, 0.0), (3567, 0.01602135552489956), (3568, 0.0), (3569, 0.001870763536105491), (3570, 0.022666379425724664), (3571, 0.0022311910272779863), (3572, 0.0), (3573, 0.0), (3574, 0.0), (3575, 0.0017627649944267588), (3576, 0.0), (3577, 0.0026965525451043133), (3578, 0.0), (3579, 0.0018624845859353525), (3580, 0.05859529562098757), (3581, 0.0), (3582, 0.005863842749444758), (3583, 0.0), (3584, 0.02353748798847118), (3585, 0.0), (3586, 0.006550734418760553), (3587, 0.0024579228410099778), (3588, 0.02054556883112715), (3589, 0.03184092693806654), (3590, 0.0023177963540253633), (3591, 0.0), (3592, 0.0), (3593, 0.0024357337823685253), (3594, 0.04590039874037261), (3595, 0.04513635046102527), (3596, 0.0021594239672869425), (3597, 0.04448915697126423), (3598, 0.0), (3599, 0.0022782441752190593), (3600, 0.0), (3601, 0.025700617814313726), (3602, 0.0), (3603, 0.0), (3604, 0.0), (3605, 0.0), (3606, 0.002224740165049439), (3607, 0.0), (3608, 0.0014212246540581785), (3609, 0.0), (3610, 0.0), (3611, 0.03803926535181904), (3612, 0.00827205942686069), (3613, 0.0026913139741910693), (3614, 0.11528636816009594), (3615, 0.0020547384918473445), (3616, 0.002713366008225014), (3617, 0.0), (3618, 0.0023128582834473074), (3619, 0.0), (3620, 0.002656967505785124), (3621, 0.002567540556254525), (3622, 0.0), (3623, 0.0022508847193612666), (3624, 0.0021617498184445727), (3625, 0.0), (3626, 0.001674023369939931), (3627, 0.0020188766609594263), (3628, 0.0), (3629, 0.0018739046611039262), (3630, 0.0), (3631, 0.0), (3632, 0.0), (3633, 0.0), (3634, 0.0018448433281221526), (3635, 0.0029500397648202746), (3636, 0.002248607854464413), (3637, 0.06597919188099657), (3638, 0.00272041984876171), (3639, 0.0024971987846052657), (3640, 0.03531737155536467), (3641, 0.002107299836698903), (3642, 0.06012375082687635), (3643, 0.0022166554372205103), (3644, 0.0), (3645, 0.0062326281296420025), (3646, 0.0020631948393640067), (3647, 0.0021467768323412953), (3648, 0.0), (3649, 0.0), (3650, 0.06669816564833608), (3651, 0.0024960857899599125), (3652, 0.00672571586327761), (3653, 0.0022242258828463752), (3654, 0.002294773056845457), (3655, 0.0018989086229782653), (3656, 0.002010894125154635), (3657, 0.0018413308449319167), (3658, 0.0227212046030585), (3659, 0.07837599821383862), (3660, 0.007973985303608823), (3661, 0.0024885258567935776), (3662, 0.0), (3663, 0.0), (3664, 0.0), (3665, 0.0021767762672297254), (3666, 0.0022655652736983368), (3667, 0.0033364106395871343), (3668, 0.0018468640626273388), (3669, 0.001849117257445322), (3670, 0.008339589505681548), (3671, 0.0), (3672, 0.003100530946632024), (3673, 0.02711699939064842), (3674, 0.005138133206599034), (3675, 0.00985688267834913), (3676, 0.0), (3677, 0.002395108759160574), (3678, 0.002321268369257204), (3679, 0.0), (3680, 0.0024673806408749676), (3681, 0.0), (3682, 0.0), (3683, 0.0), (3684, 0.005282595897117005), (3685, 0.0), (3686, 0.0), (3687, 0.0027253012201575244), (3688, 0.0), (3689, 0.0022569123993854594), (3690, 0.0), (3691, 0.03680105223178333), (3692, 0.0023493383974076093), (3693, 0.0), (3694, 0.008948848413740903), (3695, 0.0), (3696, 0.002104239978128778), (3697, 0.0), (3698, 0.0), (3699, 0.008445814620829207), (3700, 0.0), (3701, 0.02791301995301845), (3702, 0.0), (3703, 0.0), (3704, 0.0023579516531180528), (3705, 0.0019744286470201266), (3706, 0.002129447137538025), (3707, 0.04126275830348072), (3708, 0.007027992597383426), (3709, 0.0), (3710, 0.0), (3711, 0.00560820159612859), (3712, 0.016489682506307442), (3713, 0.005074960597492072), (3714, 0.0023849642540122004), (3715, 0.0), (3716, 0.05194640925648018), (3717, 0.0), (3718, 0.0), (3719, 0.0021297238803049544), (3720, 0.0), (3721, 0.0), (3722, 0.0), (3723, 0.02762890370686187), (3724, 0.0), (3725, 0.0020316699849968673), (3726, 0.0), (3727, 0.0021634026599729626), (3728, 0.0023332618222062338), (3729, 0.0025287073863372125), (3730, 0.0), (3731, 0.0051909573486290045), (3732, 0.0), (3733, 0.0020781198970435924), (3734, 0.0020579764917634693), (3735, 0.0), (3736, 0.0), (3737, 0.002436437629768539), (3738, 0.028626108170060834), (3739, 0.002205957249944922), (3740, 0.0), (3741, 0.007070545226757413), (3742, 0.0019930589922655417), (3743, 0.0), (3744, 0.0), (3745, 0.0025667416533960642), (3746, 0.0), (3747, 0.033055109154099135), (3748, 0.0), (3749, 0.0023790715142422173), (3750, 0.031162455366350227), (3751, 0.001793413479976048), (3752, 0.0), (3753, 0.0), (3754, 0.04734011003335122), (3755, 0.0019284104130480432), (3756, 0.006763798808927975), (3757, 0.0023537185315624124), (3758, 0.0), (3759, 0.0), (3760, 0.0), (3761, 0.0), (3762, 0.0028426524115840006), (3763, 0.00257151262564878), (3764, 0.0), (3765, 0.002119528277755485), (3766, 0.00986092152063499), (3767, 0.0020043615643276025), (3768, 0.006540728490844721), (3769, 0.048182750556353425), (3770, 0.002281724707953718), (3771, 0.0023633450139492074), (3772, 0.00248307392135118), (3773, 0.0), (3774, 0.03351305934289626), (3775, 0.005648664225544845), (3776, 0.0), (3777, 0.008736645849933632), (3778, 0.002266454791984238), (3779, 0.002634800349126382), (3780, 0.02091667104363541), (3781, 0.0023378797050778743), (3782, 0.0), (3783, 0.0), (3784, 0.0020768710714314884), (3785, 0.019370569735800456), (3786, 0.0), (3787, 0.0), (3788, 0.0), (3789, 0.0), (3790, 0.0), (3791, 0.0), (3792, 0.0022189550151456836), (3793, 0.0), (3794, 0.005765284352940335), (3795, 0.0019518322983424843), (3796, 0.0), (3797, 0.03704731091152295), (3798, 0.02273336355549475), (3799, 0.0020683325537808705), (3800, 0.0), (3801, 0.0074083580492053415), (3802, 0.03426926333924611), (3803, 0.040318795753118315), (3804, 0.0024340095966243315), (3805, 0.0), (3806, 0.026402640216959778), (3807, 0.03935812877078235), (3808, 0.0), (3809, 0.0022355782854894027), (3810, 0.0), (3811, 0.021808911391810966), (3812, 0.017020198253129778), (3813, 0.002380753190358108), (3814, 0.030783335266240868), (3815, 0.046982421337882864), (3816, 0.0), (3817, 0.0), (3818, 0.0), (3819, 0.007807397019716635), (3820, 0.0), (3821, 0.001829897276418628), (3822, 0.0024499672667682593), (3823, 0.04332795123950077), (3824, 0.020917967157529815), (3825, 0.0), (3826, 0.00209768994507277), (3827, 0.0021393695989419537), (3828, 0.010457660343384488), (3829, 0.017572509284580075), (3830, 0.027572763867895835), (3831, 0.0), (3832, 0.0026637276655983445), (3833, 0.06356620859333188), (3834, 0.0), (3835, 0.0013141378494059607), (3836, 0.0), (3837, 0.0), (3838, 0.0187125571051307), (3839, 0.05109471013398715), (3840, 0.0), (3841, 0.0019567549763869273), (3842, 0.03402583978895234), (3843, 0.0), (3844, 0.0), (3845, 0.002275899915336514), (3846, 0.0), (3847, 0.03241417264021132), (3848, 0.0027682402727562385), (3849, 0.024402886802044898), (3850, 0.0), (3851, 0.0), (3852, 0.0), (3853, 0.059102543479296), (3854, 0.0076466421123881755), (3855, 0.0018514278875867074), (3856, 0.05417078679939422), (3857, 0.07703718331972824), (3858, 0.0), (3859, 0.015816802569686914), (3860, 0.036824905878708084), (3861, 0.0), (3862, 0.008635997629023982), (3863, 0.001960713979351921), (3864, 0.0), (3865, 0.0), (3866, 0.0025151377123777815), (3867, 0.002478726989029793), (3868, 0.03203338705297042), (3869, 0.0), (3870, 0.0), (3871, 0.0), (3872, 0.03015821839071051), (3873, 0.0023331405274287322), (3874, 0.002668192334810301), (3875, 0.0017735145824347065), (3876, 0.0020029045381176904), (3877, 0.021811345246589352), (3878, 0.0028677805917155233), (3879, 0.0), (3880, 0.0019036410613762526), (3881, 0.0), (3882, 0.024347785915548183), (3883, 0.009425584190543493), (3884, 0.00253868141405796), (3885, 0.0), (3886, 0.0), (3887, 0.0), (3888, 0.008181647522614226), (3889, 0.03630812689410745), (3890, 0.0021109665380961385), (3891, 0.0), (3892, 0.0028364831472677513), (3893, 0.002357179462004395), (3894, 0.0019136339330281958), (3895, 0.0019100803907009197), (3896, 0.0), (3897, 0.0), (3898, 0.018590191159158345), (3899, 0.006628168914935338), (3900, 0.0020981634958187486), (3901, 0.0026314554265355985), (3902, 0.002270283447842333), (3903, 0.002499265203260306), (3904, 0.002333845892837894), (3905, 0.006438641059844033), (3906, 0.002146786645694541), (3907, 0.0), (3908, 0.0), (3909, 0.0), (3910, 0.029392113177493125), (3911, 0.002607270358319662), (3912, 0.0), (3913, 0.002014391557205676), (3914, 0.0), (3915, 0.06733045721537542), (3916, 0.0), (3917, 0.0020989445050278045), (3918, 0.0), (3919, 0.034997294842171796), (3920, 0.002260090669433794), (3921, 0.0), (3922, 0.002693583493777501), (3923, 0.0), (3924, 0.009089664348218382), (3925, 0.0032478026088779027), (3926, 0.0), (3927, 0.016305695164343027), (3928, 0.0018226273046342751), (3929, 0.0), (3930, 0.0), (3931, 0.0), (3932, 0.004024996218549749), (3933, 0.0), (3934, 0.0), (3935, 0.0025711234495819258), (3936, 0.0), (3937, 0.0), (3938, 0.033933484947553834), (3939, 0.0029061323434844675), (3940, 0.0), (3941, 0.0077488156754327315), (3942, 0.0), (3943, 0.0), (3944, 0.01347957183762309), (3945, 0.006353670317303607), (3946, 0.014161051120714634), (3947, 0.007034087085127303), (3948, 0.0), (3949, 0.008367247336230583), (3950, 0.0), (3951, 0.0025459811182324413), (3952, 0.002502247576744784), (3953, 0.00198528399126388), (3954, 0.0020592976158332345), (3955, 0.0), (3956, 0.12591503772020757), (3957, 0.04720008833939813), (3958, 0.026838707400767367), (3959, 0.044397872848478966), (3960, 0.0024736747427115124), (3961, 0.00912683448569045), (3962, 0.002450574375897409), (3963, 0.0), (3964, 0.018675846269555197), (3965, 0.04586003402403374), (3966, 0.0), (3967, 0.002412077324809591), (3968, 0.0), (3969, 0.0), (3970, 0.0), (3971, 0.0), (3972, 0.0), (3973, 0.02085734427382074), (3974, 0.0019639000692093797), (3975, 0.0), (3976, 0.03393747640964954), (3977, 0.0), (3978, 0.013692885749107923), (3979, 0.0), (3980, 0.0), (3981, 0.0), (3982, 0.021910990702749263), (3983, 0.0016346572891763054), (3984, 0.00869617783816132), (3985, 0.029918407499000328), (3986, 0.001963244317448364), (3987, 0.002323950745120565), (3988, 0.0), (3989, 0.0), (3990, 0.003011745375284322), (3991, 0.0), (3992, 0.00934697266130441), (3993, 0.04820082400428072), (3994, 0.0), (3995, 0.0), (3996, 0.019938135494242684), (3997, 0.0), (3998, 0.0), (3999, 0.010181623156781918), (4000, 0.0082018779346172), (4001, 0.0), (4002, 0.002534003487891964), (4003, 0.03814174021258896), (4004, 0.008385799071394116), (4005, 0.0023315000224744973), (4006, 0.03127824839343687), (4007, 0.008655129226218456), (4008, 0.024284046181744203), (4009, 0.015451014583110274), (4010, 0.0), (4011, 0.002049199496187356), (4012, 0.0), (4013, 0.021328235220834692), (4014, 0.0022077152640165394), (4015, 0.0017999147401468263), (4016, 0.0021759615970965845), (4017, 0.0029609592809923314), (4018, 0.026674925496701456), (4019, 0.0028285402394800188), (4020, 0.03284407798648305), (4021, 0.0), (4022, 0.05932993364939369), (4023, 0.0025767881961807813), (4024, 0.0023563044936591843), (4025, 0.0022636729731949617), (4026, 0.0), (4027, 0.0), (4028, 0.03803908148216563), (4029, 0.030670527103721878), (4030, 0.0025539168914603893), (4031, 0.0), (4032, 0.002546050168707631), (4033, 0.008723441769988545), (4034, 0.0), (4035, 0.0), (4036, 0.035397983052975056), (4037, 0.0), (4038, 0.0023327082359319846), (4039, 0.0), (4040, 0.0), (4041, 0.0), (4042, 0.002409946729049521), (4043, 0.0), (4044, 0.0), (4045, 0.03949432465275869), (4046, 0.0023920278642711335), (4047, 0.0), (4048, 0.04900259979464637), (4049, 0.002214462690697225), (4050, 0.03457220300316511), (4051, 0.0024343103211660346), (4052, 0.002306079762856499), (4053, 0.0390949377039126), (4054, 0.04035983871599157), (4055, 0.0), (4056, 0.03329774667755983), (4057, 0.0), (4058, 0.0), (4059, 0.05319035809504746), (4060, 0.03146290387655133), (4061, 0.0), (4062, 0.0026428151361534247), (4063, 0.06199600075472454), (4064, 0.0), (4065, 0.0), (4066, 0.0019161859117435716), (4067, 0.04596256561645202), (4068, 0.008400596405656895), (4069, 0.01825935868695352), (4070, 0.02504990919463248), (4071, 0.0), (4072, 0.0), (4073, 0.0), (4074, 0.030128436410706495), (4075, 0.002546002570529136), (4076, 0.0), (4077, 0.0), (4078, 0.0), (4079, 0.002261924898912564), (4080, 0.0019564141101321166), (4081, 0.002194045693604098), (4082, 0.003082414079680828), (4083, 0.0022780009029791464), (4084, 0.02150235755308914), (4085, 0.0020767424418976547), (4086, 0.0), (4087, 0.0023719600935668576), (4088, 0.012475745312194088), (4089, 0.034858723292894994), (4090, 0.0), (4091, 0.0), (4092, 0.0024692503555880114), (4093, 0.006226467068416204), (4094, 0.006523376271863693), (4095, 0.02719563904241199), (4096, 0.005273374318574267), (4097, 0.04694567627167337), (4098, 0.0022366149649246927), (4099, 0.0), (4100, 0.0), (4101, 0.00238150687561302), (4102, 0.0027704347800077663), (4103, 0.0), (4104, 0.020505896983768066), (4105, 0.03309763466189003), (4106, 0.0), (4107, 0.0026942709421348353), (4108, 0.0), (4109, 0.04169665972753589), (4110, 0.0), (4111, 0.0023358398682342685), (4112, 0.0), (4113, 0.002423532250414395), (4114, 0.0), (4115, 0.0), (4116, 0.009014977009688072), (4117, 0.0024907646411398074), (4118, 0.006564004504536773), (4119, 0.026426401205057078), (4120, 0.0), (4121, 0.006923074069190481), (4122, 0.007559527468061245), (4123, 0.008730890551328545), (4124, 0.007824217240161281), (4125, 0.06836753077264357), (4126, 0.0025390288042479022), (4127, 0.0), (4128, 0.0), (4129, 0.002111992957101005), (4130, 0.0023848782550755505), (4131, 0.0), (4132, 0.002348645197859454), (4133, 0.0023791944371206433), (4134, 0.0), (4135, 0.0022129178950732616), (4136, 0.0022730307375295857), (4137, 0.0022019969690494842), (4138, 0.002418556574447643), (4139, 0.0021070314018731607), (4140, 0.0023840558067226374), (4141, 0.012799751907404257), (4142, 0.002789655176210443), (4143, 0.001961356247305559), (4144, 0.0), (4145, 0.0025631038242604804), (4146, 0.0), (4147, 0.0026568299742095766), (4148, 0.06841155042030864), (4149, 0.0), (4150, 0.0355262252326942), (4151, 0.003748922191314383), (4152, 0.0020817750822262797), (4153, 0.057040140770644364), (4154, 0.0019716551681948184), (4155, 0.03198359042645254), (4156, 0.0019126661246570086), (4157, 0.0), (4158, 0.0), (4159, 0.05866216051197556), (4160, 0.0024463991453854824), (4161, 0.0023473671022866483), (4162, 0.0), (4163, 0.0025297378757932836), (4164, 0.005558877047727138), (4165, 0.005613263926923469), (4166, 0.0), (4167, 0.0), (4168, 0.0), (4169, 0.035661915217594334), (4170, 0.0), (4171, 0.0015420841755295815), (4172, 0.0028845981053102383), (4173, 0.03694286532017995), (4174, 0.03378904820472903), (4175, 0.0023233923952258764), (4176, 0.03078407093452219), (4177, 0.028765938522858192), (4178, 0.0415446362602051), (4179, 0.0), (4180, 0.0), (4181, 0.0), (4182, 0.045505239100160945), (4183, 0.0021162984873917537), (4184, 0.006111768102639859), (4185, 0.0), (4186, 0.0), (4187, 0.009382408259654982), (4188, 0.0), (4189, 0.008458157999433915), (4190, 0.0), (4191, 0.0), (4192, 0.03226006998127809), (4193, 0.0284617170558912), (4194, 0.0), (4195, 0.0), (4196, 0.0), (4197, 0.023584042606151132), (4198, 0.0), (4199, 0.0), (4200, 0.001804027736481352), (4201, 0.0), (4202, 0.0030510156696119052), (4203, 0.009584862097716636), (4204, 0.0), (4205, 0.001948934518644948), (4206, 0.002072618441234206), (4207, 0.0), (4208, 0.0), (4209, 0.0026737429945741012), (4210, 0.0), (4211, 0.0), (4212, 0.0), (4213, 0.002074815722739039), (4214, 0.0), (4215, 0.0), (4216, 0.036127607195665074), (4217, 0.0), (4218, 0.0), (4219, 0.0), (4220, 0.022567176006745206), (4221, 0.002917290738220262), (4222, 0.0029263332237944905), (4223, 0.0), (4224, 0.0), (4225, 0.019844208204173305), (4226, 0.03421476284621382), (4227, 0.00671949399671965), (4228, 0.0021556681580554536), (4229, 0.0), (4230, 0.002795771005305999), (4231, 0.00882070717780974), (4232, 0.007188651990389983), (4233, 0.04301818617071798), (4234, 0.0), (4235, 0.005577174032303475), (4236, 0.0), (4237, 0.03074004285730903), (4238, 0.0), (4239, 0.0), (4240, 0.0), (4241, 0.0), (4242, 0.017834627519719218), (4243, 0.002484000707462607), (4244, 0.009473012395398155), (4245, 0.00234433192438534), (4246, 0.013592531976603494), (4247, 0.0019177840377417206), (4248, 0.0), (4249, 0.0022513367570806044), (4250, 0.0), (4251, 0.0), (4252, 0.0), (4253, 0.0), (4254, 0.002048766986309464), (4255, 0.002211910094808994), (4256, 0.02223424552832938), (4257, 0.002055477181009028), (4258, 0.0), (4259, 0.002423664135441719), (4260, 0.0), (4261, 0.00451601808021878), (4262, 0.03475732893193119), (4263, 0.07490377749663661), (4264, 0.028095242451495948), (4265, 0.006441872468787243), (4266, 0.0022017576495940855), (4267, 0.0025054904409962473), (4268, 0.008235502038934504), (4269, 0.002340454409344271), (4270, 0.0), (4271, 0.0), (4272, 0.0), (4273, 0.002232840140012844), (4274, 0.02869734190335463), (4275, 0.03244984156293341), (4276, 0.0), (4277, 0.001998585931626242), (4278, 0.0), (4279, 0.0), (4280, 0.0025859295757254467), (4281, 0.036171723147262774), (4282, 0.002008519272723722), (4283, 0.002224177103858982), (4284, 0.0021409176489253865), (4285, 0.0), (4286, 0.10157416294190584), (4287, 0.002254245911068049), (4288, 0.11808148844105258), (4289, 0.006478594480117542), (4290, 0.0), (4291, 0.0), (4292, 0.029487090322297488), (4293, 0.009227081300487243), (4294, 0.0), (4295, 0.0024912308717891414), (4296, 0.0019005877729636408), (4297, 0.0), (4298, 0.0026768708395889075), (4299, 0.0632344087900406), (4300, 0.0), (4301, 0.0016188501658483186), (4302, 0.0), (4303, 0.0), (4304, 0.09324028308972869), (4305, 0.02719721773049359), (4306, 0.0026976153637730585), (4307, 0.0), (4308, 0.0023928380649686147), (4309, 0.0326761569920633), (4310, 0.0), (4311, 0.0017727319682401216), (4312, 0.0), (4313, 0.0), (4314, 0.0), (4315, 0.0), (4316, 0.0), (4317, 0.0), (4318, 0.00230566079704874), (4319, 0.0), (4320, 0.0021764276369386315), (4321, 0.06166896108881815), (4322, 0.08438697342947583), (4323, 0.0), (4324, 0.034694947690150794), (4325, 0.005645831419648227), (4326, 0.002000475287790906), (4327, 0.05091960386245153), (4328, 0.0), (4329, 0.03213506022894489), (4330, 0.0021831857301590797), (4331, 0.0), (4332, 0.0), (4333, 0.0024552584780057358), (4334, 0.0022551798141372515), (4335, 0.006933193992722746), (4336, 0.0021075942939920247), (4337, 0.07308885404775473), (4338, 0.0182647135238773), (4339, 0.0), (4340, 0.002256712443835034), (4341, 0.0), (4342, 0.0), (4343, 0.017327659029571604), (4344, 0.001865179748111122), (4345, 0.00206969444743696), (4346, 0.0), (4347, 0.0), (4348, 0.0020065882822123374), (4349, 0.002145554958684807), (4350, 0.001966703102700601), (4351, 0.049418678731493026), (4352, 0.0), (4353, 0.0), (4354, 0.0022825721985176967), (4355, 0.002324532014609477), (4356, 0.00202925036218025), (4357, 0.0023258916963958243), (4358, 0.0), (4359, 0.059137945781192004), (4360, 0.0), (4361, 0.002270112264381866), (4362, 0.0021364836127694092), (4363, 0.0022852946344650176), (4364, 0.0), (4365, 0.0), (4366, 0.005473049197679894), (4367, 0.0), (4368, 0.0024556959358419312), (4369, 0.038516488915385574), (4370, 0.0), (4371, 0.0023398415867347993), (4372, 0.0), (4373, 0.0), (4374, 0.03755717483119345), (4375, 0.056624895365659164), (4376, 0.0), (4377, 0.0), (4378, 0.0), (4379, 0.03810662165304877), (4380, 0.01238906443193483), (4381, 0.0021153335769586224), (4382, 0.00210988698279205), (4383, 0.0), (4384, 0.0), (4385, 0.019075625845483897), (4386, 0.0018818540038082325), (4387, 0.00806278907238232), (4388, 0.0), (4389, 0.0), (4390, 0.031032790995773402), (4391, 0.002205093125799081), (4392, 0.0), (4393, 0.0), (4394, 0.002165195769047719), (4395, 0.00212271643203706), (4396, 0.002441203996961169), (4397, 0.0024283717955755693), (4398, 0.002521315147635362), (4399, 0.03163974133699083), (4400, 0.0027815198407673382), (4401, 0.0024378457108149747), (4402, 0.002017598687363863), (4403, 0.050429361015266794), (4404, 0.031974661199616096), (4405, 0.0), (4406, 0.0), (4407, 0.06302089908750144), (4408, 0.0), (4409, 0.002169061095377254), (4410, 0.0), (4411, 0.023325645184864977), (4412, 0.0025559943560547124), (4413, 0.0), (4414, 0.0), (4415, 0.0), (4416, 0.002568390955047118), (4417, 0.0), (4418, 0.002865705158467028), (4419, 0.0022747051765042645), (4420, 0.002300780925647451), (4421, 0.0), (4422, 0.024903283152215554), (4423, 0.0028294133880660665), (4424, 0.0), (4425, 0.0), (4426, 0.0), (4427, 0.03344107743967609), (4428, 0.0020718922822525834), (4429, 0.0018945144282770656), (4430, 0.0022845041111417604), (4431, 0.0023334838083717514), (4432, 0.0019098191415327802), (4433, 0.057883669228685514), (4434, 0.0), (4435, 0.008308346085430266), (4436, 0.006563629924206352), (4437, 0.0), (4438, 0.0), (4439, 0.0), (4440, 0.007784331773162992), (4441, 0.0), (4442, 0.00802049121526206), (4443, 0.002672960089797349), (4444, 0.002858259186977839), (4445, 0.0016380249805613759), (4446, 0.002393584726332686), (4447, 0.0), (4448, 0.0022787075095261323), (4449, 0.05407060961343731), (4450, 0.0053957836810166115), (4451, 0.0), (4452, 0.0), (4453, 0.0), (4454, 0.0), (4455, 0.0), (4456, 0.0), (4457, 0.0), (4458, 0.002602336739371399), (4459, 0.024094530864365218), (4460, 0.0), (4461, 0.0021005558620777196), (4462, 0.032218621515751764), (4463, 0.0), (4464, 0.0), (4465, 0.016452851611487282), (4466, 0.03258893682832425), (4467, 0.0), (4468, 0.0), (4469, 0.010331456962206158), (4470, 0.0022495871741574328), (4471, 0.002313832837171019), (4472, 0.0021092053156093167), (4473, 0.020148378520543055), (4474, 0.008706483531791051), (4475, 0.007435793963454459), (4476, 0.001867114671810657), (4477, 0.009660437280022562), (4478, 0.0), (4479, 0.0020096221348015982), (4480, 0.0), (4481, 0.005815734051544224), (4482, 0.03104069735770932), (4483, 0.0), (4484, 0.002909182268920462), (4485, 0.0), (4486, 0.035860431606260866), (4487, 0.0021497008475087004), (4488, 0.0), (4489, 0.002314181822860402), (4490, 0.002587648751591902), (4491, 0.0), (4492, 0.0), (4493, 0.0), (4494, 0.002464987497740061), (4495, 0.0023371328643832425), (4496, 0.0), (4497, 0.002284417626271617), (4498, 0.07694515365825656), (4499, 0.0), (4500, 0.0), (4501, 0.0022044668805582964), (4502, 0.007552216195632011), (4503, 0.008339422912941477), (4504, 0.0021059277830906354), (4505, 0.020009961847374868), (4506, 0.0), (4507, 0.002506236103038449), (4508, 0.0), (4509, 0.0), (4510, 0.006460667446952377), (4511, 0.0021702106117816333), (4512, 0.006820277900821932), (4513, 0.0), (4514, 0.0), (4515, 0.0), (4516, 0.0025020639008951524), (4517, 0.0336811591206618), (4518, 0.020299719892558937), (4519, 0.0), (4520, 0.0021600088980428538), (4521, 0.002723502105128623), (4522, 0.002377854929180894), (4523, 0.08049392782315395), (4524, 0.0), (4525, 0.0), (4526, 0.0), (4527, 0.0), (4528, 0.0023696198670146978), (4529, 0.0029255746193419026), (4530, 0.002133950438715317), (4531, 0.009163892785222729), (4532, 0.0), (4533, 0.027865617972229764), (4534, 0.030438910384877553), (4535, 0.0024422118299725153), (4536, 0.0020846377453410778), (4537, 0.0), (4538, 0.025199143026429904), (4539, 0.0), (4540, 0.0023445245646649716), (4541, 0.0), (4542, 0.030942348632800324), (4543, 0.005862943975644151), (4544, 0.0027219697359812897), (4545, 0.0023612312674791314), (4546, 0.002820421903818186), (4547, 0.0), (4548, 0.0), (4549, 0.0), (4550, 0.0021152873144727876), (4551, 0.009151132552598657), (4552, 0.0), (4553, 0.005322406454054474), (4554, 0.009829229290549323), (4555, 0.0032885436297924934), (4556, 0.0), (4557, 0.0396548964385874), (4558, 0.0), (4559, 0.0), (4560, 0.0), (4561, 0.0), (4562, 0.0), (4563, 0.002237450898184678), (4564, 0.0), (4565, 0.0), (4566, 0.0023001561808361085), (4567, 0.0020853957885453183), (4568, 0.0), (4569, 0.0), (4570, 0.0), (4571, 0.0034671984198121823), (4572, 0.002677915233363274), (4573, 0.002115235601240958), (4574, 0.002336280759354806), (4575, 0.002308674487002346), (4576, 0.0021193046360644843), (4577, 0.0), (4578, 0.0), (4579, 0.0023518900340046174), (4580, 0.0), (4581, 0.006143624569550028), (4582, 0.027916271220440485), (4583, 0.06042651392591287), (4584, 0.0025652220344672006), (4585, 0.0), (4586, 0.0), (4587, 0.02982814459077551), (4588, 0.0), (4589, 0.002553904162468769), (4590, 0.0019538272255219635), (4591, 0.0020293495458658327), (4592, 0.0), (4593, 0.0024262809656696643), (4594, 0.0025700699946538184), (4595, 0.0), (4596, 0.014738427271170938), (4597, 0.0), (4598, 0.07790679016287391), (4599, 0.0), (4600, 0.0), (4601, 0.002388262100438493), (4602, 0.0023939767284815575), (4603, 0.0020353391670943216), (4604, 0.002193754813499382), (4605, 0.002423692640365672), (4606, 0.002762367097310077), (4607, 0.0031684636820008324), (4608, 0.0019362885467954303), (4609, 0.0), (4610, 0.006939816673331001), (4611, 0.002908378849492194), (4612, 0.00271634520134816), (4613, 0.0), (4614, 0.002084168171535136), (4615, 0.0), (4616, 0.041753957510864755), (4617, 0.011309252026778654), (4618, 0.0), (4619, 0.00912336083103426), (4620, 0.001993633266702762), (4621, 0.03638164416611111), (4622, 0.0), (4623, 0.006064949205585809), (4624, 0.002288046158972439), (4625, 0.028270432100996657), (4626, 0.0017641039383855441), (4627, 0.001872271670176499), (4628, 0.06460604698033082), (4629, 0.0022762095934321064), (4630, 0.0), (4631, 0.0), (4632, 0.0025724187874753553), (4633, 0.03050703013852705), (4634, 0.017639635190210917), (4635, 0.0), (4636, 0.0018400527501982033), (4637, 0.009811876957323775), (4638, 0.0019903953809218217), (4639, 0.0), (4640, 0.0021860042279667545), (4641, 0.0021315213518994136), (4642, 0.0), (4643, 0.0022444423493147244), (4644, 0.0), (4645, 0.0), (4646, 0.0), (4647, 0.0), (4648, 0.0), (4649, 0.002003833851841195), (4650, 0.002514584451325009), (4651, 0.0), (4652, 0.0016677943901375202), (4653, 0.03826436602488043), (4654, 0.0), (4655, 0.0), (4656, 0.006563694985437098), (4657, 0.002346713119454374), (4658, 0.007949573184068501), (4659, 0.0), (4660, 0.002690633584444495), (4661, 0.0019341297175982783), (4662, 0.0), (4663, 0.0382530659985477), (4664, 0.0), (4665, 0.0), (4666, 0.0), (4667, 0.019593837135979807), (4668, 0.0021499720407837358), (4669, 0.009005936853011062), (4670, 0.0020901140666602534), (4671, 0.0), (4672, 0.0), (4673, 0.008008813805046028), (4674, 0.0017524895395175228), (4675, 0.0), (4676, 0.0), (4677, 0.02435704788534323), (4678, 0.0), (4679, 0.01262104683554773), (4680, 0.0023329492454877494), (4681, 0.0), (4682, 0.0), (4683, 0.031402082741284205), (4684, 0.03814947688927337), (4685, 0.0021422058402284375), (4686, 0.0021952714842455165), (4687, 0.0021335227428669573), (4688, 0.0694328002300732), (4689, 0.0), (4690, 0.0), (4691, 0.0), (4692, 0.0027236910940132224), (4693, 0.0021195025121713827), (4694, 0.0025637503643390624), (4695, 0.0), (4696, 0.0028585584549075827), (4697, 0.0), (4698, 0.0), (4699, 0.03777336097263112), (4700, 0.0), (4701, 0.002600548021772282), (4702, 0.0), (4703, 0.0), (4704, 0.002980837003525097), (4705, 0.003119649884441376), (4706, 0.0024241447334314567), (4707, 0.0068175711481229615), (4708, 0.0), (4709, 0.008273672164940203), (4710, 0.002758059605071597), (4711, 0.0), (4712, 0.030158858557950464), (4713, 0.0025258792146733967), (4714, 0.0), (4715, 0.002187598092256455), (4716, 0.0), (4717, 0.00257643245662599), (4718, 0.0024471482335253376), (4719, 0.004225989687398567), (4720, 0.0), (4721, 0.038951661714637646), (4722, 0.015563235783281622), (4723, 0.002667822242546445), (4724, 0.010193121056184116), (4725, 0.02041328586799613), (4726, 0.025525225185940414), (4727, 0.0065389638793699745), (4728, 0.0), (4729, 0.002095896519700679), (4730, 0.0), (4731, 0.0024704486296096874), (4732, 0.002379888284016175), (4733, 0.00182060732533701), (4734, 0.0023580354040217723), (4735, 0.009784849216264758), (4736, 0.016711965081580175), (4737, 0.0), (4738, 0.0), (4739, 0.01686201267694393), (4740, 0.0), (4741, 0.0), (4742, 0.0), (4743, 0.002128990970167373), (4744, 0.0017688223238032299), (4745, 0.0), (4746, 0.0), (4747, 0.007005264862883252), (4748, 0.001889731776634614), (4749, 0.0029282800197174517), (4750, 0.0), (4751, 0.0), (4752, 0.017261884702656296), (4753, 0.002488048627486338), (4754, 0.0), (4755, 0.0), (4756, 0.0022648018973847445), (4757, 0.0022913862997224403), (4758, 0.0), (4759, 0.0)]\n"
          ]
        }
      ]
    },
    {
      "cell_type": "code",
      "source": [
        "len(Recommendation_Score)"
      ],
      "metadata": {
        "colab": {
          "base_uri": "https://localhost:8080/"
        },
        "id": "jwSnBDUZSMRU",
        "outputId": "fc379698-26aa-4f9a-fc3a-c641a0587e15"
      },
      "execution_count": 33,
      "outputs": [
        {
          "output_type": "execute_result",
          "data": {
            "text/plain": [
              "4760"
            ]
          },
          "metadata": {},
          "execution_count": 33
        }
      ]
    },
    {
      "cell_type": "code",
      "source": [
        "Sorted_Similar_Movies = sorted(Recommendation_Score, key = lambda x:x[1], reverse= True)\n",
        "print(Sorted_Similar_Movies)"
      ],
      "metadata": {
        "colab": {
          "base_uri": "https://localhost:8080/"
        },
        "id": "nZGGPlFJTH6s",
        "outputId": "214d940a-9ce0-4dfa-c11a-009e5c4a59d1"
      },
      "execution_count": 34,
      "outputs": [
        {
          "output_type": "stream",
          "name": "stdout",
          "text": [
            "[(256, 1.0000000000000002), (1647, 0.1692855094838092), (1080, 0.16294958089491907), (1562, 0.15031127357002314), (3005, 0.14425171534446568), (940, 0.14257083334273746), (1226, 0.13635062764869207), (2269, 0.136230871816428), (1295, 0.13169891222180655), (3956, 0.12591503772020757), (541, 0.12319762487733692), (1964, 0.12220110779486906), (2845, 0.12145088644361528), (3092, 0.12089627069158185), (705, 0.11925186240845363), (1281, 0.11844510935932336), (4288, 0.11808148844105258), (1553, 0.11645618158131678), (2585, 0.11564979892037486), (3614, 0.11528636816009594), (1454, 0.11410737861746875), (2981, 0.11272006071826503), (3297, 0.11198538394153806), (2624, 0.11013953054928374), (1802, 0.10724988146950976), (1484, 0.10647399056129338), (2104, 0.10605341917403852), (1582, 0.10558047761394922), (1970, 0.10544894418678681), (2250, 0.10516331075249888), (4286, 0.10157416294190584), (3179, 0.1011165978837571), (3149, 0.10085603153650119), (3085, 0.09988855839501073), (1505, 0.09740303840044207), (2340, 0.09631001703777142), (3318, 0.0962039366606653), (1255, 0.09563869087323364), (1101, 0.0954333190284544), (1314, 0.09508973944401528), (810, 0.0950229008054642), (2617, 0.09411071991129297), (4304, 0.09324028308972869), (2323, 0.09083445600056439), (1919, 0.09081471755039464), (1353, 0.09030388033440219), (1480, 0.09027284052543222), (1083, 0.08985160331053256), (856, 0.08984720578900782), (3331, 0.08980445581247587), (2429, 0.08943530662829052), (1394, 0.08917915131633371), (1974, 0.08875762661572105), (3328, 0.08796620081562107), (3083, 0.08728023461197622), (636, 0.087214415086999), (709, 0.08673960564135581), (1614, 0.08558396772677183), (892, 0.0853101448302066), (2968, 0.08446101818273755), (4322, 0.08438697342947583), (1829, 0.08422748225692915), (237, 0.08410563378075099), (2689, 0.08407879779412451), (1074, 0.08372244346919865), (1944, 0.08066459629505676), (4523, 0.08049392782315395), (3377, 0.08036772481676806), (901, 0.07957411004959102), (412, 0.07848834210133943), (2835, 0.07838972441327985), (3659, 0.07837599821383862), (4598, 0.07790679016287391), (270, 0.07749050615572219), (1156, 0.07707593397440575), (3857, 0.07703718331972824), (4498, 0.07694515365825656), (1018, 0.07678208328370541), (1243, 0.07565198385814084), (3101, 0.07513440335395058), (4263, 0.07490377749663661), (1003, 0.0747967865156225), (2978, 0.0746793227387888), (1493, 0.07460048597786889), (2949, 0.07410897377178753), (2356, 0.07387009350354057), (1983, 0.07380182522135471), (2578, 0.07334991344664585), (2762, 0.07309110054501813), (4337, 0.07308885404775473), (893, 0.07268898884375449), (418, 0.07264681557098072), (3283, 0.07256224023198679), (3415, 0.07227291100921357), (3285, 0.0722245234384752), (3073, 0.07219820722168126), (1544, 0.07213400700883033), (873, 0.0719364015489196), (285, 0.07174900026306327), (3528, 0.07127978743308702), (3225, 0.07107589615310585), (1479, 0.07104477736542843), (192, 0.07005901857926851), (1633, 0.06992124806769529), (1362, 0.06977184920492549), (3333, 0.0695857068603318), (4688, 0.0694328002300732), (2746, 0.06914751422749313), (2228, 0.06893595740536322), (930, 0.06875333070329206), (4148, 0.06841155042030864), (517, 0.06840584740878766), (4125, 0.06836753077264357), (1361, 0.06823853658314999), (1248, 0.06808360789081513), (1504, 0.06802251014992244), (515, 0.06800639114182717), (2353, 0.06777259977194224), (1103, 0.06744939855534508), (3915, 0.06733045721537542), (2322, 0.06726855505011352), (1261, 0.06715375557482355), (500, 0.06696735863482084), (126, 0.06685903282990628), (3650, 0.06669816564833608), (2131, 0.0666294240263708), (1595, 0.06661628023511748), (2029, 0.06646199223284123), (3289, 0.06638349884647142), (1173, 0.06630163162746802), (2919, 0.06615373685287716), (3637, 0.06597919188099657), (1153, 0.06582998747945368), (198, 0.06572225114594524), (1533, 0.065706958587428), (96, 0.06558477591803506), (1175, 0.0653712579316527), (1824, 0.06518275010368885), (422, 0.06489162993182492), (900, 0.06485000576322528), (1469, 0.0647993052278766), (2766, 0.06466654658350901), (4628, 0.06460604698033082), (708, 0.06457958633708724), (3147, 0.06456992797939358), (213, 0.06455435464042222), (2297, 0.06452135551666602), (1536, 0.06432188230515784), (2759, 0.06414110724367961), (769, 0.06392736120019152), (3533, 0.06381581260783306), (3389, 0.06379040476420803), (2347, 0.06375995543448779), (3833, 0.06356620859333188), (1026, 0.06356237058097926), (1068, 0.06351551169086196), (304, 0.06331955869386356), (2100, 0.06329646642715059), (4299, 0.0632344087900406), (4407, 0.06302089908750144), (959, 0.06291653974276094), (805, 0.06288801966555949), (2480, 0.06205538782006399), (4063, 0.06199600075472454), (2822, 0.06193208230907102), (3498, 0.06189015643405373), (2747, 0.06172797218008001), (1272, 0.06167315169104448), (4321, 0.06166896108881815), (1130, 0.06133479321313646), (733, 0.06131195432360988), (33, 0.06129604264732634), (2598, 0.061284538076428766), (1468, 0.06121135768289863), (4, 0.06114423272641845), (1784, 0.061000284825325664), (3433, 0.060991986318359), (694, 0.06091292198450466), (2899, 0.0608914338782642), (2548, 0.060822864268083504), (106, 0.060692990411505894), (3243, 0.06066830669179138), (2276, 0.060575721844493766), (211, 0.060572472945053725), (773, 0.06055145194634373), (655, 0.06048904192018802), (4583, 0.06042651392591287), (703, 0.06040919873591193), (2465, 0.06032639841835322), (958, 0.06016545347149373), (3642, 0.06012375082687635), (1052, 0.05996759855769511), (638, 0.05970093175947834), (1754, 0.059444007457993706), (524, 0.059423253302952346), (1532, 0.059415274978607), (445, 0.059376494582605285), (4022, 0.05932993364939369), (4359, 0.059137945781192004), (3853, 0.059102543479296), (2965, 0.05866351195715226), (4159, 0.05866216051197556), (3580, 0.05859529562098757), (1827, 0.058575156527995706), (3336, 0.058302888968068116), (2591, 0.05811343531863658), (1402, 0.058087932627948875), (4433, 0.057883669228685514), (3559, 0.05788238428874569), (1202, 0.05768523701283368), (816, 0.05767554637409045), (2801, 0.057626510949931764), (3380, 0.05750089215048221), (397, 0.05723057472403548), (120, 0.05718172266621863), (4153, 0.057040140770644364), (695, 0.05697260493308626), (2626, 0.05697082571950769), (1492, 0.056964518734896774), (2760, 0.056754605376884), (4375, 0.056624895365659164), (44, 0.056611102670555156), (1956, 0.05640878030993176), (2142, 0.05619105971922079), (688, 0.05561096027777178), (3315, 0.0553587989530095), (2056, 0.05535644039819511), (3200, 0.0550375496254468), (3344, 0.05501126377476049), (2824, 0.05499134714523267), (2227, 0.0546973703768243), (951, 0.0546825618088638), (3394, 0.05458764001629884), (1756, 0.05449274595217303), (1329, 0.0543470942255568), (1559, 0.054172041481592104), (3856, 0.05417078679939422), (1367, 0.05409332200727302), (4449, 0.05407060961343731), (3279, 0.05363546054137725), (1779, 0.053447061861529886), (786, 0.0534397797887238), (1455, 0.053198101345184434), (4059, 0.05319035809504746), (2622, 0.05310502863608431), (1167, 0.05260753851551102), (742, 0.05207129409155326), (2699, 0.05202819487408787), (3716, 0.05194640925648018), (3071, 0.051886088977578196), (141, 0.05181728604472949), (2661, 0.05181197525602093), (3142, 0.05168637005165254), (20, 0.05162660237533076), (2982, 0.051571026011092896), (3508, 0.05134100388583107), (3362, 0.05129264264882043), (3839, 0.05109471013398715), (1407, 0.05102981160158164), (704, 0.051010270316117774), (2627, 0.050975278420821946), (4327, 0.05091960386245153), (142, 0.050908828034154086), (2213, 0.05072154793641495), (1643, 0.050670733473750555), (1626, 0.050531789065587744), (4403, 0.050429361015266794), (3211, 0.050174411339723515), (562, 0.05006069741594733), (144, 0.04957735056337628), (4351, 0.049418678731493026), (2934, 0.049122959261458925), (1689, 0.0490997774364937), (4048, 0.04900259979464637), (2197, 0.048994326206806486), (824, 0.04829963518927088), (3993, 0.04820082400428072), (3769, 0.048182750556353425), (1163, 0.04817935658450528), (36, 0.04807054670939903), (2321, 0.047907029258161815), (1634, 0.047835881163473024), (99, 0.047386401483155385), (3754, 0.04734011003335122), (2645, 0.04733292177025811), (3957, 0.04720008833939813), (1042, 0.04719065998587904), (272, 0.047161792003036926), (2017, 0.047029454893297254), (3815, 0.046982421337882864), (4097, 0.04694567627167337), (2685, 0.046767452198128834), (566, 0.046516016826038724), (3099, 0.046403374585747136), (2037, 0.04620635554126003), (854, 0.04606131233370612), (4067, 0.04596256561645202), (3594, 0.04590039874037261), (1420, 0.04589487416250288), (3965, 0.04586003402403374), (3391, 0.045543879624380716), (109, 0.04551419202942347), (4182, 0.045505239100160945), (1852, 0.04544331798660274), (1832, 0.045394367530652825), (3595, 0.04513635046102527), (2443, 0.04466329281529158), (3597, 0.04448915697126423), (1436, 0.04440473808253276), (3959, 0.044397872848478966), (2614, 0.04436319955185501), (1858, 0.044271988418645616), (486, 0.04425396842219426), (3516, 0.044092484112154245), (844, 0.04403783097081094), (2158, 0.043587523885195094), (2031, 0.043552932217288544), (1985, 0.043536078334242896), (1282, 0.043421153681258394), (2739, 0.04341973641946311), (1795, 0.04341899967742316), (3823, 0.04332795123950077), (1306, 0.04315762058102715), (3407, 0.043131334260154995), (2170, 0.0430948408509781), (790, 0.043079627426049316), (481, 0.043027865850380397), (2720, 0.04302557419559406), (4233, 0.04301818617071798), (770, 0.04256348403936264), (2162, 0.042488629710845986), (85, 0.042472505542808896), (382, 0.04238510075709611), (195, 0.042195400236525835), (1339, 0.04205499504045141), (2196, 0.04184046346807277), (4616, 0.041753957510864755), (4109, 0.04169665972753589), (4178, 0.0415446362602051), (874, 0.04150038134141262), (2463, 0.04131998627263377), (3182, 0.041299553837435096), (3707, 0.04126275830348072), (2246, 0.04123033112824657), (543, 0.04120807947165838), (2629, 0.041124697331249606), (447, 0.041083742665662185), (875, 0.04103027047396452), (456, 0.0409756229484473), (3466, 0.040923510265245065), (1096, 0.04089563832552186), (70, 0.0408885320013551), (3127, 0.040651707148040214), (205, 0.040619391509900626), (3235, 0.040576321725620604), (4054, 0.04035983871599157), (3803, 0.040318795753118315), (166, 0.040318247191175424), (367, 0.040204085659239365), (1707, 0.04010808307921237), (1816, 0.04006603151166526), (5, 0.03968330416088574), (234, 0.03966081640421784), (4557, 0.0396548964385874), (3308, 0.03963485114076243), (217, 0.03958729966003955), (64, 0.03951170108697503), (3076, 0.039504241570076086), (4045, 0.03949432465275869), (855, 0.039425284482693626), (976, 0.03940230446151288), (3524, 0.03938948043867126), (3807, 0.03935812877078235), (1005, 0.039201237141731717), (1680, 0.039129570385589396), (4053, 0.0390949377039126), (4721, 0.038951661714637646), (2924, 0.03882657270052225), (2710, 0.03882296878046999), (1451, 0.03880110989523728), (3320, 0.038797271307696266), (1019, 0.038770599421298166), (443, 0.03872257908920673), (3408, 0.03871553384554565), (157, 0.03861208957481921), (2852, 0.03855912221379635), (4369, 0.038516488915385574), (1138, 0.038503122977667545), (2218, 0.038386409906440405), (3477, 0.03834999185625059), (4653, 0.03826436602488043), (1585, 0.03825480139941729), (4663, 0.0382530659985477), (1623, 0.038251232748733974), (506, 0.038230362647046004), (440, 0.038219921546274904), (739, 0.03820217086332078), (4684, 0.03814947688927337), (4003, 0.03814174021258896), (4379, 0.03810662165304877), (3611, 0.03803926535181904), (4028, 0.03803908148216563), (1100, 0.03803492343022116), (2264, 0.03802169083497799), (1084, 0.03789645317025403), (1296, 0.03787523198738658), (2950, 0.037873832313917354), (52, 0.037830422636755956), (482, 0.03781369219772), (4699, 0.03777336097263112), (751, 0.037766082201513784), (935, 0.03770937948411044), (3421, 0.03765712322056319), (2675, 0.037613561514886255), (633, 0.03758012011286104), (4374, 0.03755717483119345), (1594, 0.03748348505759662), (420, 0.03743775784777107), (408, 0.03740741449591358), (2368, 0.03730158365443575), (743, 0.03722754684327308), (1509, 0.03713006835788131), (2693, 0.037082462269430363), (3797, 0.03704731091152295), (1034, 0.03703733097978219), (2280, 0.03703222219880967), (749, 0.03702023103426831), (967, 0.03696230392071568), (2447, 0.036952816170768094), (4173, 0.03694286532017995), (613, 0.036848097052918166), (3860, 0.036824905878708084), (1107, 0.03681212304718691), (3691, 0.03680105223178333), (3109, 0.03677358854404714), (2410, 0.036727085027893645), (2908, 0.03668659084337713), (3234, 0.036594044125707256), (244, 0.03657120562028371), (2022, 0.03654659599268859), (325, 0.036546586905490654), (4621, 0.03638164416611111), (401, 0.036365683970497664), (883, 0.03635946326320248), (3889, 0.03630812689410745), (3208, 0.03629671289703867), (342, 0.03629116852548752), (2057, 0.03625426128061014), (2440, 0.03621572345031562), (2998, 0.03617806074157659), (4281, 0.036171723147262774), (2477, 0.0361711205301293), (4216, 0.036127607195665074), (1694, 0.036060967828089346), (1143, 0.036054241330740075), (791, 0.0359651861837499), (2077, 0.03596021676270367), (395, 0.035919197640393044), (3117, 0.03587824441130392), (27, 0.03586735222811741), (4486, 0.035860431606260866), (1140, 0.03584641240415736), (2931, 0.035790296457864), (2180, 0.035775092195534076), (460, 0.03571399309907643), (1324, 0.03571185897454227), (307, 0.03570265592220216), (4169, 0.035661915217594334), (74, 0.0356057670527094), (2496, 0.03559532182857265), (2821, 0.035541198790793), (4150, 0.0355262252326942), (2096, 0.03550860692191753), (4036, 0.035397983052975056), (3406, 0.03533184288641267), (3640, 0.03531737155536467), (470, 0.0353094002889586), (1920, 0.03519332310243699), (830, 0.035192550548499534), (2985, 0.035063039695410254), (845, 0.03504905359127372), (2118, 0.03504098270302353), (968, 0.035033809603508596), (3919, 0.034997294842171796), (2040, 0.03498588859977604), (204, 0.03497603590001751), (2777, 0.03493458374498716), (4089, 0.034858723292894994), (34, 0.03483684662317486), (2650, 0.03478340365921723), (4262, 0.03475732893193119), (4324, 0.034694947690150794), (265, 0.03460980250278607), (4050, 0.03457220300316511), (606, 0.034570842851108355), (3387, 0.034560446972106626), (216, 0.03453803634122963), (2988, 0.03452939770190027), (435, 0.03452689817915837), (377, 0.0344944636587228), (1318, 0.0344919381395384), (122, 0.03443704792365558), (1184, 0.03443638208296613), (982, 0.03442764523986451), (871, 0.03439869294746946), (3051, 0.03437491622459066), (2724, 0.03436650882620124), (946, 0.034360282409978515), (2894, 0.034355772404460486), (1221, 0.03434244590712009), (677, 0.03429864362691206), (3000, 0.034277736094670413), (3802, 0.03426926333924611), (1753, 0.034257597177256044), (115, 0.03423264610455312), (1936, 0.034216620095428016), (4226, 0.03421476284621382), (969, 0.0341710747008878), (487, 0.03410426803629752), (291, 0.03407546376677702), (3842, 0.03402583978895234), (1785, 0.03395200693326056), (3976, 0.03393747640964954), (2258, 0.03393700882141998), (3938, 0.033933484947553834), (3386, 0.03392205198516534), (317, 0.03386472192795396), (3335, 0.033826055382582584), (4174, 0.03378904820472903), (182, 0.03374561157007502), (3510, 0.0337397301001839), (3534, 0.033736694529947146), (792, 0.03368633265969359), (4517, 0.0336811591206618), (567, 0.033670859980845624), (1933, 0.03365702759254826), (697, 0.03361860370346848), (1903, 0.03356465717909198), (3175, 0.033536551878527554), (3774, 0.03351305934289626), (1575, 0.03350981879340098), (2558, 0.033483061081186614), (1616, 0.033449182440241775), (4427, 0.03344107743967609), (46, 0.03334926271263273), (2853, 0.03331091483185261), (4056, 0.03329774667755983), (986, 0.033288767090781705), (425, 0.0332121684915852), (2516, 0.03316079617771968), (2819, 0.03315385329048337), (3435, 0.03315325436321113), (1059, 0.03313967729159595), (1943, 0.03313001641207138), (1831, 0.03310202130171703), (4105, 0.03309763466189003), (2512, 0.03307514549008681), (3747, 0.033055109154099135), (61, 0.03305286044774592), (1550, 0.03301217440060289), (2790, 0.032905909462845724), (2069, 0.03289333903454678), (417, 0.03284762139916556), (4020, 0.03284407798648305), (1429, 0.03273196853247454), (4309, 0.0326761569920633), (149, 0.032672712847621015), (1775, 0.03265653991656422), (3310, 0.03264907020528481), (2553, 0.032638632023918285), (2085, 0.032607246781071166), (127, 0.03259788706998717), (4466, 0.03258893682832425), (1613, 0.03255343590658911), (4275, 0.03244984156293341), (3847, 0.03241417264021132), (189, 0.03240900606395247), (1030, 0.03240703381253906), (2181, 0.03236115576863712), (2571, 0.03234526486675615), (1645, 0.032342365215224676), (3463, 0.03228443946798433), (3010, 0.03228347093034755), (1463, 0.03227872706158279), (4192, 0.03226006998127809), (4462, 0.032218621515751764), (3352, 0.032194970536353514), (293, 0.03213861099018185), (4329, 0.03213506022894489), (3868, 0.03203338705297042), (93, 0.032032609606916604), (4155, 0.03198359042645254), (4404, 0.031974661199616096), (1085, 0.031905561163684065), (3102, 0.03189724868190775), (3589, 0.03184092693806654), (2366, 0.03182026122249667), (2445, 0.03177989746963429), (2355, 0.031732736287414985), (1301, 0.0316505308893571), (4399, 0.03163974133699083), (388, 0.03160449878274767), (2212, 0.031599541983058005), (1177, 0.03153698757320202), (1568, 0.031509327877897154), (3382, 0.031497383948978316), (3456, 0.031472895847867215), (828, 0.03147017109619595), (4060, 0.03146290387655133), (71, 0.03144307992477606), (2001, 0.031423959425797635), (4683, 0.031402082741284205), (886, 0.03138644614706668), (3047, 0.031354775248642594), (975, 0.031341151148825644), (1873, 0.03132765930000561), (4006, 0.03127824839343687), (3188, 0.03126101268285079), (1133, 0.03122938396897492), (659, 0.031185083117429496), (1720, 0.0311716318740617), (3750, 0.031162455366350227), (2014, 0.031127586264517), (579, 0.031112635281965444), (1379, 0.031099826424079217), (4482, 0.03104069735770932), (4390, 0.031032790995773402), (2129, 0.031021527876141493), (1239, 0.031012381802176702), (2408, 0.03099063942306313), (4542, 0.030942348632800324), (1448, 0.030934513114851334), (375, 0.030929860669102253), (415, 0.0309223145319508), (1913, 0.030884924290947816), (15, 0.030879578299686183), (1253, 0.030859922798233873), (1887, 0.03085496544860032), (88, 0.030833708704343578), (3460, 0.030785367530780393), (4176, 0.03078407093452219), (3814, 0.030783335266240868), (2688, 0.030783219594786325), (1551, 0.03075961991239796), (1888, 0.030743705917997508), (4237, 0.03074004285730903), (94, 0.030712704940231463), (927, 0.030698735176868133), (4029, 0.030670527103721878), (1589, 0.030657066722863287), (84, 0.030643241537529033), (1782, 0.030619949749521497), (3329, 0.03060638832371837), (1569, 0.030568796437177217), (746, 0.03056206824851325), (1817, 0.03055366641089001), (2360, 0.03051546642639412), (2574, 0.03050772845123218), (4633, 0.03050703013852705), (4534, 0.030438910384877553), (3474, 0.030420956987088226), (2204, 0.030416361141204305), (2563, 0.03036131276290964), (1592, 0.03035313343316748), (277, 0.030351199422271328), (878, 0.030267384106000328), (2222, 0.030239397393774875), (2003, 0.03023559819596083), (1347, 0.03022944993784919), (1344, 0.03022917402696692), (3011, 0.030221464112653328), (4712, 0.030158858557950464), (3872, 0.03015821839071051), (3141, 0.030152214846519757), (4074, 0.030128436410706495), (2660, 0.030090832966115894), (1561, 0.030082022549081468), (427, 0.030019234609617165), (1545, 0.03001149417988859), (3167, 0.029981891521365933), (3111, 0.02996402201932237), (3985, 0.029918407499000328), (1375, 0.029899122107313013), (73, 0.029893200690170534), (1993, 0.029881319688634247), (1654, 0.029873800350294313), (1067, 0.02984960336386713), (4587, 0.02982814459077551), (2409, 0.029807656206240308), (2618, 0.02980688373136755), (2736, 0.029800133444610452), (1392, 0.029765848684731075), (1915, 0.029763444525998356), (1043, 0.029753779970710593), (3360, 0.029738184563123188), (463, 0.02969883806772706), (2318, 0.029683266900039577), (1428, 0.029667321728761187), (499, 0.029630543995358596), (2, 0.029627105963890975), (1597, 0.029565429920635974), (3077, 0.029555471458507163), (2098, 0.029535255283005452), (1981, 0.02953199567061032), (4292, 0.029487090322297488), (605, 0.029458469162386956), (1341, 0.029448954343965408), (3, 0.029431364469359043), (43, 0.029413780818799612), (3910, 0.029392113177493125), (647, 0.029374204520475716), (1804, 0.029364904150691602), (974, 0.02929768394103995), (1359, 0.029257092794047406), (565, 0.029231320664952837), (928, 0.029223022977270183), (1010, 0.029203911599295352), (924, 0.029161473293230652), (163, 0.029124513057993337), (2827, 0.029113289187450916), (1430, 0.029100921475623837), (240, 0.028968272443195792), (248, 0.028952920809113113), (658, 0.028950841659324555), (335, 0.02893324450558005), (2550, 0.028920371388913), (2497, 0.028904765369932015), (131, 0.028884798766601848), (1549, 0.028878400465771507), (3084, 0.0288775228224495), (309, 0.028814722012587918), (4177, 0.028765938522858192), (4274, 0.02869734190335463), (160, 0.028686390213300307), (3738, 0.028626108170060834), (1527, 0.028597902898664294), (870, 0.028572961502451127), (4193, 0.0284617170558912), (1340, 0.02843152359266349), (551, 0.02827669823838521), (4625, 0.028270432100996657), (1485, 0.028236214725877687), (1028, 0.02813803104223694), (2256, 0.02812016481334654), (4264, 0.028095242451495948), (3158, 0.028070913780178303), (1494, 0.028049281818655736), (1750, 0.027969589314413866), (2737, 0.02795907026799623), (4582, 0.027916271220440485), (3701, 0.02791301995301845), (1978, 0.02789417148214479), (4533, 0.027865617972229764), (604, 0.02776122559797142), (1071, 0.02770178899990031), (979, 0.027674359151888456), (3723, 0.02762890370686187), (3830, 0.027572763867895835), (3095, 0.027566639919927364), (2509, 0.027511979225965738), (756, 0.02748206278218042), (2742, 0.027376612038602966), (2805, 0.027367545602316114), (1075, 0.02734552571174838), (753, 0.027235394862788385), (4305, 0.02719721773049359), (4095, 0.02719563904241199), (3475, 0.02718233268246762), (825, 0.02715957660723505), (1249, 0.027133048863213386), (1021, 0.02712062777610572), (3673, 0.02711699939064842), (483, 0.02711054892284876), (2441, 0.027110181725384437), (1699, 0.027077684104558453), (2842, 0.02705868767205969), (1863, 0.027029155246522857), (1838, 0.02697100751626874), (490, 0.026961277343460113), (429, 0.02691009115634037), (719, 0.026896035156661738), (3129, 0.02688873630570789), (3958, 0.026838707400767367), (2352, 0.026746995070421168), (2000, 0.026678746342934195), (4018, 0.026674925496701456), (2403, 0.0266634584428071), (3471, 0.02661900034310291), (2152, 0.02661383694654059), (1596, 0.026604171693090577), (806, 0.026497956358325254), (3383, 0.026495273961856594), (4119, 0.026426401205057078), (3806, 0.026402640216959778), (3070, 0.026339337329107912), (51, 0.026293521438765073), (575, 0.026255068401174784), (1088, 0.0262368653258997), (2936, 0.026188099216081284), (646, 0.026183171003752257), (726, 0.026168875513665184), (993, 0.0261494825579058), (1342, 0.026134316823362147), (1747, 0.026053966874361543), (1038, 0.026038278638353254), (1848, 0.025941758243571953), (209, 0.025909507540495064), (1752, 0.02587561214719286), (582, 0.02581940252122079), (3601, 0.025700617814313726), (2474, 0.025685390897708608), (438, 0.02558528395530564), (2718, 0.025548372400516054), (4726, 0.025525225185940414), (3499, 0.02550137409145726), (734, 0.025499132489630073), (994, 0.025396942204355705), (3410, 0.025314530127026787), (4538, 0.025199143026429904), (1770, 0.025160477237422124), (2300, 0.025149561784256307), (1210, 0.025107735049031504), (4070, 0.02504990919463248), (294, 0.02491910869431929), (2776, 0.02491606786823952), (4422, 0.024903283152215554), (2217, 0.024891218712764247), (807, 0.02484868697676295), (1971, 0.024767775671268068), (1534, 0.02474488619710062), (667, 0.024701525840094756), (396, 0.02467463562614108), (740, 0.024626905997950664), (238, 0.024578721779399817), (3080, 0.024428810533953852), (3849, 0.024402886802044898), (3137, 0.024391801030596627), (4677, 0.02435704788534323), (3511, 0.02435190795545375), (3882, 0.024347785915548183), (1542, 0.024325481503653625), (212, 0.02429323038903414), (4008, 0.024284046181744203), (1725, 0.024229279569914768), (2770, 0.024209371343432366), (929, 0.02415031781339598), (252, 0.02411747371062153), (4459, 0.024094530864365218), (2659, 0.024087352961364248), (79, 0.02402331172451647), (1612, 0.023997029473989392), (2306, 0.023917371793191127), (2848, 0.02391205554601613), (2084, 0.023652557228554517), (4197, 0.023584042606151132), (1865, 0.023549425334161544), (3584, 0.02353748798847118), (1419, 0.023522935237425595), (2438, 0.023415548593630157), (692, 0.023369808923726837), (4411, 0.023325645184864977), (19, 0.023250788764979876), (2121, 0.022942100631243523), (3228, 0.022941546627959955), (3458, 0.02293638751089603), (124, 0.022819652831294057), (2619, 0.022765281954430595), (3798, 0.02273336355549475), (3658, 0.0227212046030585), (3570, 0.022666379425724664), (4220, 0.022567176006745206), (138, 0.022559224771183474), (2862, 0.022458488996120695), (1555, 0.022433898043491208), (1111, 0.022396130663584816), (2955, 0.022380597835933224), (3392, 0.02224489712747136), (4256, 0.02223424552832938), (2417, 0.02213392562026252), (2442, 0.022112753688673208), (3268, 0.022080041682688456), (1895, 0.022042580823895177), (2918, 0.0219747783505184), (3982, 0.021910990702749263), (1216, 0.021852455611423918), (3877, 0.021811345246589352), (3811, 0.021808911391810966), (3327, 0.02161547814922133), (2110, 0.02155690947944386), (2234, 0.02151929800184164), (4084, 0.02150235755308914), (1805, 0.02134364312876345), (4013, 0.021328235220834692), (1567, 0.02128289340575339), (1515, 0.021088754593575974), (1996, 0.021058534912996148), (1297, 0.020969778804304284), (266, 0.02094953981881253), (1960, 0.02093048469924557), (3824, 0.020917967157529815), (3780, 0.02091667104363541), (3973, 0.02085734427382074), (364, 0.02073202596757284), (3588, 0.02054556883112715), (4104, 0.020505896983768066), (787, 0.020477917602548405), (580, 0.020470738016602943), (664, 0.020445852119667957), (4725, 0.02041328586799613), (1845, 0.0203787634552803), (2240, 0.020301416016196512), (4518, 0.020299719892558937), (2649, 0.020278178195796973), (2123, 0.02027688470333994), (4473, 0.020148378520543055), (3016, 0.020110912568221697), (4505, 0.020009961847374868), (3996, 0.019938135494242684), (2844, 0.019903152097504696), (621, 0.019878760885264222), (4225, 0.019844208204173305), (1660, 0.01975162512191712), (2904, 0.019662351087373006), (4667, 0.019593837135979807), (631, 0.01943700953763185), (3785, 0.019370569735800456), (3430, 0.01925617134365277), (2374, 0.019158627747382015), (1351, 0.019143718118962066), (4385, 0.019075625845483897), (3098, 0.019033922032085277), (1511, 0.018903066225637907), (346, 0.018784367416278085), (3838, 0.0187125571051307), (3964, 0.018675846269555197), (3898, 0.018590191159158345), (365, 0.018569777938612288), (1710, 0.018556782652344592), (3260, 0.018547501103448147), (1882, 0.01852200381514563), (2487, 0.018506463959430758), (2226, 0.018484903650659343), (2114, 0.018451062718532724), (168, 0.01839017210791034), (1844, 0.018359060602726143), (2552, 0.018315385962257902), (2912, 0.01830472090149106), (4338, 0.0182647135238773), (4069, 0.01825935868695352), (2249, 0.018204967565695927), (3202, 0.018181302494320747), (3500, 0.01817479300685151), (3369, 0.018069845389683883), (1543, 0.018048533151981357), (578, 0.017841619515907747), (4242, 0.017834627519719218), (2004, 0.01776744756245885), (4634, 0.017639635190210917), (1578, 0.0176121829568519), (1389, 0.017608939113825602), (3829, 0.017572509284580075), (3154, 0.017570738261459825), (1456, 0.017546589558270893), (899, 0.01742610300714451), (2804, 0.01741333486176916), (1114, 0.017411888173748124), (4343, 0.017327659029571604), (2816, 0.017302397902253703), (1238, 0.017289342285628964), (2839, 0.017269812436774525), (4752, 0.017261884702656296), (1636, 0.017229324312002872), (1289, 0.017213747103116846), (95, 0.017201409449247883), (1777, 0.017179591514303153), (3443, 0.01717030420051673), (1097, 0.017072179212006575), (2421, 0.017037889644088863), (3812, 0.017020198253129778), (3027, 0.0170110625863007), (804, 0.017002784528546207), (2580, 0.016882032199386502), (3375, 0.01687572405435261), (4739, 0.01686201267694393), (1267, 0.016828315592821844), (4736, 0.016711965081580175), (135, 0.01670777328296252), (3343, 0.016705241458024878), (3450, 0.016672828891034143), (184, 0.016646661096756242), (22, 0.016603765519491834), (1136, 0.01657295778698845), (3350, 0.016497188293217894), (3712, 0.016489682506307442), (1927, 0.016473760259162806), (4465, 0.016452851611487282), (1801, 0.016451874796139444), (1106, 0.016445424890231417), (1773, 0.016383709557156134), (90, 0.016352104174793956), (3368, 0.016326154110870482), (3927, 0.016305695164343027), (2682, 0.016241488303404588), (2992, 0.01623136246217056), (2758, 0.016055110949120148), (3567, 0.01602135552489956), (1285, 0.016009606786796773), (1840, 0.015838749804374094), (3097, 0.015829825975808773), (3859, 0.015816802569686914), (2542, 0.01575630117811214), (2311, 0.01573025017077519), (123, 0.015706376640146597), (426, 0.01564088262362854), (3121, 0.015616800636929327), (1997, 0.015597114025005904), (4722, 0.015563235783281622), (2929, 0.015525804753310089), (2156, 0.015500945016266554), (4009, 0.015451014583110274), (1197, 0.015375043256738342), (1242, 0.015297580629449048), (1572, 0.01527523739093489), (2608, 0.015247047872189268), (2654, 0.015239815597441147), (68, 0.015225091209410837), (327, 0.01500073215636582), (2389, 0.014916130247906917), (4596, 0.014738427271170938), (1279, 0.014656463177164793), (2210, 0.014595983235063654), (795, 0.014388750381206373), (3946, 0.014161051120714634), (1222, 0.014018259602387268), (1671, 0.013898879779321704), (3978, 0.013692885749107923), (2326, 0.013669287716422101), (1132, 0.013643273058149486), (4246, 0.013592531976603494), (2023, 0.013518809186728032), (3944, 0.01347957183762309), (3306, 0.01316115637236725), (2219, 0.012847005411387315), (4141, 0.012799751907404257), (1290, 0.012718261766899105), (4679, 0.01262104683554773), (3356, 0.012612389142606564), (3403, 0.012577314028752496), (4088, 0.012475745312194088), (145, 0.012410383018406761), (4380, 0.01238906443193483), (2815, 0.012245695878183272), (181, 0.012092821701321178), (1937, 0.011957868937670264), (2768, 0.011754171450185587), (1721, 0.011391655761992116), (3119, 0.011336193909419616), (4617, 0.011309252026778654), (2093, 0.011259037976059892), (947, 0.011154168388344527), (2932, 0.010932813688890108), (2154, 0.010591594985563786), (3828, 0.010457660343384488), (2795, 0.010442541615921364), (4469, 0.010331456962206158), (4724, 0.010193121056184116), (3999, 0.010181623156781918), (1064, 0.010018050958147584), (2913, 0.00998529253000742), (1264, 0.00996050723282653), (3766, 0.00986092152063499), (3675, 0.00985688267834913), (1506, 0.00983105717419831), (4554, 0.009829229290549323), (4637, 0.009811876957323775), (4735, 0.009784849216264758), (1115, 0.009781936943263007), (1053, 0.009725831226925906), (2406, 0.009712825821855977), (3275, 0.009664661856866357), (937, 0.009660765476895096), (4477, 0.009660437280022562), (3019, 0.009626032724315427), (4203, 0.009584862097716636), (860, 0.00958066880482368), (1275, 0.009541092690455676), (2625, 0.009500209762630444), (274, 0.009494363349839581), (4244, 0.009473012395398155), (876, 0.009438231858285445), (3883, 0.009425584190543493), (2346, 0.009401662075572439), (2638, 0.009395146761119697), (4187, 0.009382408259654982), (3043, 0.009360729894638889), (3992, 0.00934697266130441), (1148, 0.009336132630521063), (683, 0.009334978190190132), (281, 0.009334744215567304), (3373, 0.009306816611672908), (533, 0.009300431265358363), (1716, 0.00927350251803353), (2903, 0.009273006589610748), (3012, 0.009270683081814305), (701, 0.00923037744150668), (4293, 0.009227081300487243), (458, 0.009226483706360554), (1923, 0.009183392014959858), (888, 0.00916443332831963), (4531, 0.009163892785222729), (4551, 0.009151132552598657), (3961, 0.00912683448569045), (2112, 0.009126555377434627), (4619, 0.00912336083103426), (254, 0.009114021373826907), (48, 0.009111086676461908), (2996, 0.009099885390875072), (3924, 0.009089664348218382), (450, 0.009073365262752148), (2464, 0.00906877380751464), (2229, 0.00903652223904439), (896, 0.009033166818201563), (673, 0.009023531093528844), (675, 0.009017531046441889), (4116, 0.009014977009688072), (4669, 0.009005936853011062), (2097, 0.00899820634449637), (2214, 0.008990585451049162), (1325, 0.008962504289275083), (3694, 0.008948848413740903), (1015, 0.008938448203255301), (1874, 0.008936296533536357), (3086, 0.008932619239103642), (210, 0.008911795027451585), (2254, 0.008873318661151302), (485, 0.008861370033252514), (21, 0.008842640644176428), (1141, 0.00883674052425332), (1119, 0.00882842481885079), (4231, 0.00882070717780974), (2522, 0.008812764020116617), (622, 0.008786406843556433), (206, 0.008771504585078364), (1687, 0.008767243241616736), (1234, 0.008756202084682422), (3483, 0.008755007386889124), (1853, 0.008752516586577582), (2849, 0.008741808249188316), (3777, 0.008736645849933632), (4123, 0.008730890551328545), (4033, 0.008723441769988545), (4474, 0.008706483531791051), (3984, 0.00869617783816132), (1821, 0.008677111188451676), (173, 0.008666231332180602), (502, 0.008656615652600105), (3437, 0.008656447053016773), (1736, 0.008656373020467184), (4007, 0.008655129226218456), (3862, 0.008635997629023982), (1224, 0.00863164420476763), (879, 0.008626809570730722), (1513, 0.008613733592999561), (2546, 0.008608054959421293), (1727, 0.008597391627937705), (2016, 0.008584153825231262), (584, 0.00855601070722855), (2053, 0.008536975210372728), (1629, 0.0085355456080001), (2126, 0.00852760793156979), (2334, 0.00851094874181185), (2668, 0.008508083118242294), (1334, 0.008488466922723963), (4189, 0.008458157999433915), (652, 0.00845781311732337), (2784, 0.008451762231349934), (3699, 0.008445814620829207), (1337, 0.008438460319090063), (1740, 0.008435114547010156), (2489, 0.008426815513863605), (1942, 0.008412732327178077), (4068, 0.008400596405656895), (2295, 0.008400364671147586), (1440, 0.008396550339494897), (544, 0.008391202589300092), (4004, 0.008385799071394116), (3949, 0.008367247336230583), (864, 0.00835544967184872), (1335, 0.008351232385671321), (1922, 0.008347246282568846), (3210, 0.008340744441257887), (3670, 0.008339589505681548), (4503, 0.008339422912941477), (1232, 0.008332684276744313), (3155, 0.008325462106468968), (2284, 0.008313512343508144), (4435, 0.008308346085430266), (172, 0.008295117290488919), (1385, 0.0082792972377703), (2695, 0.008279098082414248), (4709, 0.008273672164940203), (3612, 0.00827205942686069), (479, 0.008259133839471591), (370, 0.008255503566394335), (280, 0.008247277772907582), (2275, 0.008243006342707875), (4268, 0.008235502038934504), (1678, 0.008221654922247648), (988, 0.00821314445181549), (3374, 0.008206230144536645), (1483, 0.00820476143120672), (4000, 0.0082018779346172), (105, 0.008200810927177733), (2174, 0.008196261571349547), (3553, 0.00819523274190891), (1252, 0.008192518572844091), (894, 0.008191220500298026), (1438, 0.008189026222170555), (3888, 0.008181647522614226), (534, 0.008166887021243886), (1621, 0.00815166182694917), (282, 0.008146158715441568), (2961, 0.008139231252791871), (989, 0.008133082911488631), (1338, 0.008132839756680946), (2216, 0.008103963728582603), (2910, 0.008090438742435127), (475, 0.008087476952766392), (4387, 0.00806278907238232), (799, 0.008060914434876446), (2279, 0.008056771163131915), (1017, 0.008037204960240206), (1035, 0.0080330293261969), (1967, 0.008032996166762053), (3370, 0.008026359135627), (4442, 0.00802049121526206), (676, 0.008016503476062194), (643, 0.008012783501631432), (2808, 0.008012409166373132), (4673, 0.008008813805046028), (1481, 0.00800315967581254), (2080, 0.007989241037341986), (87, 0.007982360491561948), (3660, 0.007973985303608823), (112, 0.007960751185829973), (4658, 0.007949573184068501), (18, 0.007928946144468162), (2948, 0.007926744359262843), (3504, 0.007920135729500902), (1478, 0.007918266912760048), (2024, 0.007918256986364848), (2752, 0.00790879640526975), (1854, 0.007894865929889344), (2886, 0.007888990338752802), (3171, 0.007865726376027345), (1160, 0.007848552397960971), (2224, 0.00784641796138395), (3293, 0.00782647324440372), (4124, 0.007824217240161281), (434, 0.007822793791890662), (3819, 0.007807397019716635), (939, 0.007799333791365687), (276, 0.0077966509792701), (4440, 0.007784331773162992), (236, 0.00776710560374894), (287, 0.007758860197166156), (3941, 0.0077488156754327315), (1665, 0.007742241367583161), (1620, 0.007731891901555949), (866, 0.007687118954123199), (111, 0.007681347415118708), (2600, 0.007679452854613756), (1183, 0.007675184888635242), (948, 0.007664185961936841), (3120, 0.0076555477372694716), (3854, 0.0076466421123881755), (558, 0.007624898982331962), (1667, 0.007620677434931789), (669, 0.0076083168726185585), (2581, 0.007606350028179426), (829, 0.00759604718511181), (2939, 0.007581110799041674), (4122, 0.007559527468061245), (4502, 0.007552216195632011), (1796, 0.007544601437097731), (199, 0.007539707684377056), (1360, 0.007525686749708549), (2363, 0.007522188267469817), (1237, 0.0075061633533837786), (3418, 0.007504133121288007), (3267, 0.007502988048367447), (2055, 0.0074943171486686715), (1387, 0.00746468496420599), (1058, 0.007460704650803726), (842, 0.0074427920534530885), (1000, 0.007437374271605138), (4475, 0.007435793963454459), (1739, 0.007434973627440833), (2065, 0.007428947356815889), (2607, 0.007411788340150217), (3801, 0.0074083580492053415), (2727, 0.007321158378181979), (368, 0.007306380521987338), (1776, 0.007282266712800501), (851, 0.007243854229256758), (1343, 0.0072359241426760154), (461, 0.007208236103459259), (3535, 0.007207726375892554), (653, 0.007194382869340664), (2621, 0.007194067211928782), (4232, 0.007188651990389983), (2692, 0.007180422705514562), (2412, 0.007179916319145772), (904, 0.007165233297159389), (147, 0.007153936059064019), (3384, 0.007136126525380429), (2635, 0.0071322032649806435), (2468, 0.00711201136693203), (1540, 0.007110571032365782), (251, 0.007087288157212568), (2070, 0.007072769444290364), (3741, 0.007070545226757413), (3312, 0.007069840838873211), (190, 0.0070563587974498305), (1591, 0.007049567083491245), (1815, 0.00704615761931255), (1050, 0.007044479082131331), (905, 0.007041267331231246), (3947, 0.007034087085127303), (3708, 0.007027992597383426), (2771, 0.007016402679186705), (4747, 0.007005264862883252), (760, 0.006982804384721503), (2076, 0.006973981258989301), (547, 0.006971585083727751), (1507, 0.006970454872407567), (38, 0.006956187745381803), (2486, 0.006949662377724469), (4610, 0.006939816673331001), (4335, 0.006933193992722746), (4121, 0.006923074069190481), (1078, 0.006886195833293147), (207, 0.006875283186042717), (89, 0.006863126910999208), (2602, 0.006861114006911867), (2066, 0.00684749673980362), (3110, 0.006847438287175216), (682, 0.006845796858362038), (139, 0.006829395802189701), (40, 0.006828028267454018), (4512, 0.006820277900821932), (4707, 0.0068175711481229615), (2304, 0.006800997529464742), (1260, 0.006789925091741905), (3317, 0.006772671488843874), (2697, 0.006769412586820754), (2383, 0.0067680177518572035), (1369, 0.006767847082808984), (3756, 0.006763798808927975), (1371, 0.006761528591937427), (385, 0.0067382700910651695), (3652, 0.00672571586327761), (3192, 0.006724421670366273), (942, 0.006722337038070185), (4227, 0.00671949399671965), (1317, 0.006699676430423988), (3453, 0.006695058026404349), (162, 0.006685501347064364), (1681, 0.006682678502025351), (1377, 0.006670266744517471), (1303, 0.006666866461738337), (1806, 0.006645290337364421), (1989, 0.006641469455403782), (1162, 0.006640762919790123), (1674, 0.006639976931936443), (2925, 0.0066390654706592455), (678, 0.006635772794530378), (3899, 0.006628168914935338), (757, 0.006605072425092512), (2082, 0.006603438919731264), (4118, 0.006564004504536773), (4656, 0.006563694985437098), (4436, 0.006563629924206352), (2252, 0.006558330859795504), (3586, 0.006550734418760553), (3768, 0.006540728490844721), (4727, 0.0065389638793699745), (4094, 0.006523376271863693), (2316, 0.006519833970657948), (1705, 0.006518095130081303), (180, 0.0065045075625957014), (2963, 0.006499165655505319), (10, 0.006486699078583746), (4289, 0.006478594480117542), (4510, 0.006460667446952377), (1417, 0.006454659062417045), (3464, 0.006451066736038734), (1116, 0.006448455469434367), (4265, 0.006441872468787243), (3905, 0.006438641059844033), (3259, 0.006419386051520081), (654, 0.006415426970482348), (1185, 0.006412869600592362), (1104, 0.006406777095081747), (3334, 0.006404294961456095), (474, 0.006395838000823163), (853, 0.0063933217147677315), (1393, 0.006391335359777361), (143, 0.006385306794237737), (3018, 0.006356742425925029), (3945, 0.006353670317303607), (201, 0.00635068305950327), (1047, 0.006341879717864916), (1432, 0.006340455582563418), (1024, 0.006339731940395273), (224, 0.006326524732860605), (1774, 0.006313656263184445), (1949, 0.006310443872598335), (3507, 0.006309988043489592), (2780, 0.006302531955281812), (2944, 0.006300375675732147), (918, 0.006299193376693308), (1847, 0.006284551584151185), (2519, 0.006278639088300119), (1735, 0.006277244496324398), (1861, 0.006267750458392127), (137, 0.0062668232618054015), (2235, 0.006254709481102126), (869, 0.006240894330514451), (3645, 0.0062326281296420025), (4093, 0.006226467068416204), (42, 0.006226103746286324), (908, 0.006218345749509167), (1958, 0.006213057292242308), (2444, 0.006208895017796242), (2788, 0.00619687251977345), (83, 0.006168212135977909), (1461, 0.006155036507873698), (3245, 0.0061500426083403855), (4581, 0.006143624569550028), (1945, 0.006133134846895202), (1471, 0.006131890962131194), (2994, 0.006126391527167951), (494, 0.006114870421927042), (1388, 0.006113433042473512), (4184, 0.006111768102639859), (560, 0.006105337338027846), (931, 0.006082726514558534), (2026, 0.006082090120565534), (3416, 0.006081232410338888), (684, 0.00606760255113475), (4623, 0.006064949205585809), (2336, 0.006052763726994154), (81, 0.006030909144364157), (1986, 0.006019815041596355), (2825, 0.006013156620615654), (50, 0.006011163686360468), (530, 0.005991838576568722), (1292, 0.005985725941464862), (1330, 0.005975239867311793), (1128, 0.005964371602690635), (539, 0.0059563669463037145), (1406, 0.005948988629021539), (503, 0.005921154236583665), (2178, 0.005920625128640622), (3531, 0.00590388167870907), (72, 0.005903290685234334), (345, 0.005899390649521431), (108, 0.005883076466826228), (1063, 0.00588119427909681), (1076, 0.005867445439470886), (3582, 0.005863842749444758), (4543, 0.005862943975644151), (915, 0.005857180796400368), (1125, 0.005849224161644877), (1230, 0.0058424552432468115), (1231, 0.0058328122450103876), (2206, 0.005818137802206589), (4481, 0.005815734051544224), (2897, 0.005814045269077207), (542, 0.005798533110000569), (1412, 0.00579363983382502), (2962, 0.005792342838512712), (3465, 0.00578160804788181), (1738, 0.005778482266166704), (360, 0.005775725451277263), (1630, 0.0057755802326613795), (827, 0.005774500117204221), (2751, 0.005772214729960664), (3794, 0.005765284352940335), (1054, 0.005747677777247759), (1973, 0.005726063551038545), (2184, 0.005717855309665346), (311, 0.005713252808949595), (833, 0.005696608038106177), (1992, 0.005686616284269022), (3280, 0.005667021707515922), (532, 0.005652217818795581), (2874, 0.005649347112120241), (3775, 0.005648664225544845), (3118, 0.005648611637312913), (2119, 0.005646627788269873), (4325, 0.005645831419648227), (916, 0.005640130845080005), (2324, 0.005630489792808889), (745, 0.005627845321695113), (1789, 0.005620752610490769), (4165, 0.005613263926923469), (3711, 0.00560820159612859), (1987, 0.005587384984598242), (2791, 0.005582351295256538), (4235, 0.005577174032303475), (801, 0.005575755745461924), (1259, 0.005563463055667995), (4164, 0.005558877047727138), (1236, 0.0055356334294197175), (148, 0.005523670028620002), (2424, 0.005517209228680785), (170, 0.0055151147172509745), (632, 0.005501299857384825), (1061, 0.005479866041304066), (334, 0.005477161204267251), (4366, 0.005473049197679894), (501, 0.005465905685634079), (2833, 0.005425647905096004), (497, 0.005416693184405436), (333, 0.005414205029543298), (2871, 0.005412295067346497), (47, 0.00540280646327488), (4450, 0.0053957836810166115), (2388, 0.005357652559207908), (1213, 0.005346992345547894), (1797, 0.0053363821233393454), (4553, 0.005322406454054474), (3232, 0.005321920791804963), (1194, 0.005318162092644244), (862, 0.00530280937131877), (1348, 0.005302010661797245), (2971, 0.0052962958218643755), (3684, 0.005282595897117005), (4096, 0.005273374318574267), (629, 0.005256149926090653), (86, 0.00523480602103935), (3731, 0.0051909573486290045), (1781, 0.0051791500220681325), (1300, 0.005146946320846588), (3674, 0.005138133206599034), (1214, 0.0051040034509248705), (3713, 0.005074960597492072), (1092, 0.005073475115493975), (3045, 0.00502663325082164), (1137, 0.004997561989264171), (2555, 0.0049625095273063795), (2524, 0.004904818968549079), (668, 0.004815603310596413), (1320, 0.004778249232223841), (369, 0.004658477890877434), (2809, 0.004593412688741648), (1276, 0.004540117564132574), (4261, 0.00451601808021878), (0, 0.004374333531035219), (1442, 0.004320357852252255), (4719, 0.004225989687398567), (3240, 0.00421704483257656), (3932, 0.004024996218549749), (3226, 0.0040136499719505584), (788, 0.0040068094602509945), (3325, 0.0038984222902347094), (4151, 0.003748922191314383), (2678, 0.0035535721854386085), (3552, 0.003548748763540625), (611, 0.003505647935123707), (2299, 0.0034892039272705175), (4571, 0.0034671984198121823), (3178, 0.0034498092413925976), (3512, 0.003345859346366169), (2757, 0.00333966646059138), (3667, 0.0033364106395871343), (3276, 0.0032937695702385055), (4555, 0.0032885436297924934), (3925, 0.0032478026088779027), (4607, 0.0031684636820008324), (2529, 0.0031673685512489413), (2379, 0.003148991527691896), (2490, 0.003144902561261477), (2937, 0.0031332170183885856), (3523, 0.003127903448753011), (4705, 0.003119649884441376), (2764, 0.0031086308667097433), (3672, 0.003100530946632024), (2858, 0.0030927312405146256), (2137, 0.003092558597911106), (3139, 0.0030892571449625795), (4082, 0.003082414079680828), (2722, 0.0030631108182918618), (2189, 0.0030629069508542567), (4202, 0.0030510156696119052), (3040, 0.003047159867441389), (2989, 0.0030403840513143626), (2251, 0.003035925205943155), (3166, 0.0030266494623791265), (2349, 0.0030211310476973823), (1145, 0.003017246445314566), (2407, 0.00301615501966907), (3990, 0.003011745375284322), (2889, 0.003003705626382801), (2537, 0.0029932355570196985), (4704, 0.002980837003525097), (3052, 0.002980342676440696), (735, 0.0029794820743514034), (3055, 0.0029691038882497306), (2404, 0.002967786150501377), (2775, 0.0029621574253571835), (4017, 0.0029609592809923314), (2870, 0.0029579234560433575), (3561, 0.002957881383098047), (3042, 0.0029564306231685), (3030, 0.0029559115070799972), (627, 0.002954567033619116), (2883, 0.002952728473786399), (3635, 0.0029500397648202746), (2923, 0.0029399128943862866), (3291, 0.002932188542011684), (2731, 0.002928876599042512), (4749, 0.0029282800197174517), (4222, 0.0029263332237944905), (4529, 0.0029255746193419026), (2484, 0.002917441549859911), (2310, 0.0029173495370654035), (4221, 0.002917290738220262), (3479, 0.002913965404907898), (4484, 0.002909182268920462), (4611, 0.002908378849492194), (2694, 0.0029065034543553003), (3939, 0.0029061323434844675), (2673, 0.0029026119965697866), (2861, 0.0028921535922644534), (2655, 0.0028915968949192322), (4172, 0.0028845981053102383), (2559, 0.0028683455558892097), (3878, 0.0028677805917155233), (4418, 0.002865705158467028), (2832, 0.002863507649560914), (2075, 0.002859033882012464), (4696, 0.0028585584549075827), (4444, 0.002858259186977839), (2628, 0.002856381184723407), (3219, 0.002851502410390511), (2448, 0.0028495893494512124), (2392, 0.0028489540661901154), (3292, 0.0028483818465599078), (3762, 0.0028426524115840006), (2199, 0.0028403110561294256), (3892, 0.0028364831472677513), (3282, 0.002829699037871186), (4423, 0.0028294133880660665), (4019, 0.0028285402394800188), (2425, 0.002827910991728342), (2643, 0.0028219487040425286), (4546, 0.002820421903818186), (2255, 0.002815106707607333), (2257, 0.002809246727495298), (3322, 0.002808221417398973), (889, 0.0028081224392637123), (3262, 0.00280755672773811), (2350, 0.0028038193206934474), (2901, 0.002801450851268476), (4230, 0.002795771005305999), (4142, 0.002789655176210443), (2838, 0.002788506503855988), (2286, 0.002788465725700991), (1208, 0.0027818136989728654), (4400, 0.0027815198407673382), (2530, 0.0027732646594667747), (4102, 0.0027704347800077663), (3848, 0.0027682402727562385), (3015, 0.00276497374317588), (4606, 0.002762367097310077), (4710, 0.002758059605071597), (3239, 0.0027509570353714033), (3128, 0.002750502110455683), (2423, 0.002749820884296626), (3354, 0.0027471263539055515), (3140, 0.0027460001033165495), (526, 0.0027437897747098145), (1711, 0.002736238394856018), (1121, 0.0027336645533175166), (3249, 0.002729016107613552), (3687, 0.0027253012201575244), (4692, 0.0027236910940132224), (4521, 0.002723502105128623), (4544, 0.0027219697359812897), (3363, 0.0027212630298426273), (3638, 0.00272041984876171), (4612, 0.00271634520134816), (3616, 0.002713366008225014), (3357, 0.002712208810617053), (2834, 0.002707017716627609), (3537, 0.002706399922056713), (2557, 0.002706139000651244), (3159, 0.0027005143751214124), (4306, 0.0026976153637730585), (3577, 0.0026965525451043133), (4107, 0.0026942709421348353), (3922, 0.002693583493777501), (2857, 0.0026933941984052306), (3613, 0.0026913139741910693), (4660, 0.002690633584444495), (670, 0.0026890290455801914), (3521, 0.002688082400111614), (3004, 0.0026875165831734223), (2266, 0.002686700682487312), (4572, 0.002677915233363274), (3074, 0.0026770396687913153), (4298, 0.0026768708395889075), (4209, 0.0026737429945741012), (4443, 0.002672960089797349), (326, 0.002672151988470965), (2797, 0.002670706279307552), (2957, 0.002669415184647811), (2568, 0.0026686210142576696), (3874, 0.002668192334810301), (4723, 0.002667822242546445), (2488, 0.002666605973441686), (3031, 0.002665391092363755), (3832, 0.0026637276655983445), (2188, 0.0026629169442851683), (3123, 0.002661466381392608), (402, 0.002659951939412283), (3302, 0.002658527861241103), (2879, 0.00265729923254013), (3620, 0.002656967505785124), (4147, 0.0026568299742095766), (3544, 0.0026560152678232222), (2459, 0.002655812507842058), (1655, 0.0026541890076688685), (2966, 0.002652511741971108), (3358, 0.0026489929059426774), (3020, 0.0026488888696579787), (2415, 0.0026476663316161273), (1593, 0.002644274874110653), (4062, 0.0026428151361534247), (3206, 0.002639960414161754), (2778, 0.0026383811276572008), (3779, 0.002634800349126382), (2454, 0.002634791284213274), (2993, 0.0026318000808396463), (3901, 0.0026314554265355985), (3257, 0.00262916407955976), (777, 0.002622482847163566), (3413, 0.002620805536007499), (1168, 0.0026201716616094544), (2895, 0.0026117526119029733), (489, 0.0026101809943513718), (2434, 0.002608503535825121), (3911, 0.002607270358319662), (4458, 0.002602336739371399), (4701, 0.002600548021772282), (949, 0.0025953661313321695), (4490, 0.002587648751591902), (1049, 0.0025873140758938696), (4280, 0.0025859295757254467), (2772, 0.0025847072680716017), (2986, 0.0025809295115387355), (4023, 0.0025767881961807813), (4717, 0.00257643245662599), (2769, 0.002575438437318793), (2738, 0.0025749532053475086), (431, 0.0025732495492337254), (4632, 0.0025724187874753553), (3763, 0.00257151262564878), (3935, 0.0025711234495819258), (2613, 0.0025705418286266673), (4594, 0.0025700699946538184), (4416, 0.002568390955047118), (2570, 0.0025681095815078755), (3081, 0.002567879501136984), (2378, 0.0025678479873287316), (3621, 0.002567540556254525), (3745, 0.0025667416533960642), (4584, 0.0025652220344672006), (1792, 0.0025641930979064175), (2089, 0.0025639100964529584), (4694, 0.0025637503643390624), (1187, 0.002563605002090643), (4145, 0.0025631038242604804), (1968, 0.0025624339140113556), (2707, 0.0025608852983989845), (518, 0.002557986619715003), (1885, 0.002556611191364672), (4412, 0.0025559943560547124), (1748, 0.002554636823766981), (4030, 0.0025539168914603893), (4589, 0.002553904162468769), (1169, 0.0025536920204749544), (2846, 0.002553129506237037), (3094, 0.0025530834524445257), (4032, 0.002546050168707631), (4075, 0.002546002570529136), (3951, 0.0025459811182324413), (3540, 0.0025449223015052745), (1547, 0.002541320291062194), (3359, 0.0025393104185457995), (4126, 0.0025390288042479022), (3884, 0.00253868141405796), (2320, 0.002536588398802964), (2696, 0.002536453882103749), (3072, 0.002536031275263712), (3307, 0.0025345727442246738), (2427, 0.0025345093519146926), (4002, 0.002534003487891964), (1947, 0.002532975010281036), (4163, 0.0025297378757932836), (3729, 0.0025287073863372125), (3425, 0.0025282361080761068), (1398, 0.0025258844078925266), (4713, 0.0025258792146733967), (4398, 0.002521315147635362), (3230, 0.0025190578296863265), (2987, 0.002518998106644325), (3364, 0.0025188870306928593), (2884, 0.002518827253970383), (448, 0.002518530626674347), (3419, 0.0025180614167812795), (3337, 0.0025176545789031683), (3396, 0.0025167885140869994), (3506, 0.0025165618812670824), (3866, 0.0025151377123777815), (823, 0.002515049523729022), (4650, 0.002514584451325009), (2872, 0.0025116531500855156), (3355, 0.002510282661950834), (925, 0.0025088985336257697), (508, 0.0025088916487728554), (4507, 0.002506236103038449), (3165, 0.002506158214731198), (4267, 0.0025054904409962473), (2478, 0.0025048358446294215), (2560, 0.0025042795324377054), (2187, 0.002504225065685819), (614, 0.002503490919797758), (3952, 0.002502247576744784), (847, 0.0025021347202666866), (4516, 0.0025020639008951524), (1656, 0.00250160684923068), (721, 0.002500073193137507), (3903, 0.002499265203260306), (3639, 0.0024971987846052657), (2796, 0.002497059091150464), (3423, 0.002496661894835359), (3651, 0.0024960857899599125), (985, 0.002496010740388008), (2702, 0.0024938356381132534), (1924, 0.002492774031976998), (4295, 0.0024912308717891414), (4117, 0.0024907646411398074), (1497, 0.0024902140743923084), (3661, 0.0024885258567935776), (4753, 0.002488048627486338), (4243, 0.002484000707462607), (3772, 0.00248307392135118), (3296, 0.0024816992936054247), (2223, 0.0024809155368934674), (2051, 0.002479067681543719), (3867, 0.002478726989029793), (2302, 0.002478333105302187), (2437, 0.0024766405828715566), (1909, 0.0024766137815590596), (1843, 0.0024748125677192907), (107, 0.002474710342919952), (2893, 0.0024743985685696337), (3186, 0.002474057674742044), (3960, 0.0024736747427115124), (998, 0.0024735500864355832), (999, 0.0024715256580867587), (2881, 0.002471220989106547), (2411, 0.0024707249462806355), (3148, 0.002470457767459001), (4731, 0.0024704486296096874), (2623, 0.0024701505638376805), (478, 0.0024694311782303105), (4092, 0.0024692503555880114), (2400, 0.002467922532830436), (2914, 0.002467661722144317), (3680, 0.0024673806408749676), (4494, 0.002464987497740061), (1383, 0.0024630687109080244), (235, 0.0024628020379740307), (3013, 0.002461436518694107), (737, 0.0024610287818222195), (576, 0.002459700829064566), (1349, 0.002458521300962116), (3274, 0.002458475871359228), (3587, 0.0024579228410099778), (419, 0.002457471314604703), (2740, 0.002456756209330327), (4368, 0.0024556959358419312), (4333, 0.0024552584780057358), (1023, 0.0024526829131941695), (1489, 0.0024518009086870467), (3560, 0.0024516440644523595), (813, 0.0024506614671073144), (3962, 0.002450574375897409), (3822, 0.0024499672667682593), (2974, 0.0024497636934404264), (922, 0.0024480284651543544), (4718, 0.0024471482335253376), (3196, 0.002446753072273997), (4160, 0.0024463991453854824), (2579, 0.0024457676956756214), (596, 0.0024447898107218743), (2916, 0.002444047624437772), (1862, 0.002443716136226979), (1499, 0.002442551470771402), (3414, 0.002442482621102788), (3032, 0.0024423335546075588), (4535, 0.0024422118299725153), (436, 0.002441248737675218), (4396, 0.002441203996961169), (3146, 0.0024406394364131583), (2134, 0.0024406218079158055), (308, 0.0024399477738003476), (2436, 0.002438714127912325), (4401, 0.0024378457108149747), (3737, 0.002436437629768539), (3593, 0.0024357337823685253), (4051, 0.0024343103211660346), (3804, 0.0024340095966243315), (2840, 0.002433586844723869), (3248, 0.002433457217297645), (1474, 0.0024333572893656687), (729, 0.002433141295835938), (444, 0.0024311889871689463), (3273, 0.002429188275893102), (2209, 0.0024291717132025703), (2782, 0.0024288901393827453), (3157, 0.0024286471284698245), (2830, 0.0024283981819306103), (4397, 0.0024283717955755693), (41, 0.0024279218398710113), (4593, 0.0024262809656696643), (1498, 0.002425804034720658), (4706, 0.0024241447334314567), (3003, 0.0024238892218829923), (4605, 0.002423692640365672), (4259, 0.002423664135441719), (4113, 0.002423532250414395), (2854, 0.002423286459018728), (2505, 0.0024232271551784717), (2108, 0.0024218193983711034), (1890, 0.002421135396518491), (1109, 0.002419483995496781), (3062, 0.0024190641717193174), (4138, 0.002418556574447643), (2535, 0.0024183807527772753), (1658, 0.0024157338626764257), (2592, 0.0024155800562144936), (3967, 0.002412077324809591), (3026, 0.002410718710705456), (4042, 0.002409946729049521), (857, 0.002409507826701809), (62, 0.0024090139669009085), (2176, 0.0024087168968819467), (2428, 0.0024079895073223835), (715, 0.002407784993926341), (1580, 0.0024077197343169636), (2890, 0.0024077034252879548), (2159, 0.0024060531813327644), (2049, 0.0024055010076590665), (3417, 0.0024031849419678428), (371, 0.0024010162978248544), (587, 0.002399689873984417), (3116, 0.002397721400463326), (2375, 0.0023971057730642112), (476, 0.0023951616981242956), (3677, 0.002395108759160574), (4602, 0.0023939767284815575), (4446, 0.002393584726332686), (4308, 0.0023928380649686147), (1733, 0.002392440217971498), (4046, 0.0023920278642711335), (2390, 0.002391987166608167), (3183, 0.0023893586606047023), (4601, 0.002388262100438493), (253, 0.0023855938550008796), (3714, 0.0023849642540122004), (4130, 0.0023848782550755505), (318, 0.0023845266022502675), (4140, 0.0023840558067226374), (3497, 0.0023840304689036135), (1866, 0.002382541986468243), (4101, 0.00238150687561302), (3813, 0.002380753190358108), (4732, 0.002379888284016175), (4133, 0.0023791944371206433), (3749, 0.0023790715142422173), (1905, 0.002378849534529656), (3044, 0.002378444337784114), (2293, 0.0023783921980268475), (4522, 0.002377854929180894), (350, 0.0023754231692989253), (3064, 0.0023742443601377735), (2915, 0.0023728289541222777), (2748, 0.0023727081781282438), (3258, 0.0023726586342276246), (887, 0.002372527941498753), (4087, 0.0023719600935668576), (2882, 0.002371062860236374), (2507, 0.002370270362859933), (8, 0.0023696532347936756), (4528, 0.0023696198670146978), (2595, 0.0023666281922825765), (1897, 0.0023657866593515074), (2888, 0.002363585387768453), (3771, 0.0023633450139492074), (2705, 0.0023625937223934815), (4545, 0.0023612312674791314), (1959, 0.002360277691007037), (3269, 0.002360258035717425), (952, 0.0023586829369681398), (794, 0.0023580501585335405), (4734, 0.0023580354040217723), (3704, 0.0023579516531180528), (3449, 0.0023578260341743018), (3271, 0.0023576154525293672), (3893, 0.002357179462004395), (4024, 0.0023563044936591843), (2116, 0.0023549613413775417), (3757, 0.0023537185315624124), (728, 0.0023533966517596955), (2494, 0.0023524675439574594), (2190, 0.0023519595911604863), (4579, 0.0023518900340046174), (1518, 0.002349983544542007), (3692, 0.0023493383974076093), (1907, 0.0023486712246889607), (4132, 0.002348645197859454), (430, 0.0023485130854765048), (4161, 0.0023473671022866483), (4657, 0.002346713119454374), (2475, 0.002346514598018392), (3112, 0.002346294834151249), (1995, 0.0023462323870154286), (4540, 0.0023445245646649716), (4245, 0.00234433192438534), (3184, 0.002343588869119523), (1708, 0.0023435430113066093), (1798, 0.0023424223729738626), (991, 0.0023421833808235683), (3496, 0.0023421349969818504), (1637, 0.002340513737801212), (4269, 0.002340454409344271), (2723, 0.0023401129161257223), (4371, 0.0023398415867347993), (3781, 0.0023378797050778743), (4495, 0.0023371328643832425), (2786, 0.002336644830434875), (4574, 0.002336280759354806), (1537, 0.002336083351075347), (872, 0.0023359232382636425), (4111, 0.0023358398682342685), (1683, 0.002334904955727384), (1409, 0.0023343197490565924), (2260, 0.0023341459722240956), (3904, 0.002333845892837894), (2725, 0.0023335410541912957), (4431, 0.0023334838083717514), (3728, 0.0023332618222062338), (3873, 0.0023331405274287322), (4680, 0.0023329492454877494), (4038, 0.0023327082359319846), (1712, 0.0023323042606238267), (2940, 0.0023321759483966283), (227, 0.0023319021832630743), (2964, 0.002331645653155065), (4005, 0.0023315000224744973), (2712, 0.0023313245426966034), (3007, 0.002331019167811064), (2391, 0.002330459726262333), (12, 0.00233008362041284), (2393, 0.0023285465927375985), (2609, 0.002327335415767008), (826, 0.002327050756929965), (2151, 0.0023263875967275333), (3218, 0.002326201100055113), (2664, 0.002326200567949103), (4357, 0.0023258916963958243), (2970, 0.002325742876178654), (1619, 0.0023252943871414264), (4355, 0.002324532014609477), (3987, 0.002323950745120565), (2105, 0.002323474402730148), (4175, 0.0023233923952258764), (3434, 0.0023213238860576506), (3678, 0.002321268369257204), (680, 0.0023204866195591614), (246, 0.002320467820853536), (3590, 0.0023177963540253633), (623, 0.0023174240727544893), (493, 0.0023166856451938066), (612, 0.0023166539123244067), (208, 0.0023165156022121355), (1951, 0.0023150174589741607), (1896, 0.0023147527166365728), (2565, 0.0023146480130559017), (2361, 0.002314415075064832), (4489, 0.002314181822860402), (3314, 0.002314141115531021), (4471, 0.002313832837171019), (2418, 0.00231287262606918), (3618, 0.0023128582834473074), (2792, 0.0023116782918520796), (3326, 0.002310994082124757), (2953, 0.0023095650586681163), (2714, 0.0023092554803258534), (4575, 0.002308674487002346), (1685, 0.002308556752074233), (2288, 0.0023079527610002032), (2755, 0.002307241473614445), (193, 0.0023069755512819846), (4052, 0.002306079762856499), (2610, 0.0023059469601786507), (4318, 0.00230566079704874), (1918, 0.002304768931156771), (3264, 0.0023039527954625484), (1822, 0.0023033327808394187), (3037, 0.002303190029611415), (1225, 0.0023018523443610697), (1893, 0.0023013827455921607), (4420, 0.002300780925647451), (4566, 0.0023001561808361085), (2878, 0.0023000853397711295), (1400, 0.002300036920390469), (1916, 0.0022993479389914824), (2394, 0.0022991475991795147), (3388, 0.0022989445642669012), (783, 0.0022985242580722365), (2385, 0.002298161573050745), (1007, 0.0022970705156085238), (1670, 0.002296544088174416), (3187, 0.0022961495480492), (178, 0.002295347277996211), (3654, 0.002294773056845457), (1570, 0.00229471655815823), (1902, 0.0022934756873485536), (2419, 0.0022923814197074828), (262, 0.0022922250365797012), (3372, 0.0022915839869261396), (4757, 0.0022913862997224403), (3242, 0.0022908382332706935), (2633, 0.002290710966496468), (1188, 0.002290198737637655), (716, 0.0022880930331129596), (4624, 0.002288046158972439), (1192, 0.0022861059704580005), (2088, 0.002286063159165035), (564, 0.002285937607384478), (4363, 0.0022852946344650176), (255, 0.0022848834664411506), (1439, 0.0022846079572551156), (4430, 0.0022845041111417604), (4497, 0.002284417626271617), (3493, 0.002283775266325096), (2083, 0.0022834628521780642), (2640, 0.0022830172883911036), (3150, 0.0022829284605671678), (4354, 0.0022825721985176967), (2926, 0.002281935602055499), (3770, 0.002281724707953718), (1006, 0.0022796004338978973), (660, 0.0022792409769369255), (4448, 0.0022787075095261323), (3599, 0.0022782441752190593), (4083, 0.0022780009029791464), (1229, 0.0022779643131939226), (3514, 0.002277901550785907), (3351, 0.002277281717200416), (2561, 0.0022763982870976683), (3241, 0.002276357636438717), (4629, 0.0022762095934321064), (3845, 0.002275899915336514), (890, 0.0022756506844732174), (2601, 0.0022755702618465173), (717, 0.0022754292586325163), (4419, 0.0022747051765042645), (1475, 0.002274663198757778), (2531, 0.0022740039159232974), (23, 0.0022737977197068208), (2545, 0.002273273380371812), (2370, 0.0022732372237287673), (4136, 0.0022730307375295857), (3224, 0.0022716986685447087), (1851, 0.002271614308487934), (2911, 0.0022708803434286487), (3902, 0.002270283447842333), (884, 0.0022701346430102996), (4361, 0.002270112264381866), (2405, 0.0022693831462942673), (3353, 0.0022684512052774143), (1048, 0.0022674243706196262), (588, 0.0022673422807556287), (2319, 0.002266724743598551), (3778, 0.002266454791984238), (1364, 0.0022656634402018015), (3666, 0.0022655652736983368), (4756, 0.0022648018973847445), (3536, 0.0022639934129160097), (3349, 0.00226375129275122), (4025, 0.0022636729731949617), (987, 0.0022631691119791944), (1124, 0.0022621502961605055), (4079, 0.002261924898912564), (2148, 0.002261597721351963), (2744, 0.0022613783226106375), (2072, 0.002260977253416421), (774, 0.0022608395541902832), (3920, 0.002260090669433794), (637, 0.002259524509492123), (11, 0.0022595159578336086), (3517, 0.0022592273723778334), (1703, 0.0022575919272505877), (3689, 0.0022569123993854594), (1765, 0.0022567311434625883), (4340, 0.002256712443835034), (3527, 0.0022554863468902875), (4334, 0.0022551798141372515), (980, 0.002255121400381191), (4287, 0.002254245911068049), (3198, 0.002254059290130254), (1382, 0.0022521942767134632), (4249, 0.0022513367570806044), (3623, 0.0022508847193612666), (2863, 0.0022497776112424795), (4470, 0.0022495871741574328), (3636, 0.002248607854464413), (1717, 0.0022471873591045043), (1516, 0.002247127028782027), (3153, 0.0022468575918842947), (472, 0.0022463435238944964), (2048, 0.002245802668804536), (3290, 0.0022454804256473197), (3233, 0.0022447205873600317), (4643, 0.0022444423493147244), (1860, 0.0022439684847875563), (1768, 0.0022433706664978068), (1946, 0.002242169573136524), (176, 0.002242063445544069), (2466, 0.0022408500859277137), (2230, 0.002240850056145719), (865, 0.0022404425520910864), (1294, 0.0022399442498444045), (509, 0.0022376522732576506), (4563, 0.002237450898184678), (4098, 0.0022366149649246927), (1254, 0.0022362664518113247), (3809, 0.0022355782854894027), (3445, 0.002234616027600267), (1355, 0.0022344475800795665), (2977, 0.002234131072669009), (3526, 0.002233005949917954), (4273, 0.002232840140012844), (3542, 0.0022324797263218615), (3571, 0.0022311910272779863), (2386, 0.002230806945572663), (1174, 0.002230627719173318), (1931, 0.0022293553840819816), (1077, 0.002229128168021012), (933, 0.0022283936417704427), (1176, 0.00222728480091416), (1182, 0.002226199731452142), (406, 0.002226189370146207), (593, 0.0022255388411363043), (3113, 0.0022254962951307844), (1688, 0.0022249772891679725), (3606, 0.002224740165049439), (3653, 0.0022242258828463752), (4283, 0.002224177103858982), (2073, 0.0022237895698258878), (750, 0.0022229362196426543), (2292, 0.002222319742427013), (1122, 0.0022214406808584615), (850, 0.002221322818595806), (3303, 0.0022204539798577707), (2155, 0.002220111526529327), (2397, 0.002219129798014228), (3792, 0.0022189550151456836), (832, 0.0022185900538257116), (1087, 0.0022183032509018844), (3501, 0.002217954187495813), (2045, 0.0022174891317951907), (3643, 0.0022166554372205103), (353, 0.0022160647939171094), (2798, 0.0022157218527436864), (2313, 0.0022152898890910352), (4049, 0.002214462690697225), (1413, 0.0022144353242067667), (1204, 0.0022138231270588185), (2430, 0.002213776270232978), (4135, 0.0022129178950732616), (2091, 0.002212338787894796), (4255, 0.002211910094808994), (2277, 0.002211834726407238), (2887, 0.0022109043185222312), (1476, 0.0022106278781365224), (2061, 0.002210007477502567), (2647, 0.002209960012365447), (4014, 0.0022077152640165394), (1472, 0.0022073368806291445), (1872, 0.0022068878759564474), (3739, 0.002205957249944922), (2652, 0.002205893524150604), (1410, 0.002205287540028049), (4391, 0.002205093125799081), (4501, 0.0022044668805582964), (1722, 0.0022034031474347723), (1510, 0.0022027770739720437), (2122, 0.0022027526079625354), (2745, 0.002202393574145119), (3551, 0.0022022249147402714), (4137, 0.0022019969690494842), (1574, 0.0022018962274878225), (1706, 0.002201841809142712), (2193, 0.0022018175062991827), (2396, 0.0022018000548229034), (4266, 0.0022017576495940855), (2554, 0.0022011873281423517), (2144, 0.0022009313065043433), (848, 0.002200520472562893), (3227, 0.0022000511663034026), (628, 0.0021999100352506538), (2109, 0.0021994852651080828), (897, 0.002198563168570639), (343, 0.0021985157917901853), (2192, 0.002197360525728215), (2606, 0.002197038375758874), (696, 0.002196273555523936), (2169, 0.002196073268786368), (3436, 0.002195997773054857), (2783, 0.0021958709275522303), (104, 0.0021957438363701086), (2492, 0.0021956251725054774), (4686, 0.0021952714842455165), (504, 0.002195155403854505), (2067, 0.0021950875225662902), (3541, 0.002194874410993984), (2533, 0.002194567017268561), (1876, 0.002194503634980664), (4081, 0.002194045693604098), (4604, 0.002193754813499382), (2826, 0.002193619962275385), (3125, 0.0021927465202342634), (378, 0.0021913138538703996), (1191, 0.0021905742870986463), (3491, 0.0021905350684497445), (3564, 0.0021904344464229106), (1223, 0.002190408442188227), (1131, 0.0021892507450611137), (3341, 0.0021880791848196196), (4715, 0.002187598092256455), (1488, 0.0021874549410474554), (2344, 0.0021865043047343126), (4640, 0.0021860042279667545), (2831, 0.0021844757975339408), (1170, 0.0021844204560492303), (2354, 0.0021841443163177847), (114, 0.002184044174983474), (4330, 0.0021831857301590797), (1304, 0.0021826939339712657), (761, 0.0021822929690190475), (3478, 0.002181973997269144), (2495, 0.0021817760228164665), (226, 0.0021816697860929), (1179, 0.0021816663196463043), (1378, 0.0021801157697732398), (3492, 0.0021792840303472573), (66, 0.0021777127049979928), (2387, 0.002177223999362923), (3665, 0.0021767762672297254), (4320, 0.0021764276369386315), (2195, 0.0021762156137820937), (3346, 0.0021761686207950816), (3174, 0.0021761436338513535), (4016, 0.0021759615970965845), (2900, 0.0021750302611629304), (3330, 0.002174538083747438), (2943, 0.00217412686910703), (1112, 0.0021732444445758626), (3216, 0.002171325590675575), (4511, 0.0021702106117816333), (689, 0.002170001342886021), (1298, 0.0021698805872954205), (2999, 0.00216959613896439), (4409, 0.002169061095377254), (3299, 0.0021681802226424583), (2289, 0.0021668592481668206), (1102, 0.00216556058844687), (4394, 0.002165195769047719), (1811, 0.002164422084891431), (3441, 0.002164047514973136), (3727, 0.0021634026599729626), (1891, 0.0021630366588579223), (400, 0.002161935279352757), (3624, 0.0021617498184445727), (1072, 0.0021611383056951605), (4520, 0.0021600088980428538), (348, 0.0021599646500477894), (2060, 0.002159812767068846), (3565, 0.0021594344474968915), (3596, 0.0021594239672869425), (247, 0.002157421826453311), (466, 0.0021571944186727443), (464, 0.0021567694434998534), (1411, 0.0021561515699604623), (2569, 0.0021560460234422625), (3381, 0.0021559145538603995), (1500, 0.0021558971010270885), (4228, 0.0021556681580554536), (3067, 0.002155548717849582), (174, 0.002155239050452211), (3237, 0.0021551472985662586), (1598, 0.0021539191377743364), (374, 0.00215278781640146), (1666, 0.002151728789645102), (880, 0.0021506363326330405), (2416, 0.0021504957344185313), (867, 0.0021504289645900014), (1257, 0.002150131202861483), (1313, 0.002150126906801694), (4668, 0.0021499720407837358), (973, 0.002149707758038814), (4487, 0.0021497008475087004), (3173, 0.0021488349999678065), (2173, 0.0021486149192228177), (3093, 0.0021473632600540306), (2946, 0.002147338075804061), (3195, 0.0021472646609369166), (3906, 0.002146786645694541), (3647, 0.0021467768323412953), (2687, 0.002146712486098201), (4349, 0.002145554958684807), (1110, 0.002144735514055842), (169, 0.0021437721045291687), (727, 0.002143742924680689), (215, 0.002143623051966986), (4685, 0.0021422058402284375), (4284, 0.0021409176489253865), (1319, 0.002140728530224396), (119, 0.002140709294565251), (1807, 0.002140244656987047), (3046, 0.0021400685115415285), (2980, 0.002139955672080048), (3557, 0.002139696654868732), (3827, 0.0021393695989419537), (3379, 0.0021392204883023936), (1286, 0.0021390924582324615), (2111, 0.002137328576252532), (98, 0.0021365673308461836), (4362, 0.0021364836127694092), (2945, 0.002135870530383245), (26, 0.0021349417832379094), (2087, 0.0021341191722537415), (4530, 0.002133950438715317), (2802, 0.002133578954279227), (4687, 0.0021335227428669573), (2102, 0.002133114822468707), (3220, 0.0021325148836931125), (3447, 0.0021321315562658687), (4641, 0.0021315213518994136), (3069, 0.002130801912288755), (2632, 0.002130680571179789), (1617, 0.00213017185587035), (3719, 0.0021297238803049544), (3706, 0.002129447137538025), (4743, 0.002128990970167373), (446, 0.002128527382340559), (3412, 0.0021280419917268233), (2909, 0.0021280366821763465), (1653, 0.0021277889508307894), (3402, 0.0021262832816709718), (2698, 0.002125899661047469), (1350, 0.002125428165771238), (1408, 0.0021250837467010866), (2103, 0.002124641817794665), (1422, 0.002124482999831688), (1284, 0.002124040708800465), (693, 0.0021236942283045547), (4395, 0.00212271643203706), (358, 0.002122118635420533), (2008, 0.0021219524343647667), (2401, 0.002120582242565319), (755, 0.0021204982773485926), (3765, 0.002119528277755485), (4693, 0.0021195025121713827), (4576, 0.0021193046360644843), (3075, 0.002119138405810941), (1813, 0.002118357535456254), (2422, 0.0021180411205708413), (522, 0.0021180372515933314), (292, 0.0021169799467284692), (329, 0.002116679318511402), (4183, 0.0021162984873917537), (349, 0.002116233900920805), (2461, 0.0021156043475866674), (4381, 0.0021153335769586224), (4550, 0.0021152873144727876), (4573, 0.002115235601240958), (1245, 0.0021150600485843117), (1044, 0.002113719607849676), (4129, 0.002111992957101005), (3348, 0.0021116212690695494), (817, 0.0021115292449833947), (3890, 0.0021109665380961385), (488, 0.002110512547918583), (4382, 0.00210988698279205), (4472, 0.0021092053156093167), (3028, 0.002108540068806992), (167, 0.0021079102676259654), (3298, 0.0021077286505297725), (4336, 0.0021075942939920247), (1247, 0.0021074838577943233), (2612, 0.002107320301999377), (2268, 0.0021073005320696846), (3641, 0.002107299836698903), (4139, 0.0021070314018731607), (651, 0.002106584746616735), (4504, 0.0021059277830906354), (1969, 0.0021057114482568224), (2653, 0.0021055706500761875), (1060, 0.002105230184241161), (2467, 0.0021051673394932844), (2027, 0.0021047455213968097), (3696, 0.002104239978128778), (1421, 0.0021034925565447805), (2642, 0.0021022330520066206), (2716, 0.0021017167953022017), (923, 0.002101284698788714), (4461, 0.0021005558620777196), (3917, 0.0020989445050278045), (1864, 0.0020986595844068455), (3900, 0.0020981634958187486), (3487, 0.0020978913100462584), (3826, 0.00209768994507277), (1117, 0.0020961190398928378), (4729, 0.002095896519700679), (620, 0.0020957044815440675), (782, 0.0020937775343540157), (1020, 0.002093356841213477), (2117, 0.0020929736968098335), (3503, 0.0020922933635896105), (3246, 0.002091775400000573), (1033, 0.0020914732568575118), (1446, 0.0020909782265085396), (4670, 0.0020901140666602534), (2367, 0.0020886400207682466), (852, 0.002087218237581258), (731, 0.0020872119893726015), (1027, 0.0020864692132420365), (2143, 0.002086166616851116), (2141, 0.00208555987090715), (4567, 0.0020853957885453183), (1416, 0.002085118218080877), (4536, 0.0020846377453410778), (2309, 0.002084335588144738), (4614, 0.002084168171535136), (3214, 0.0020831053090295715), (2779, 0.0020829435613826013), (798, 0.0020822541027870935), (1877, 0.0020821262151706297), (4152, 0.0020817750822262797), (1744, 0.00208155507334293), (3122, 0.002081532383946345), (356, 0.002081284313034047), (1929, 0.0020801201041085265), (2540, 0.002079585117034795), (1001, 0.002079584070640129), (1002, 0.002078970502695759), (3390, 0.002078954985306896), (3151, 0.0020784801223569364), (3733, 0.0020781198970435924), (2473, 0.0020780389145978366), (29, 0.002077860357359088), (3035, 0.0020772172339598043), (3784, 0.0020768710714314884), (4085, 0.0020767424418976547), (1273, 0.0020766193212690184), (164, 0.002076231201031179), (3170, 0.0020757932440238205), (984, 0.002075501612262322), (4213, 0.002074815722739039), (221, 0.0020745819118045583), (3036, 0.002074489678777031), (2706, 0.0020743907461544366), (2765, 0.002074048142313661), (2242, 0.002073954917973591), (1123, 0.002073722591521458), (2068, 0.0020733809813433227), (505, 0.0020728282991091893), (644, 0.002072777088987871), (4206, 0.002072618441234206), (4428, 0.0020718922822525834), (1878, 0.0020717605218126176), (2892, 0.0020712167425760448), (437, 0.0020703887260130624), (767, 0.0020698237367068957), (4345, 0.00206969444743696), (962, 0.0020689781535362935), (2859, 0.0020686624093300505), (3799, 0.0020683325537808705), (2995, 0.0020679620457653815), (373, 0.0020678990698509195), (911, 0.002067161646448219), (2572, 0.002066919503676913), (2679, 0.0020647271650589844), (203, 0.0020645690762923306), (698, 0.0020644155512068263), (2651, 0.0020644003480324237), (2133, 0.0020638259641875332), (3646, 0.0020631948393640067), (1742, 0.0020631180986504308), (1404, 0.0020625414987426737), (2997, 0.002062363945346858), (1759, 0.0020616539057170054), (2800, 0.002061483659143466), (818, 0.002061320199244019), (1032, 0.0020608842039315334), (197, 0.002060237191350153), (966, 0.0020601644276903993), (3014, 0.002059839620352585), (3194, 0.0020594955337585818), (116, 0.002059350858032851), (3954, 0.0020592976158332345), (3734, 0.0020579764917634693), (1036, 0.0020579204872301134), (2303, 0.00205788975596924), (387, 0.002057853867637829), (2972, 0.0020567194545617873), (2812, 0.0020563335239352576), (1663, 0.0020555735434475086), (4257, 0.002055477181009028), (2348, 0.0020552363137271456), (2166, 0.00205494050347016), (3615, 0.0020547384918473445), (2525, 0.0020546373803435264), (31, 0.00205207873068051), (3300, 0.002050499351512108), (4011, 0.002049199496187356), (507, 0.0020488077586621827), (4254, 0.002048766986309464), (1203, 0.002048684739919216), (1693, 0.0020486830114069964), (1041, 0.0020481592255553616), (154, 0.0020481252913717336), (1682, 0.0020475934637622646), (3057, 0.0020469105912482937), (1372, 0.002046819541855718), (903, 0.0020453079102601356), (1793, 0.002045083943080776), (140, 0.002043913408876828), (941, 0.002043630748081374), (279, 0.0020426692852153457), (1206, 0.002039735290006804), (963, 0.00203960902693563), (2099, 0.002039440075212191), (1884, 0.002039418299491713), (2634, 0.00203879502876307), (2149, 0.00203871606030638), (3399, 0.002038534544161768), (471, 0.002037643966112769), (4603, 0.0020353391670943216), (3452, 0.0020346414596411904), (229, 0.002034235066315183), (372, 0.002033037239900979), (598, 0.00203298940661629), (944, 0.0020328968498783723), (895, 0.002032850976785178), (1819, 0.002032808546907439), (3725, 0.0020316699849968673), (921, 0.002030722953635102), (410, 0.0020299762171410414), (1433, 0.0020299741905784644), (2201, 0.0020297681535856797), (4591, 0.0020293495458658327), (4356, 0.00202925036218025), (838, 0.0020289251865356164), (1558, 0.002028312133664149), (2446, 0.0020266030490446417), (2528, 0.002026292476251951), (3342, 0.0020261392675297793), (868, 0.002025873235842398), (2907, 0.0020236368458543008), (1641, 0.002023384741131094), (1650, 0.0020232992611692586), (2556, 0.0020232508160301092), (589, 0.0020221858115611517), (399, 0.0020218226597218895), (1642, 0.0020194425724045575), (1514, 0.0020193419100246962), (766, 0.002018920829300841), (2317, 0.002018908810466528), (3627, 0.0020188766609594263), (2868, 0.0020187252489457384), (744, 0.002017853635060145), (1519, 0.0020177324545958566), (4402, 0.002017598687363863), (1760, 0.0020173711317172387), (136, 0.002014953870016526), (2735, 0.0020146103135246806), (3558, 0.002014422117524617), (3913, 0.002014391557205676), (2399, 0.0020141276664572124), (2593, 0.0020131274900872663), (1477, 0.0020125588170911432), (355, 0.0020119829546280357), (2482, 0.002011234632388442), (324, 0.0020110847549937648), (590, 0.002011041376153565), (3656, 0.002010894125154635), (1357, 0.002010787279165211), (4479, 0.0020096221348015982), (1814, 0.0020090537264467532), (2674, 0.002008557247870461), (4282, 0.002008519272723722), (4348, 0.0020065882822123374), (907, 0.0020065629565716504), (1079, 0.0020065245542844026), (2453, 0.00200542078921425), (121, 0.002005413691454779), (3767, 0.0020043615643276025), (4649, 0.002003833851841195), (1875, 0.00200369937358721), (3455, 0.0020034729696670793), (3876, 0.0020029045381176904), (457, 0.0020026331218343414), (359, 0.002002405402633421), (1308, 0.0020018704999746817), (1462, 0.0020013472133040455), (183, 0.002001116793195988), (4326, 0.002000475287790906), (2362, 0.0020001352257198062), (416, 0.0019994976388235143), (3050, 0.0019990930266925466), (4277, 0.001998585931626242), (3284, 0.0019983908178919626), (1672, 0.0019974621417934496), (910, 0.0019973686853882754), (1628, 0.001996491056498968), (2920, 0.001996419636684113), (2301, 0.0019959474226297702), (624, 0.0019957898351921945), (863, 0.0019945010545959034), (1065, 0.001994309681169007), (4620, 0.001993633266702762), (3742, 0.0019930589922655417), (957, 0.0019923964951648666), (2954, 0.001992322852637246), (1434, 0.0019921323334690464), (218, 0.0019920367471821603), (465, 0.001992035550425789), (4638, 0.0019903953809218217), (1730, 0.0019892751884478758), (3563, 0.001988667118993534), (934, 0.001988601117824545), (1675, 0.0019877671689783817), (759, 0.0019866180417516103), (2728, 0.001986086705581334), (2803, 0.0019856814181973418), (3953, 0.00198528399126388), (2011, 0.0019840689975144693), (3278, 0.00198402942224507), (1528, 0.001981843288123695), (1892, 0.0019813276370485686), (2265, 0.0019808358310395534), (1538, 0.00198055158341459), (2236, 0.0019799828358255164), (1503, 0.001978320543462718), (608, 0.001977893598150089), (2402, 0.001976039502083306), (3304, 0.001975744812339589), (1869, 0.001975554313732211), (3705, 0.0019744286470201266), (473, 0.001974045071748563), (3311, 0.001973772901474273), (449, 0.0019733974608662826), (1826, 0.001973071843623581), (4154, 0.0019716551681948184), (2338, 0.0019713700547166176), (1605, 0.0019712467048247865), (428, 0.0019699569635973787), (1161, 0.001969645274049576), (1220, 0.001969370659958587), (1719, 0.001969215616032446), (1366, 0.001968231728961571), (563, 0.001967527235459978), (4350, 0.001966703102700601), (581, 0.001966303374625878), (1690, 0.0019658782358249454), (2741, 0.00196462008040621), (981, 0.0019643763992751207), (3974, 0.0019639000692093797), (2285, 0.0019633818586422725), (936, 0.001963267631128629), (3986, 0.001963244317448364), (2457, 0.0019627714206032856), (1625, 0.0019620535470390465), (2248, 0.001961636400678748), (597, 0.0019614196662410834), (4143, 0.001961356247305559), (161, 0.0019612688750986393), (800, 0.0019612249704776866), (3863, 0.001960713979351921), (722, 0.0019605879271887513), (3108, 0.001958366822637249), (1219, 0.00195745368002786), (158, 0.0019572373655960804), (885, 0.0019571241042410366), (1980, 0.0019570712890819523), (1808, 0.001956859327982045), (2191, 0.001956837304925388), (3841, 0.0019567549763869273), (4080, 0.0019564141101321166), (1004, 0.0019557386785979836), (2976, 0.0019546191748207845), (4590, 0.0019538272255219635), (917, 0.0019530641344342463), (3795, 0.0019518322983424843), (3556, 0.001950966008354603), (594, 0.001950281156396374), (1921, 0.0019500269653825845), (815, 0.0019493588543457294), (4205, 0.001948934518644948), (1934, 0.0019482800856599396), (732, 0.0019478433458948413), (2163, 0.0019469381745640258), (1414, 0.0019465852563177032), (1762, 0.001946539603204626), (268, 0.0019461018426274012), (672, 0.0019456639748053465), (1539, 0.0019456356182932268), (1977, 0.0019427196642392431), (657, 0.0019376333126591683), (1423, 0.0019364781941015859), (2587, 0.0019363397279501156), (4608, 0.0019362885467954303), (1009, 0.0019356819115053628), (132, 0.0019344693432360304), (4661, 0.0019341297175982783), (1830, 0.0019333635175652715), (1954, 0.00193284680862019), (1251, 0.0019308139295420843), (495, 0.0019298689092623665), (3755, 0.0019284104130480432), (2047, 0.0019281291250287781), (200, 0.001928001339642623), (712, 0.0019277551117144122), (519, 0.0019265630357518397), (1608, 0.0019259872666458444), (2502, 0.0019251307744206894), (1199, 0.0019248127688468396), (808, 0.0019235848355547462), (2753, 0.0019222330190835745), (222, 0.00192048241616919), (92, 0.0019202175374560568), (4247, 0.0019177840377417206), (2975, 0.0019169444594585483), (4066, 0.0019161859117435716), (1186, 0.001915901327262131), (97, 0.0019148265300192987), (480, 0.0019146731717494007), (2237, 0.0019146432033685962), (3894, 0.0019136339330281958), (249, 0.0019135757020494958), (32, 0.001913456031723538), (4156, 0.0019126661246570086), (3895, 0.0019100803907009197), (4432, 0.0019098191415327802), (3880, 0.0019036410613762526), (4296, 0.0019005877729636408), (3655, 0.0018989086229782653), (3096, 0.0018967200368460392), (2721, 0.0018959449890437658), (4429, 0.0018945144282770656), (1217, 0.0018943041272438778), (1465, 0.0018917229546730355), (2520, 0.0018915093772757235), (1764, 0.0018913564236976933), (103, 0.0018898981858567231), (4748, 0.001889731776634614), (242, 0.0018891570728415707), (2942, 0.001888106337404773), (1397, 0.0018868898774653934), (165, 0.0018862279208302537), (2270, 0.001885260111382778), (642, 0.0018847057986092544), (357, 0.0018829029463707586), (1828, 0.0018827388731733918), (4386, 0.0018818540038082325), (1370, 0.0018813951433110448), (1450, 0.001880332830695636), (278, 0.0018792500913840087), (861, 0.001878948395489638), (3238, 0.0018777647416111565), (2761, 0.0018776736250149246), (2527, 0.0018766595594647058), (3393, 0.0018766115337189647), (3629, 0.0018739046611039262), (286, 0.001872388823647664), (269, 0.0018722768880971446), (4627, 0.001872271670176499), (2611, 0.0018719334653472229), (3569, 0.001870763536105491), (2743, 0.0018707397461818376), (2382, 0.001869123960422867), (1763, 0.0018685201129147056), (1833, 0.001868393556154693), (1215, 0.0018676855047205052), (4476, 0.001867114671810657), (60, 0.0018665155696952378), (4344, 0.001865179748111122), (1627, 0.0018651642202976116), (1565, 0.0018650649813073618), (2146, 0.0018646979503907138), (3376, 0.0018632443048698707), (496, 0.0018628553961354969), (3579, 0.0018624845859353525), (1691, 0.0018617833282735979), (3409, 0.0018615709132958457), (1743, 0.0018572694979374846), (432, 0.0018562387494987882), (1352, 0.0018534471725950566), (3065, 0.001853353608622438), (2933, 0.0018530014006188538), (3855, 0.0018514278875867074), (403, 0.0018494163537428451), (626, 0.0018491198709890586), (3669, 0.001849117257445322), (267, 0.0018490930145368453), (2035, 0.0018484638583651123), (3668, 0.0018468640626273388), (1356, 0.0018467926751637481), (3634, 0.0018448433281221526), (1365, 0.0018425474783319237), (175, 0.0018424640903804378), (617, 0.001842215151428325), (1312, 0.0018413585388172438), (3657, 0.0018413308449319167), (4636, 0.0018400527501982033), (2039, 0.0018353997017421253), (707, 0.0018352574093848633), (2157, 0.0018347347187621724), (196, 0.0018327244174053921), (2603, 0.0018325885807563957), (2127, 0.0018317494759076181), (3347, 0.0018313568025086777), (3821, 0.001829897276418628), (2211, 0.0018283033895053126), (3091, 0.0018263394424699881), (2132, 0.0018228869276232214), (3928, 0.0018226273046342751), (2876, 0.0018223458894247706), (2359, 0.0018211916916482083), (4733, 0.00182060732533701), (2287, 0.0018203942563094137), (16, 0.0018186439343890258), (616, 0.0018183306317334016), (1209, 0.0018182895517057519), (3252, 0.0018181371170157884), (2481, 0.0018170692723047434), (2221, 0.001813957043072868), (796, 0.0018115174906588112), (2969, 0.0018097001032943679), (442, 0.0018092296117011067), (3056, 0.0018075971767063353), (3024, 0.0018049912077292975), (25, 0.0018049224889555488), (4200, 0.001804027736481352), (1571, 0.0018039715465114911), (1305, 0.00180385940170419), (441, 0.0018031021856338698), (4015, 0.0017999147401468263), (2034, 0.0017976654606310823), (843, 0.0017943838926104945), (3548, 0.0017943381333682877), (113, 0.0017942956784200365), (1241, 0.0017937475607359824), (3751, 0.001793413479976048), (1427, 0.0017886445619738121), (1415, 0.0017877054736864734), (1464, 0.001787343270036637), (2526, 0.0017852694798563785), (433, 0.0017848372884670693), (3254, 0.0017840752806353684), (1950, 0.0017822683072234522), (645, 0.0017821050303396815), (3313, 0.001781413499449072), (1098, 0.0017792675146773016), (1624, 0.0017755719989220615), (1037, 0.0017749521562489131), (3875, 0.0017735145824347065), (4311, 0.0017727319682401216), (156, 0.0017725376162875245), (4744, 0.0017688223238032299), (4626, 0.0017641039383855441), (691, 0.001763513189969692), (3575, 0.0017627649944267588), (953, 0.001756824892177883), (4674, 0.0017524895395175228), (3431, 0.001752185676881859), (407, 0.0017507387952530378), (194, 0.001750646573088137), (510, 0.0017441318646429955), (3538, 0.0017398295898071012), (1144, 0.0017396114657171552), (1871, 0.00173666336664296), (63, 0.001736556348219351), (1886, 0.0017342761448030462), (706, 0.0017330630517522873), (609, 0.0017312502517541966), (527, 0.0017273880923691616), (2010, 0.0017231323817339821), (2917, 0.001718643800251085), (1677, 0.0017166393463696238), (3301, 0.001708664100424339), (2469, 0.0017083487458251392), (159, 0.001707718257990467), (1040, 0.0017042114007037965), (3152, 0.0017027006890052191), (2767, 0.0017023124072423918), (3199, 0.0016897011057050554), (571, 0.0016823319697146994), (607, 0.0016813468036448137), (3316, 0.0016784369730862268), (1403, 0.0016764378827763423), (3626, 0.001674023369939931), (271, 0.0016722160250236206), (453, 0.001668480140718695), (4652, 0.0016677943901375202), (351, 0.0016647076322734678), (82, 0.001655794393351425), (228, 0.0016525222643583915), (452, 0.0016433901394031626), (2636, 0.0016381422627798306), (4445, 0.0016380249805613759), (296, 0.0016353391241968962), (3983, 0.0016346572891763054), (1277, 0.0016316873920430804), (1648, 0.0016294688401720175), (3546, 0.0016279160941943833), (4301, 0.0016188501658483186), (2902, 0.0016047790850453045), (283, 0.0015967697412907168), (7, 0.0015674440938736275), (641, 0.0015625038783344653), (455, 0.001548329525015804), (4171, 0.0015420841755295815), (831, 0.0015403772569511644), (3365, 0.0015387326829460403), (243, 0.0015361726429603307), (129, 0.0015236681998072063), (330, 0.0015076522189410363), (858, 0.001473260352966246), (202, 0.0014317479609334185), (24, 0.0014251026316195806), (1780, 0.0014233790376078407), (3608, 0.0014212246540581785), (3835, 0.0013141378494059607), (2538, 0.0013055389087046313), (2841, 0.0012187535207589383), (2534, 0.0009733543378606079), (1, 0.0), (6, 0.0), (9, 0.0), (13, 0.0), (14, 0.0), (17, 0.0), (28, 0.0), (30, 0.0), (35, 0.0), (37, 0.0), (39, 0.0), (45, 0.0), (49, 0.0), (53, 0.0), (54, 0.0), (55, 0.0), (56, 0.0), (57, 0.0), (58, 0.0), (59, 0.0), (65, 0.0), (67, 0.0), (69, 0.0), (75, 0.0), (76, 0.0), (77, 0.0), (78, 0.0), (80, 0.0), (91, 0.0), (100, 0.0), (101, 0.0), (102, 0.0), (110, 0.0), (117, 0.0), (118, 0.0), (125, 0.0), (128, 0.0), (130, 0.0), (133, 0.0), (134, 0.0), (146, 0.0), (150, 0.0), (151, 0.0), (152, 0.0), (153, 0.0), (155, 0.0), (171, 0.0), (177, 0.0), (179, 0.0), (185, 0.0), (186, 0.0), (187, 0.0), (188, 0.0), (191, 0.0), (214, 0.0), (219, 0.0), (220, 0.0), (223, 0.0), (225, 0.0), (230, 0.0), (231, 0.0), (232, 0.0), (233, 0.0), (239, 0.0), (241, 0.0), (245, 0.0), (250, 0.0), (257, 0.0), (258, 0.0), (259, 0.0), (260, 0.0), (261, 0.0), (263, 0.0), (264, 0.0), (273, 0.0), (275, 0.0), (284, 0.0), (288, 0.0), (289, 0.0), (290, 0.0), (295, 0.0), (297, 0.0), (298, 0.0), (299, 0.0), (300, 0.0), (301, 0.0), (302, 0.0), (303, 0.0), (305, 0.0), (306, 0.0), (310, 0.0), (312, 0.0), (313, 0.0), (314, 0.0), (315, 0.0), (316, 0.0), (319, 0.0), (320, 0.0), (321, 0.0), (322, 0.0), (323, 0.0), (328, 0.0), (331, 0.0), (332, 0.0), (336, 0.0), (337, 0.0), (338, 0.0), (339, 0.0), (340, 0.0), (341, 0.0), (344, 0.0), (347, 0.0), (352, 0.0), (354, 0.0), (361, 0.0), (362, 0.0), (363, 0.0), (366, 0.0), (376, 0.0), (379, 0.0), (380, 0.0), (381, 0.0), (383, 0.0), (384, 0.0), (386, 0.0), (389, 0.0), (390, 0.0), (391, 0.0), (392, 0.0), (393, 0.0), (394, 0.0), (398, 0.0), (404, 0.0), (405, 0.0), (409, 0.0), (411, 0.0), (413, 0.0), (414, 0.0), (421, 0.0), (423, 0.0), (424, 0.0), (439, 0.0), (451, 0.0), (454, 0.0), (459, 0.0), (462, 0.0), (467, 0.0), (468, 0.0), (469, 0.0), (477, 0.0), (484, 0.0), (491, 0.0), (492, 0.0), (498, 0.0), (511, 0.0), (512, 0.0), (513, 0.0), (514, 0.0), (516, 0.0), (520, 0.0), (521, 0.0), (523, 0.0), (525, 0.0), (528, 0.0), (529, 0.0), (531, 0.0), (535, 0.0), (536, 0.0), (537, 0.0), (538, 0.0), (540, 0.0), (545, 0.0), (546, 0.0), (548, 0.0), (549, 0.0), (550, 0.0), (552, 0.0), (553, 0.0), (554, 0.0), (555, 0.0), (556, 0.0), (557, 0.0), (559, 0.0), (561, 0.0), (568, 0.0), (569, 0.0), (570, 0.0), (572, 0.0), (573, 0.0), (574, 0.0), (577, 0.0), (583, 0.0), (585, 0.0), (586, 0.0), (591, 0.0), (592, 0.0), (595, 0.0), (599, 0.0), (600, 0.0), (601, 0.0), (602, 0.0), (603, 0.0), (610, 0.0), (615, 0.0), (618, 0.0), (619, 0.0), (625, 0.0), (630, 0.0), (634, 0.0), (635, 0.0), (639, 0.0), (640, 0.0), (648, 0.0), (649, 0.0), (650, 0.0), (656, 0.0), (661, 0.0), (662, 0.0), (663, 0.0), (665, 0.0), (666, 0.0), (671, 0.0), (674, 0.0), (679, 0.0), (681, 0.0), (685, 0.0), (686, 0.0), (687, 0.0), (690, 0.0), (699, 0.0), (700, 0.0), (702, 0.0), (710, 0.0), (711, 0.0), (713, 0.0), (714, 0.0), (718, 0.0), (720, 0.0), (723, 0.0), (724, 0.0), (725, 0.0), (730, 0.0), (736, 0.0), (738, 0.0), (741, 0.0), (747, 0.0), (748, 0.0), (752, 0.0), (754, 0.0), (758, 0.0), (762, 0.0), (763, 0.0), (764, 0.0), (765, 0.0), (768, 0.0), (771, 0.0), (772, 0.0), (775, 0.0), (776, 0.0), (778, 0.0), (779, 0.0), (780, 0.0), (781, 0.0), (784, 0.0), (785, 0.0), (789, 0.0), (793, 0.0), (797, 0.0), (802, 0.0), (803, 0.0), (809, 0.0), (811, 0.0), (812, 0.0), (814, 0.0), (819, 0.0), (820, 0.0), (821, 0.0), (822, 0.0), (834, 0.0), (835, 0.0), (836, 0.0), (837, 0.0), (839, 0.0), (840, 0.0), (841, 0.0), (846, 0.0), (849, 0.0), (859, 0.0), (877, 0.0), (881, 0.0), (882, 0.0), (891, 0.0), (898, 0.0), (902, 0.0), (906, 0.0), (909, 0.0), (912, 0.0), (913, 0.0), (914, 0.0), (919, 0.0), (920, 0.0), (926, 0.0), (932, 0.0), (938, 0.0), (943, 0.0), (945, 0.0), (950, 0.0), (954, 0.0), (955, 0.0), (956, 0.0), (960, 0.0), (961, 0.0), (964, 0.0), (965, 0.0), (970, 0.0), (971, 0.0), (972, 0.0), (977, 0.0), (978, 0.0), (983, 0.0), (990, 0.0), (992, 0.0), (995, 0.0), (996, 0.0), (997, 0.0), (1008, 0.0), (1011, 0.0), (1012, 0.0), (1013, 0.0), (1014, 0.0), (1016, 0.0), (1022, 0.0), (1025, 0.0), (1029, 0.0), (1031, 0.0), (1039, 0.0), (1045, 0.0), (1046, 0.0), (1051, 0.0), (1055, 0.0), (1056, 0.0), (1057, 0.0), (1062, 0.0), (1066, 0.0), (1069, 0.0), (1070, 0.0), (1073, 0.0), (1081, 0.0), (1082, 0.0), (1086, 0.0), (1089, 0.0), (1090, 0.0), (1091, 0.0), (1093, 0.0), (1094, 0.0), (1095, 0.0), (1099, 0.0), (1105, 0.0), (1108, 0.0), (1113, 0.0), (1118, 0.0), (1120, 0.0), (1126, 0.0), (1127, 0.0), (1129, 0.0), (1134, 0.0), (1135, 0.0), (1139, 0.0), (1142, 0.0), (1146, 0.0), (1147, 0.0), (1149, 0.0), (1150, 0.0), (1151, 0.0), (1152, 0.0), (1154, 0.0), (1155, 0.0), (1157, 0.0), (1158, 0.0), (1159, 0.0), (1164, 0.0), (1165, 0.0), (1166, 0.0), (1171, 0.0), (1172, 0.0), (1178, 0.0), (1180, 0.0), (1181, 0.0), (1189, 0.0), (1190, 0.0), (1193, 0.0), (1195, 0.0), (1196, 0.0), (1198, 0.0), (1200, 0.0), (1201, 0.0), (1205, 0.0), (1207, 0.0), (1211, 0.0), (1212, 0.0), (1218, 0.0), (1227, 0.0), (1228, 0.0), (1233, 0.0), (1235, 0.0), (1240, 0.0), (1244, 0.0), (1246, 0.0), (1250, 0.0), (1256, 0.0), (1258, 0.0), (1262, 0.0), (1263, 0.0), (1265, 0.0), (1266, 0.0), (1268, 0.0), (1269, 0.0), (1270, 0.0), (1271, 0.0), (1274, 0.0), (1278, 0.0), (1280, 0.0), (1283, 0.0), (1287, 0.0), (1288, 0.0), (1291, 0.0), (1293, 0.0), (1299, 0.0), (1302, 0.0), (1307, 0.0), (1309, 0.0), (1310, 0.0), (1311, 0.0), (1315, 0.0), (1316, 0.0), (1321, 0.0), (1322, 0.0), (1323, 0.0), (1326, 0.0), (1327, 0.0), (1328, 0.0), (1331, 0.0), (1332, 0.0), (1333, 0.0), (1336, 0.0), (1345, 0.0), (1346, 0.0), (1354, 0.0), (1358, 0.0), (1363, 0.0), (1368, 0.0), (1373, 0.0), (1374, 0.0), (1376, 0.0), (1380, 0.0), (1381, 0.0), (1384, 0.0), (1386, 0.0), (1390, 0.0), (1391, 0.0), (1395, 0.0), (1396, 0.0), (1399, 0.0), (1401, 0.0), (1405, 0.0), (1418, 0.0), (1424, 0.0), (1425, 0.0), (1426, 0.0), (1431, 0.0), (1435, 0.0), (1437, 0.0), (1441, 0.0), (1443, 0.0), (1444, 0.0), (1445, 0.0), (1447, 0.0), (1449, 0.0), (1452, 0.0), (1453, 0.0), (1457, 0.0), (1458, 0.0), (1459, 0.0), (1460, 0.0), (1466, 0.0), (1467, 0.0), (1470, 0.0), (1473, 0.0), (1482, 0.0), (1486, 0.0), (1487, 0.0), (1490, 0.0), (1491, 0.0), (1495, 0.0), (1496, 0.0), (1501, 0.0), (1502, 0.0), (1508, 0.0), (1512, 0.0), (1517, 0.0), (1520, 0.0), (1521, 0.0), (1522, 0.0), (1523, 0.0), (1524, 0.0), (1525, 0.0), (1526, 0.0), (1529, 0.0), (1530, 0.0), (1531, 0.0), (1535, 0.0), (1541, 0.0), (1546, 0.0), (1548, 0.0), (1552, 0.0), (1554, 0.0), (1556, 0.0), (1557, 0.0), (1560, 0.0), (1563, 0.0), (1564, 0.0), (1566, 0.0), (1573, 0.0), (1576, 0.0), (1577, 0.0), (1579, 0.0), (1581, 0.0), (1583, 0.0), (1584, 0.0), (1586, 0.0), (1587, 0.0), (1588, 0.0), (1590, 0.0), (1599, 0.0), (1600, 0.0), (1601, 0.0), (1602, 0.0), (1603, 0.0), (1604, 0.0), (1606, 0.0), (1607, 0.0), (1609, 0.0), (1610, 0.0), (1611, 0.0), (1615, 0.0), (1618, 0.0), (1622, 0.0), (1631, 0.0), (1632, 0.0), (1635, 0.0), (1638, 0.0), (1639, 0.0), (1640, 0.0), (1644, 0.0), (1646, 0.0), (1649, 0.0), (1651, 0.0), (1652, 0.0), (1657, 0.0), (1659, 0.0), (1661, 0.0), (1662, 0.0), (1664, 0.0), (1668, 0.0), (1669, 0.0), (1673, 0.0), (1676, 0.0), (1679, 0.0), (1684, 0.0), (1686, 0.0), (1692, 0.0), (1695, 0.0), (1696, 0.0), (1697, 0.0), (1698, 0.0), (1700, 0.0), (1701, 0.0), (1702, 0.0), (1704, 0.0), (1709, 0.0), (1713, 0.0), (1714, 0.0), (1715, 0.0), (1718, 0.0), (1723, 0.0), (1724, 0.0), (1726, 0.0), (1728, 0.0), (1729, 0.0), (1731, 0.0), (1732, 0.0), (1734, 0.0), (1737, 0.0), (1741, 0.0), (1745, 0.0), (1746, 0.0), (1749, 0.0), (1751, 0.0), (1755, 0.0), (1757, 0.0), (1758, 0.0), (1761, 0.0), (1766, 0.0), (1767, 0.0), (1769, 0.0), (1771, 0.0), (1772, 0.0), (1778, 0.0), (1783, 0.0), (1786, 0.0), (1787, 0.0), (1788, 0.0), (1790, 0.0), (1791, 0.0), (1794, 0.0), (1799, 0.0), (1800, 0.0), (1803, 0.0), (1809, 0.0), (1810, 0.0), (1812, 0.0), (1818, 0.0), (1820, 0.0), (1823, 0.0), (1825, 0.0), (1834, 0.0), (1835, 0.0), (1836, 0.0), (1837, 0.0), (1839, 0.0), (1841, 0.0), (1842, 0.0), (1846, 0.0), (1849, 0.0), (1850, 0.0), (1855, 0.0), (1856, 0.0), (1857, 0.0), (1859, 0.0), (1867, 0.0), (1868, 0.0), (1870, 0.0), (1879, 0.0), (1880, 0.0), (1881, 0.0), (1883, 0.0), (1889, 0.0), (1894, 0.0), (1898, 0.0), (1899, 0.0), (1900, 0.0), (1901, 0.0), (1904, 0.0), (1906, 0.0), (1908, 0.0), (1910, 0.0), (1911, 0.0), (1912, 0.0), (1914, 0.0), (1917, 0.0), (1925, 0.0), (1926, 0.0), (1928, 0.0), (1930, 0.0), (1932, 0.0), (1935, 0.0), (1938, 0.0), (1939, 0.0), (1940, 0.0), (1941, 0.0), (1948, 0.0), (1952, 0.0), (1953, 0.0), (1955, 0.0), (1957, 0.0), (1961, 0.0), (1962, 0.0), (1963, 0.0), (1965, 0.0), (1966, 0.0), (1972, 0.0), (1975, 0.0), (1976, 0.0), (1979, 0.0), (1982, 0.0), (1984, 0.0), (1988, 0.0), (1990, 0.0), (1991, 0.0), (1994, 0.0), (1998, 0.0), (1999, 0.0), (2002, 0.0), (2005, 0.0), (2006, 0.0), (2007, 0.0), (2009, 0.0), (2012, 0.0), (2013, 0.0), (2015, 0.0), (2018, 0.0), (2019, 0.0), (2020, 0.0), (2021, 0.0), (2025, 0.0), (2028, 0.0), (2030, 0.0), (2032, 0.0), (2033, 0.0), (2036, 0.0), (2038, 0.0), (2041, 0.0), (2042, 0.0), (2043, 0.0), (2044, 0.0), (2046, 0.0), (2050, 0.0), (2052, 0.0), (2054, 0.0), (2058, 0.0), (2059, 0.0), (2062, 0.0), (2063, 0.0), (2064, 0.0), (2071, 0.0), (2074, 0.0), (2078, 0.0), (2079, 0.0), (2081, 0.0), (2086, 0.0), (2090, 0.0), (2092, 0.0), (2094, 0.0), (2095, 0.0), (2101, 0.0), (2106, 0.0), (2107, 0.0), (2113, 0.0), (2115, 0.0), (2120, 0.0), (2124, 0.0), (2125, 0.0), (2128, 0.0), (2130, 0.0), (2135, 0.0), (2136, 0.0), (2138, 0.0), (2139, 0.0), (2140, 0.0), (2145, 0.0), (2147, 0.0), (2150, 0.0), (2153, 0.0), (2160, 0.0), (2161, 0.0), (2164, 0.0), (2165, 0.0), (2167, 0.0), (2168, 0.0), (2171, 0.0), (2172, 0.0), (2175, 0.0), (2177, 0.0), (2179, 0.0), (2182, 0.0), (2183, 0.0), (2185, 0.0), (2186, 0.0), (2194, 0.0), (2198, 0.0), (2200, 0.0), (2202, 0.0), (2203, 0.0), (2205, 0.0), (2207, 0.0), (2208, 0.0), (2215, 0.0), (2220, 0.0), (2225, 0.0), (2231, 0.0), (2232, 0.0), (2233, 0.0), (2238, 0.0), (2239, 0.0), (2241, 0.0), (2243, 0.0), (2244, 0.0), (2245, 0.0), (2247, 0.0), (2253, 0.0), (2259, 0.0), (2261, 0.0), (2262, 0.0), (2263, 0.0), (2267, 0.0), (2271, 0.0), (2272, 0.0), (2273, 0.0), (2274, 0.0), (2278, 0.0), (2281, 0.0), (2282, 0.0), (2283, 0.0), (2290, 0.0), (2291, 0.0), (2294, 0.0), (2296, 0.0), (2298, 0.0), (2305, 0.0), (2307, 0.0), (2308, 0.0), (2312, 0.0), (2314, 0.0), (2315, 0.0), (2325, 0.0), (2327, 0.0), (2328, 0.0), (2329, 0.0), (2330, 0.0), (2331, 0.0), (2332, 0.0), (2333, 0.0), (2335, 0.0), (2337, 0.0), (2339, 0.0), (2341, 0.0), (2342, 0.0), (2343, 0.0), (2345, 0.0), (2351, 0.0), (2357, 0.0), (2358, 0.0), (2364, 0.0), (2365, 0.0), (2369, 0.0), (2371, 0.0), (2372, 0.0), (2373, 0.0), (2376, 0.0), (2377, 0.0), (2380, 0.0), (2381, 0.0), (2384, 0.0), (2395, 0.0), (2398, 0.0), (2413, 0.0), (2414, 0.0), (2420, 0.0), (2426, 0.0), (2431, 0.0), (2432, 0.0), (2433, 0.0), (2435, 0.0), (2439, 0.0), (2449, 0.0), (2450, 0.0), (2451, 0.0), (2452, 0.0), (2455, 0.0), (2456, 0.0), (2458, 0.0), (2460, 0.0), (2462, 0.0), (2470, 0.0), (2471, 0.0), (2472, 0.0), (2476, 0.0), (2479, 0.0), (2483, 0.0), (2485, 0.0), (2491, 0.0), (2493, 0.0), (2498, 0.0), (2499, 0.0), (2500, 0.0), (2501, 0.0), (2503, 0.0), (2504, 0.0), (2506, 0.0), (2508, 0.0), (2510, 0.0), (2511, 0.0), (2513, 0.0), (2514, 0.0), (2515, 0.0), (2517, 0.0), (2518, 0.0), (2521, 0.0), (2523, 0.0), (2532, 0.0), (2536, 0.0), (2539, 0.0), (2541, 0.0), (2543, 0.0), (2544, 0.0), (2547, 0.0), (2549, 0.0), (2551, 0.0), (2562, 0.0), (2564, 0.0), (2566, 0.0), (2567, 0.0), (2573, 0.0), (2575, 0.0), (2576, 0.0), (2577, 0.0), (2582, 0.0), (2583, 0.0), (2584, 0.0), (2586, 0.0), (2588, 0.0), (2589, 0.0), (2590, 0.0), (2594, 0.0), (2596, 0.0), (2597, 0.0), (2599, 0.0), (2604, 0.0), (2605, 0.0), (2615, 0.0), (2616, 0.0), (2620, 0.0), (2630, 0.0), (2631, 0.0), (2637, 0.0), (2639, 0.0), (2641, 0.0), (2644, 0.0), (2646, 0.0), (2648, 0.0), (2656, 0.0), (2657, 0.0), (2658, 0.0), (2662, 0.0), (2663, 0.0), (2665, 0.0), (2666, 0.0), (2667, 0.0), (2669, 0.0), (2670, 0.0), (2671, 0.0), (2672, 0.0), (2676, 0.0), (2677, 0.0), (2680, 0.0), (2681, 0.0), (2683, 0.0), (2684, 0.0), (2686, 0.0), (2690, 0.0), (2691, 0.0), (2700, 0.0), (2701, 0.0), (2703, 0.0), (2704, 0.0), (2708, 0.0), (2709, 0.0), (2711, 0.0), (2713, 0.0), (2715, 0.0), (2717, 0.0), (2719, 0.0), (2726, 0.0), (2729, 0.0), (2730, 0.0), (2732, 0.0), (2733, 0.0), (2734, 0.0), (2749, 0.0), (2750, 0.0), (2754, 0.0), (2756, 0.0), (2763, 0.0), (2773, 0.0), (2774, 0.0), (2781, 0.0), (2785, 0.0), (2787, 0.0), (2789, 0.0), (2793, 0.0), (2794, 0.0), (2799, 0.0), (2806, 0.0), (2807, 0.0), (2810, 0.0), (2811, 0.0), (2813, 0.0), (2814, 0.0), (2817, 0.0), (2818, 0.0), (2820, 0.0), (2823, 0.0), (2828, 0.0), (2829, 0.0), (2836, 0.0), (2837, 0.0), (2843, 0.0), (2847, 0.0), (2850, 0.0), (2851, 0.0), (2855, 0.0), (2856, 0.0), (2860, 0.0), (2864, 0.0), (2865, 0.0), (2866, 0.0), (2867, 0.0), (2869, 0.0), (2873, 0.0), (2875, 0.0), (2877, 0.0), (2880, 0.0), (2885, 0.0), (2891, 0.0), (2896, 0.0), (2898, 0.0), (2905, 0.0), (2906, 0.0), (2921, 0.0), (2922, 0.0), (2927, 0.0), (2928, 0.0), (2930, 0.0), (2935, 0.0), (2938, 0.0), (2941, 0.0), (2947, 0.0), (2951, 0.0), (2952, 0.0), (2956, 0.0), (2958, 0.0), (2959, 0.0), (2960, 0.0), (2967, 0.0), (2973, 0.0), (2979, 0.0), (2983, 0.0), (2984, 0.0), (2990, 0.0), (2991, 0.0), (3001, 0.0), (3002, 0.0), (3006, 0.0), (3008, 0.0), (3009, 0.0), (3017, 0.0), (3021, 0.0), (3022, 0.0), (3023, 0.0), (3025, 0.0), (3029, 0.0), (3033, 0.0), (3034, 0.0), (3038, 0.0), (3039, 0.0), (3041, 0.0), (3048, 0.0), (3049, 0.0), (3053, 0.0), (3054, 0.0), (3058, 0.0), (3059, 0.0), (3060, 0.0), (3061, 0.0), (3063, 0.0), (3066, 0.0), (3068, 0.0), (3078, 0.0), (3079, 0.0), (3082, 0.0), (3087, 0.0), (3088, 0.0), (3089, 0.0), (3090, 0.0), (3100, 0.0), (3103, 0.0), (3104, 0.0), (3105, 0.0), (3106, 0.0), (3107, 0.0), (3114, 0.0), (3115, 0.0), (3124, 0.0), (3126, 0.0), (3130, 0.0), (3131, 0.0), (3132, 0.0), (3133, 0.0), (3134, 0.0), (3135, 0.0), (3136, 0.0), (3138, 0.0), (3143, 0.0), (3144, 0.0), (3145, 0.0), (3156, 0.0), (3160, 0.0), (3161, 0.0), (3162, 0.0), (3163, 0.0), (3164, 0.0), (3168, 0.0), (3169, 0.0), (3172, 0.0), (3176, 0.0), (3177, 0.0), (3180, 0.0), (3181, 0.0), (3185, 0.0), (3189, 0.0), (3190, 0.0), (3191, 0.0), (3193, 0.0), (3197, 0.0), (3201, 0.0), (3203, 0.0), (3204, 0.0), (3205, 0.0), (3207, 0.0), (3209, 0.0), (3212, 0.0), (3213, 0.0), (3215, 0.0), (3217, 0.0), (3221, 0.0), (3222, 0.0), (3223, 0.0), (3229, 0.0), (3231, 0.0), (3236, 0.0), (3244, 0.0), (3247, 0.0), (3250, 0.0), (3251, 0.0), (3253, 0.0), (3255, 0.0), (3256, 0.0), (3261, 0.0), (3263, 0.0), (3265, 0.0), (3266, 0.0), (3270, 0.0), (3272, 0.0), (3277, 0.0), (3281, 0.0), (3286, 0.0), (3287, 0.0), (3288, 0.0), (3294, 0.0), (3295, 0.0), (3305, 0.0), (3309, 0.0), (3319, 0.0), (3321, 0.0), (3323, 0.0), (3324, 0.0), (3332, 0.0), (3338, 0.0), (3339, 0.0), (3340, 0.0), (3345, 0.0), (3361, 0.0), (3366, 0.0), (3367, 0.0), (3371, 0.0), (3378, 0.0), (3385, 0.0), (3395, 0.0), (3397, 0.0), (3398, 0.0), (3400, 0.0), (3401, 0.0), (3404, 0.0), (3405, 0.0), (3411, 0.0), (3420, 0.0), (3422, 0.0), (3424, 0.0), (3426, 0.0), (3427, 0.0), (3428, 0.0), (3429, 0.0), (3432, 0.0), (3438, 0.0), (3439, 0.0), (3440, 0.0), (3442, 0.0), (3444, 0.0), (3446, 0.0), (3448, 0.0), (3451, 0.0), (3454, 0.0), (3457, 0.0), (3459, 0.0), (3461, 0.0), (3462, 0.0), (3467, 0.0), (3468, 0.0), (3469, 0.0), (3470, 0.0), (3472, 0.0), (3473, 0.0), (3476, 0.0), (3480, 0.0), (3481, 0.0), (3482, 0.0), (3484, 0.0), (3485, 0.0), (3486, 0.0), (3488, 0.0), (3489, 0.0), (3490, 0.0), (3494, 0.0), (3495, 0.0), (3502, 0.0), (3505, 0.0), (3509, 0.0), (3513, 0.0), (3515, 0.0), (3518, 0.0), (3519, 0.0), (3520, 0.0), (3522, 0.0), (3525, 0.0), (3529, 0.0), (3530, 0.0), (3532, 0.0), (3539, 0.0), (3543, 0.0), (3545, 0.0), (3547, 0.0), (3549, 0.0), (3550, 0.0), (3554, 0.0), (3555, 0.0), (3562, 0.0), (3566, 0.0), (3568, 0.0), (3572, 0.0), (3573, 0.0), (3574, 0.0), (3576, 0.0), (3578, 0.0), (3581, 0.0), (3583, 0.0), (3585, 0.0), (3591, 0.0), (3592, 0.0), (3598, 0.0), (3600, 0.0), (3602, 0.0), (3603, 0.0), (3604, 0.0), (3605, 0.0), (3607, 0.0), (3609, 0.0), (3610, 0.0), (3617, 0.0), (3619, 0.0), (3622, 0.0), (3625, 0.0), (3628, 0.0), (3630, 0.0), (3631, 0.0), (3632, 0.0), (3633, 0.0), (3644, 0.0), (3648, 0.0), (3649, 0.0), (3662, 0.0), (3663, 0.0), (3664, 0.0), (3671, 0.0), (3676, 0.0), (3679, 0.0), (3681, 0.0), (3682, 0.0), (3683, 0.0), (3685, 0.0), (3686, 0.0), (3688, 0.0), (3690, 0.0), (3693, 0.0), (3695, 0.0), (3697, 0.0), (3698, 0.0), (3700, 0.0), (3702, 0.0), (3703, 0.0), (3709, 0.0), (3710, 0.0), (3715, 0.0), (3717, 0.0), (3718, 0.0), (3720, 0.0), (3721, 0.0), (3722, 0.0), (3724, 0.0), (3726, 0.0), (3730, 0.0), (3732, 0.0), (3735, 0.0), (3736, 0.0), (3740, 0.0), (3743, 0.0), (3744, 0.0), (3746, 0.0), (3748, 0.0), (3752, 0.0), (3753, 0.0), (3758, 0.0), (3759, 0.0), (3760, 0.0), (3761, 0.0), (3764, 0.0), (3773, 0.0), (3776, 0.0), (3782, 0.0), (3783, 0.0), (3786, 0.0), (3787, 0.0), (3788, 0.0), (3789, 0.0), (3790, 0.0), (3791, 0.0), (3793, 0.0), (3796, 0.0), (3800, 0.0), (3805, 0.0), (3808, 0.0), (3810, 0.0), (3816, 0.0), (3817, 0.0), (3818, 0.0), (3820, 0.0), (3825, 0.0), (3831, 0.0), (3834, 0.0), (3836, 0.0), (3837, 0.0), (3840, 0.0), (3843, 0.0), (3844, 0.0), (3846, 0.0), (3850, 0.0), (3851, 0.0), (3852, 0.0), (3858, 0.0), (3861, 0.0), (3864, 0.0), (3865, 0.0), (3869, 0.0), (3870, 0.0), (3871, 0.0), (3879, 0.0), (3881, 0.0), (3885, 0.0), (3886, 0.0), (3887, 0.0), (3891, 0.0), (3896, 0.0), (3897, 0.0), (3907, 0.0), (3908, 0.0), (3909, 0.0), (3912, 0.0), (3914, 0.0), (3916, 0.0), (3918, 0.0), (3921, 0.0), (3923, 0.0), (3926, 0.0), (3929, 0.0), (3930, 0.0), (3931, 0.0), (3933, 0.0), (3934, 0.0), (3936, 0.0), (3937, 0.0), (3940, 0.0), (3942, 0.0), (3943, 0.0), (3948, 0.0), (3950, 0.0), (3955, 0.0), (3963, 0.0), (3966, 0.0), (3968, 0.0), (3969, 0.0), (3970, 0.0), (3971, 0.0), (3972, 0.0), (3975, 0.0), (3977, 0.0), (3979, 0.0), (3980, 0.0), (3981, 0.0), (3988, 0.0), (3989, 0.0), (3991, 0.0), (3994, 0.0), (3995, 0.0), (3997, 0.0), (3998, 0.0), (4001, 0.0), (4010, 0.0), (4012, 0.0), (4021, 0.0), (4026, 0.0), (4027, 0.0), (4031, 0.0), (4034, 0.0), (4035, 0.0), (4037, 0.0), (4039, 0.0), (4040, 0.0), (4041, 0.0), (4043, 0.0), (4044, 0.0), (4047, 0.0), (4055, 0.0), (4057, 0.0), (4058, 0.0), (4061, 0.0), (4064, 0.0), (4065, 0.0), (4071, 0.0), (4072, 0.0), (4073, 0.0), (4076, 0.0), (4077, 0.0), (4078, 0.0), (4086, 0.0), (4090, 0.0), (4091, 0.0), (4099, 0.0), (4100, 0.0), (4103, 0.0), (4106, 0.0), (4108, 0.0), (4110, 0.0), (4112, 0.0), (4114, 0.0), (4115, 0.0), (4120, 0.0), (4127, 0.0), (4128, 0.0), (4131, 0.0), (4134, 0.0), (4144, 0.0), (4146, 0.0), (4149, 0.0), (4157, 0.0), (4158, 0.0), (4162, 0.0), (4166, 0.0), (4167, 0.0), (4168, 0.0), (4170, 0.0), (4179, 0.0), (4180, 0.0), (4181, 0.0), (4185, 0.0), (4186, 0.0), (4188, 0.0), (4190, 0.0), (4191, 0.0), (4194, 0.0), (4195, 0.0), (4196, 0.0), (4198, 0.0), (4199, 0.0), (4201, 0.0), (4204, 0.0), (4207, 0.0), (4208, 0.0), (4210, 0.0), (4211, 0.0), (4212, 0.0), (4214, 0.0), (4215, 0.0), (4217, 0.0), (4218, 0.0), (4219, 0.0), (4223, 0.0), (4224, 0.0), (4229, 0.0), (4234, 0.0), (4236, 0.0), (4238, 0.0), (4239, 0.0), (4240, 0.0), (4241, 0.0), (4248, 0.0), (4250, 0.0), (4251, 0.0), (4252, 0.0), (4253, 0.0), (4258, 0.0), (4260, 0.0), (4270, 0.0), (4271, 0.0), (4272, 0.0), (4276, 0.0), (4278, 0.0), (4279, 0.0), (4285, 0.0), (4290, 0.0), (4291, 0.0), (4294, 0.0), (4297, 0.0), (4300, 0.0), (4302, 0.0), (4303, 0.0), (4307, 0.0), (4310, 0.0), (4312, 0.0), (4313, 0.0), (4314, 0.0), (4315, 0.0), (4316, 0.0), (4317, 0.0), (4319, 0.0), (4323, 0.0), (4328, 0.0), (4331, 0.0), (4332, 0.0), (4339, 0.0), (4341, 0.0), (4342, 0.0), (4346, 0.0), (4347, 0.0), (4352, 0.0), (4353, 0.0), (4358, 0.0), (4360, 0.0), (4364, 0.0), (4365, 0.0), (4367, 0.0), (4370, 0.0), (4372, 0.0), (4373, 0.0), (4376, 0.0), (4377, 0.0), (4378, 0.0), (4383, 0.0), (4384, 0.0), (4388, 0.0), (4389, 0.0), (4392, 0.0), (4393, 0.0), (4405, 0.0), (4406, 0.0), (4408, 0.0), (4410, 0.0), (4413, 0.0), (4414, 0.0), (4415, 0.0), (4417, 0.0), (4421, 0.0), (4424, 0.0), (4425, 0.0), (4426, 0.0), (4434, 0.0), (4437, 0.0), (4438, 0.0), (4439, 0.0), (4441, 0.0), (4447, 0.0), (4451, 0.0), (4452, 0.0), (4453, 0.0), (4454, 0.0), (4455, 0.0), (4456, 0.0), (4457, 0.0), (4460, 0.0), (4463, 0.0), (4464, 0.0), (4467, 0.0), (4468, 0.0), (4478, 0.0), (4480, 0.0), (4483, 0.0), (4485, 0.0), (4488, 0.0), (4491, 0.0), (4492, 0.0), (4493, 0.0), (4496, 0.0), (4499, 0.0), (4500, 0.0), (4506, 0.0), (4508, 0.0), (4509, 0.0), (4513, 0.0), (4514, 0.0), (4515, 0.0), (4519, 0.0), (4524, 0.0), (4525, 0.0), (4526, 0.0), (4527, 0.0), (4532, 0.0), (4537, 0.0), (4539, 0.0), (4541, 0.0), (4547, 0.0), (4548, 0.0), (4549, 0.0), (4552, 0.0), (4556, 0.0), (4558, 0.0), (4559, 0.0), (4560, 0.0), (4561, 0.0), (4562, 0.0), (4564, 0.0), (4565, 0.0), (4568, 0.0), (4569, 0.0), (4570, 0.0), (4577, 0.0), (4578, 0.0), (4580, 0.0), (4585, 0.0), (4586, 0.0), (4588, 0.0), (4592, 0.0), (4595, 0.0), (4597, 0.0), (4599, 0.0), (4600, 0.0), (4609, 0.0), (4613, 0.0), (4615, 0.0), (4618, 0.0), (4622, 0.0), (4630, 0.0), (4631, 0.0), (4635, 0.0), (4639, 0.0), (4642, 0.0), (4644, 0.0), (4645, 0.0), (4646, 0.0), (4647, 0.0), (4648, 0.0), (4651, 0.0), (4654, 0.0), (4655, 0.0), (4659, 0.0), (4662, 0.0), (4664, 0.0), (4665, 0.0), (4666, 0.0), (4671, 0.0), (4672, 0.0), (4675, 0.0), (4676, 0.0), (4678, 0.0), (4681, 0.0), (4682, 0.0), (4689, 0.0), (4690, 0.0), (4691, 0.0), (4695, 0.0), (4697, 0.0), (4698, 0.0), (4700, 0.0), (4702, 0.0), (4703, 0.0), (4708, 0.0), (4711, 0.0), (4714, 0.0), (4716, 0.0), (4720, 0.0), (4728, 0.0), (4730, 0.0), (4737, 0.0), (4738, 0.0), (4740, 0.0), (4741, 0.0), (4742, 0.0), (4745, 0.0), (4746, 0.0), (4750, 0.0), (4751, 0.0), (4754, 0.0), (4755, 0.0), (4758, 0.0), (4759, 0.0)]\n"
          ]
        }
      ]
    },
    {
      "cell_type": "code",
      "source": [
        "print('Top 10 Movies Suggested for You : \\n')\n",
        "\n",
        "i=1\n",
        "\n",
        "for movie in Sorted_Similar_Movies:\n",
        "  index = movie[0]\n",
        "  title_from_index = df[df.index==index]['Movie_Title'].values[0]\n",
        "  if(i<11):\n",
        "    print(i,',',title_from_index)\n",
        "    i+=1"
      ],
      "metadata": {
        "colab": {
          "base_uri": "https://localhost:8080/"
        },
        "id": "DsEHosTRTrmj",
        "outputId": "2e806935-6663-47e1-c1db-a425a10e6d77"
      },
      "execution_count": 35,
      "outputs": [
        {
          "output_type": "stream",
          "name": "stdout",
          "text": [
            "Top 10 Movies Suggested for You : \n",
            "\n",
            "1 , City of God\n",
            "2 , Night of the Living Dead\n",
            "3 , Step Up 2: The Streets\n",
            "4 , A Nightmare on Elm Street 3: Dream Warriors\n",
            "5 , Two Evil Eyes\n",
            "6 , The Family Man\n",
            "7 , S.W.A.T.\n",
            "8 , Tuck Everlasting\n",
            "9 , Disturbing Behavior\n",
            "10 , The Place Beyond the Pines\n"
          ]
        }
      ]
    },
    {
      "cell_type": "code",
      "source": [
        "Movie_Name = input('Enter Your Favourite Movie Name : ')\n",
        "\n",
        "list_Of_All_Titles = df['Movie_Title'].tolist()\n",
        "\n",
        "Find_Close_Match = difflib.get_close_matches(Movie_Name, list_Of_All_Titles)\n",
        "\n",
        "Close_Match = Find_Close_Match[0]\n",
        "\n",
        "Index_Of_Movie = df[df.Movie_Title == Close_Match]['Movie_ID'].values[0]\n",
        "\n",
        "Recommendation_Score = list(enumerate(Similarity_Score[Index_Of_Movie]))\n",
        "\n",
        "Sorted_Similar_Movies = sorted(Recommendation_Score,key = lambda x:x[1], reverse = True)\n",
        "\n",
        "print('Top 5 Movies Suggested For You : \\n')\n",
        "\n",
        "i=1\n",
        "\n",
        "for movie in Sorted_Similar_Movies:\n",
        "  index = movie[0]\n",
        "  title_from_index = df[df.Movie_ID==index]['Movie_Title'].values\n",
        "  if(i<6):\n",
        "    print(i,',',title_from_index)\n",
        "    i+=1"
      ],
      "metadata": {
        "colab": {
          "base_uri": "https://localhost:8080/"
        },
        "id": "YM_-lbJpV4aM",
        "outputId": "5ebedcb7-2d97-4903-96f2-7ea343be0a48"
      },
      "execution_count": 36,
      "outputs": [
        {
          "output_type": "stream",
          "name": "stdout",
          "text": [
            "Enter Your Favourite Movie Name : inception\n",
            "Top 5 Movies Suggested For You : \n",
            "\n",
            "1 , ['Inception']\n",
            "2 , ['Day of the Dead']\n",
            "3 , ['Tango']\n",
            "4 , [\"Say It Isn't So\"]\n",
            "5 , ['Return of the Living Dead 3']\n"
          ]
        }
      ]
    }
  ]
}